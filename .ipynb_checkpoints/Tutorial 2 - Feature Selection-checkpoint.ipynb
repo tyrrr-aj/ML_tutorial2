{
 "cells": [
  {
   "cell_type": "markdown",
   "metadata": {},
   "source": [
    "# Podstawy uczenia maszynowego - tutorial 2: Feature selection and extraction"
   ]
  },
  {
   "cell_type": "code",
   "execution_count": null,
   "metadata": {
    "pycharm": {
     "is_executing": true
    }
   },
   "outputs": [],
   "source": [
    "import numpy as np\n",
    "import matplotlib.pyplot as plt\n",
    "import pandas as pd"
   ]
  },
  {
   "cell_type": "markdown",
   "metadata": {},
   "source": [
    "## Przygotowanie zbiorów danych"
   ]
  },
  {
   "cell_type": "code",
   "execution_count": null,
   "metadata": {
    "pycharm": {
     "is_executing": true
    }
   },
   "outputs": [],
   "source": [
    "from sklearn import datasets\n",
    "from sklearn.model_selection import train_test_split\n",
    "from sklearn.preprocessing import scale\n",
    "from copy import deepcopy"
   ]
  },
  {
   "cell_type": "code",
   "execution_count": 12,
   "metadata": {
    "pycharm": {
     "is_executing": true
    }
   },
   "outputs": [],
   "source": [
    "# Zbiór danych medycznych pacjentów pozwalający na diagnostykę raka płuc\n",
    "\n",
    "cancer = datasets.load_breast_cancer()\n",
    "cancer.data = scale(cancer.data)\n",
    "\n",
    "cancer_reduced = deepcopy(cancer)\n",
    "\n",
    "def get_cancer_displayable(n_rows=20):\n",
    "    return pd.DataFrame([np.append(sample, cancer.target[i]) for i, sample in enumerate(cancer.data)],\n",
    "             columns=np.append(cancer.feature_names, 'had_cancer'))[:n_rows]"
   ]
  },
  {
   "cell_type": "code",
   "execution_count": 13,
   "metadata": {
    "scrolled": true
   },
   "outputs": [
    {
     "data": {
      "text/html": [
       "<div>\n",
       "<style scoped>\n",
       "    .dataframe tbody tr th:only-of-type {\n",
       "        vertical-align: middle;\n",
       "    }\n",
       "\n",
       "    .dataframe tbody tr th {\n",
       "        vertical-align: top;\n",
       "    }\n",
       "\n",
       "    .dataframe thead th {\n",
       "        text-align: right;\n",
       "    }\n",
       "</style>\n",
       "<table border=\"1\" class=\"dataframe\">\n",
       "  <thead>\n",
       "    <tr style=\"text-align: right;\">\n",
       "      <th></th>\n",
       "      <th>mean radius</th>\n",
       "      <th>mean texture</th>\n",
       "      <th>mean perimeter</th>\n",
       "      <th>mean area</th>\n",
       "      <th>mean smoothness</th>\n",
       "      <th>mean compactness</th>\n",
       "      <th>mean concavity</th>\n",
       "      <th>mean concave points</th>\n",
       "      <th>mean symmetry</th>\n",
       "      <th>mean fractal dimension</th>\n",
       "      <th>...</th>\n",
       "      <th>worst texture</th>\n",
       "      <th>worst perimeter</th>\n",
       "      <th>worst area</th>\n",
       "      <th>worst smoothness</th>\n",
       "      <th>worst compactness</th>\n",
       "      <th>worst concavity</th>\n",
       "      <th>worst concave points</th>\n",
       "      <th>worst symmetry</th>\n",
       "      <th>worst fractal dimension</th>\n",
       "      <th>had_cancer</th>\n",
       "    </tr>\n",
       "  </thead>\n",
       "  <tbody>\n",
       "    <tr>\n",
       "      <th>0</th>\n",
       "      <td>1.097064</td>\n",
       "      <td>-2.073335</td>\n",
       "      <td>1.269934</td>\n",
       "      <td>0.984375</td>\n",
       "      <td>1.568466</td>\n",
       "      <td>3.283515</td>\n",
       "      <td>2.652874</td>\n",
       "      <td>2.532475</td>\n",
       "      <td>2.217515</td>\n",
       "      <td>2.255747</td>\n",
       "      <td>...</td>\n",
       "      <td>-1.359293</td>\n",
       "      <td>2.303601</td>\n",
       "      <td>2.001237</td>\n",
       "      <td>1.307686</td>\n",
       "      <td>2.616665</td>\n",
       "      <td>2.109526</td>\n",
       "      <td>2.296076</td>\n",
       "      <td>2.750622</td>\n",
       "      <td>1.937015</td>\n",
       "      <td>0.0</td>\n",
       "    </tr>\n",
       "    <tr>\n",
       "      <th>1</th>\n",
       "      <td>1.829821</td>\n",
       "      <td>-0.353632</td>\n",
       "      <td>1.685955</td>\n",
       "      <td>1.908708</td>\n",
       "      <td>-0.826962</td>\n",
       "      <td>-0.487072</td>\n",
       "      <td>-0.023846</td>\n",
       "      <td>0.548144</td>\n",
       "      <td>0.001392</td>\n",
       "      <td>-0.868652</td>\n",
       "      <td>...</td>\n",
       "      <td>-0.369203</td>\n",
       "      <td>1.535126</td>\n",
       "      <td>1.890489</td>\n",
       "      <td>-0.375612</td>\n",
       "      <td>-0.430444</td>\n",
       "      <td>-0.146749</td>\n",
       "      <td>1.087084</td>\n",
       "      <td>-0.243890</td>\n",
       "      <td>0.281190</td>\n",
       "      <td>0.0</td>\n",
       "    </tr>\n",
       "    <tr>\n",
       "      <th>2</th>\n",
       "      <td>1.579888</td>\n",
       "      <td>0.456187</td>\n",
       "      <td>1.566503</td>\n",
       "      <td>1.558884</td>\n",
       "      <td>0.942210</td>\n",
       "      <td>1.052926</td>\n",
       "      <td>1.363478</td>\n",
       "      <td>2.037231</td>\n",
       "      <td>0.939685</td>\n",
       "      <td>-0.398008</td>\n",
       "      <td>...</td>\n",
       "      <td>-0.023974</td>\n",
       "      <td>1.347475</td>\n",
       "      <td>1.456285</td>\n",
       "      <td>0.527407</td>\n",
       "      <td>1.082932</td>\n",
       "      <td>0.854974</td>\n",
       "      <td>1.955000</td>\n",
       "      <td>1.152255</td>\n",
       "      <td>0.201391</td>\n",
       "      <td>0.0</td>\n",
       "    </tr>\n",
       "    <tr>\n",
       "      <th>3</th>\n",
       "      <td>-0.768909</td>\n",
       "      <td>0.253732</td>\n",
       "      <td>-0.592687</td>\n",
       "      <td>-0.764464</td>\n",
       "      <td>3.283553</td>\n",
       "      <td>3.402909</td>\n",
       "      <td>1.915897</td>\n",
       "      <td>1.451707</td>\n",
       "      <td>2.867383</td>\n",
       "      <td>4.910919</td>\n",
       "      <td>...</td>\n",
       "      <td>0.133984</td>\n",
       "      <td>-0.249939</td>\n",
       "      <td>-0.550021</td>\n",
       "      <td>3.394275</td>\n",
       "      <td>3.893397</td>\n",
       "      <td>1.989588</td>\n",
       "      <td>2.175786</td>\n",
       "      <td>6.046041</td>\n",
       "      <td>4.935010</td>\n",
       "      <td>0.0</td>\n",
       "    </tr>\n",
       "    <tr>\n",
       "      <th>4</th>\n",
       "      <td>1.750297</td>\n",
       "      <td>-1.151816</td>\n",
       "      <td>1.776573</td>\n",
       "      <td>1.826229</td>\n",
       "      <td>0.280372</td>\n",
       "      <td>0.539340</td>\n",
       "      <td>1.371011</td>\n",
       "      <td>1.428493</td>\n",
       "      <td>-0.009560</td>\n",
       "      <td>-0.562450</td>\n",
       "      <td>...</td>\n",
       "      <td>-1.466770</td>\n",
       "      <td>1.338539</td>\n",
       "      <td>1.220724</td>\n",
       "      <td>0.220556</td>\n",
       "      <td>-0.313395</td>\n",
       "      <td>0.613179</td>\n",
       "      <td>0.729259</td>\n",
       "      <td>-0.868353</td>\n",
       "      <td>-0.397100</td>\n",
       "      <td>0.0</td>\n",
       "    </tr>\n",
       "    <tr>\n",
       "      <th>5</th>\n",
       "      <td>-0.476375</td>\n",
       "      <td>-0.835335</td>\n",
       "      <td>-0.387148</td>\n",
       "      <td>-0.505650</td>\n",
       "      <td>2.237421</td>\n",
       "      <td>1.244335</td>\n",
       "      <td>0.866302</td>\n",
       "      <td>0.824656</td>\n",
       "      <td>1.005402</td>\n",
       "      <td>1.890005</td>\n",
       "      <td>...</td>\n",
       "      <td>-0.313836</td>\n",
       "      <td>-0.115009</td>\n",
       "      <td>-0.244320</td>\n",
       "      <td>2.048513</td>\n",
       "      <td>1.721616</td>\n",
       "      <td>1.263243</td>\n",
       "      <td>0.905888</td>\n",
       "      <td>1.754069</td>\n",
       "      <td>2.241802</td>\n",
       "      <td>0.0</td>\n",
       "    </tr>\n",
       "    <tr>\n",
       "      <th>6</th>\n",
       "      <td>1.170908</td>\n",
       "      <td>0.160649</td>\n",
       "      <td>1.138125</td>\n",
       "      <td>1.095295</td>\n",
       "      <td>-0.123136</td>\n",
       "      <td>0.088295</td>\n",
       "      <td>0.300072</td>\n",
       "      <td>0.646935</td>\n",
       "      <td>-0.064325</td>\n",
       "      <td>-0.762332</td>\n",
       "      <td>...</td>\n",
       "      <td>0.322883</td>\n",
       "      <td>1.368325</td>\n",
       "      <td>1.275220</td>\n",
       "      <td>0.518640</td>\n",
       "      <td>0.021215</td>\n",
       "      <td>0.509552</td>\n",
       "      <td>1.196716</td>\n",
       "      <td>0.262476</td>\n",
       "      <td>-0.014730</td>\n",
       "      <td>0.0</td>\n",
       "    </tr>\n",
       "    <tr>\n",
       "      <th>7</th>\n",
       "      <td>-0.118517</td>\n",
       "      <td>0.358450</td>\n",
       "      <td>-0.072867</td>\n",
       "      <td>-0.218965</td>\n",
       "      <td>1.604049</td>\n",
       "      <td>1.140102</td>\n",
       "      <td>0.061026</td>\n",
       "      <td>0.281950</td>\n",
       "      <td>1.403355</td>\n",
       "      <td>1.660353</td>\n",
       "      <td>...</td>\n",
       "      <td>0.401048</td>\n",
       "      <td>0.099449</td>\n",
       "      <td>0.028859</td>\n",
       "      <td>1.447961</td>\n",
       "      <td>0.724786</td>\n",
       "      <td>-0.021054</td>\n",
       "      <td>0.624196</td>\n",
       "      <td>0.477640</td>\n",
       "      <td>1.726435</td>\n",
       "      <td>0.0</td>\n",
       "    </tr>\n",
       "    <tr>\n",
       "      <th>8</th>\n",
       "      <td>-0.320167</td>\n",
       "      <td>0.588830</td>\n",
       "      <td>-0.184080</td>\n",
       "      <td>-0.384207</td>\n",
       "      <td>2.201839</td>\n",
       "      <td>1.684010</td>\n",
       "      <td>1.219096</td>\n",
       "      <td>1.150692</td>\n",
       "      <td>1.965600</td>\n",
       "      <td>1.572462</td>\n",
       "      <td>...</td>\n",
       "      <td>0.822813</td>\n",
       "      <td>-0.031609</td>\n",
       "      <td>-0.248363</td>\n",
       "      <td>1.662757</td>\n",
       "      <td>1.818310</td>\n",
       "      <td>1.280035</td>\n",
       "      <td>1.391616</td>\n",
       "      <td>2.389857</td>\n",
       "      <td>1.288650</td>\n",
       "      <td>0.0</td>\n",
       "    </tr>\n",
       "    <tr>\n",
       "      <th>9</th>\n",
       "      <td>-0.473535</td>\n",
       "      <td>1.105439</td>\n",
       "      <td>-0.329482</td>\n",
       "      <td>-0.509063</td>\n",
       "      <td>1.582699</td>\n",
       "      <td>2.563358</td>\n",
       "      <td>1.738872</td>\n",
       "      <td>0.941760</td>\n",
       "      <td>0.797298</td>\n",
       "      <td>2.783096</td>\n",
       "      <td>...</td>\n",
       "      <td>2.443109</td>\n",
       "      <td>-0.286278</td>\n",
       "      <td>-0.297409</td>\n",
       "      <td>2.320295</td>\n",
       "      <td>5.112877</td>\n",
       "      <td>3.995433</td>\n",
       "      <td>1.620015</td>\n",
       "      <td>2.370444</td>\n",
       "      <td>6.846856</td>\n",
       "      <td>0.0</td>\n",
       "    </tr>\n",
       "    <tr>\n",
       "      <th>10</th>\n",
       "      <td>0.537556</td>\n",
       "      <td>0.919273</td>\n",
       "      <td>0.442011</td>\n",
       "      <td>0.406453</td>\n",
       "      <td>-1.017686</td>\n",
       "      <td>-0.713542</td>\n",
       "      <td>-0.700684</td>\n",
       "      <td>-0.404686</td>\n",
       "      <td>-1.035476</td>\n",
       "      <td>-0.826124</td>\n",
       "      <td>...</td>\n",
       "      <td>1.335771</td>\n",
       "      <td>0.492622</td>\n",
       "      <td>0.473611</td>\n",
       "      <td>-0.625477</td>\n",
       "      <td>-0.630828</td>\n",
       "      <td>-0.605872</td>\n",
       "      <td>-0.226210</td>\n",
       "      <td>0.076431</td>\n",
       "      <td>0.031819</td>\n",
       "      <td>0.0</td>\n",
       "    </tr>\n",
       "    <tr>\n",
       "      <th>11</th>\n",
       "      <td>0.469393</td>\n",
       "      <td>-0.325708</td>\n",
       "      <td>0.479082</td>\n",
       "      <td>0.358672</td>\n",
       "      <td>0.052642</td>\n",
       "      <td>0.471115</td>\n",
       "      <td>0.134849</td>\n",
       "      <td>0.442131</td>\n",
       "      <td>0.110921</td>\n",
       "      <td>-0.280347</td>\n",
       "      <td>...</td>\n",
       "      <td>0.261002</td>\n",
       "      <td>0.870902</td>\n",
       "      <td>0.735540</td>\n",
       "      <td>0.316995</td>\n",
       "      <td>1.950627</td>\n",
       "      <td>0.596387</td>\n",
       "      <td>1.010951</td>\n",
       "      <td>1.441838</td>\n",
       "      <td>1.155652</td>\n",
       "      <td>0.0</td>\n",
       "    </tr>\n",
       "    <tr>\n",
       "      <th>12</th>\n",
       "      <td>1.432201</td>\n",
       "      <td>1.282296</td>\n",
       "      <td>1.665360</td>\n",
       "      <td>1.331355</td>\n",
       "      <td>0.073992</td>\n",
       "      <td>2.680858</td>\n",
       "      <td>1.477729</td>\n",
       "      <td>1.621948</td>\n",
       "      <td>2.137194</td>\n",
       "      <td>2.155097</td>\n",
       "      <td>...</td>\n",
       "      <td>0.694167</td>\n",
       "      <td>1.323647</td>\n",
       "      <td>0.793551</td>\n",
       "      <td>-1.256713</td>\n",
       "      <td>0.865372</td>\n",
       "      <td>0.439988</td>\n",
       "      <td>0.945477</td>\n",
       "      <td>0.445285</td>\n",
       "      <td>1.017112</td>\n",
       "      <td>0.0</td>\n",
       "    </tr>\n",
       "    <tr>\n",
       "      <th>13</th>\n",
       "      <td>0.489274</td>\n",
       "      <td>1.084495</td>\n",
       "      <td>0.483201</td>\n",
       "      <td>0.363507</td>\n",
       "      <td>-0.878913</td>\n",
       "      <td>-0.078478</td>\n",
       "      <td>0.132840</td>\n",
       "      <td>0.121770</td>\n",
       "      <td>0.129175</td>\n",
       "      <td>-1.335044</td>\n",
       "      <td>...</td>\n",
       "      <td>0.322883</td>\n",
       "      <td>0.141149</td>\n",
       "      <td>-0.007178</td>\n",
       "      <td>-0.844656</td>\n",
       "      <td>-0.393548</td>\n",
       "      <td>-0.191846</td>\n",
       "      <td>-0.041207</td>\n",
       "      <td>-0.148441</td>\n",
       "      <td>-1.167934</td>\n",
       "      <td>0.0</td>\n",
       "    </tr>\n",
       "    <tr>\n",
       "      <th>14</th>\n",
       "      <td>-0.112836</td>\n",
       "      <td>0.772668</td>\n",
       "      <td>0.067180</td>\n",
       "      <td>-0.217827</td>\n",
       "      <td>1.191289</td>\n",
       "      <td>2.368158</td>\n",
       "      <td>1.556825</td>\n",
       "      <td>0.808147</td>\n",
       "      <td>0.939685</td>\n",
       "      <td>1.987820</td>\n",
       "      <td>...</td>\n",
       "      <td>1.031253</td>\n",
       "      <td>0.045834</td>\n",
       "      <td>-0.321493</td>\n",
       "      <td>1.434810</td>\n",
       "      <td>3.296698</td>\n",
       "      <td>2.025090</td>\n",
       "      <td>1.616970</td>\n",
       "      <td>1.124753</td>\n",
       "      <td>3.278077</td>\n",
       "      <td>0.0</td>\n",
       "    </tr>\n",
       "    <tr>\n",
       "      <th>15</th>\n",
       "      <td>0.117215</td>\n",
       "      <td>1.919912</td>\n",
       "      <td>0.196105</td>\n",
       "      <td>0.011123</td>\n",
       "      <td>1.248222</td>\n",
       "      <td>1.045345</td>\n",
       "      <td>0.942887</td>\n",
       "      <td>0.637649</td>\n",
       "      <td>1.794006</td>\n",
       "      <td>1.130169</td>\n",
       "      <td>...</td>\n",
       "      <td>1.865014</td>\n",
       "      <td>0.501557</td>\n",
       "      <td>0.110075</td>\n",
       "      <td>1.553167</td>\n",
       "      <td>2.566410</td>\n",
       "      <td>2.064909</td>\n",
       "      <td>0.861731</td>\n",
       "      <td>2.131012</td>\n",
       "      <td>2.779335</td>\n",
       "      <td>0.0</td>\n",
       "    </tr>\n",
       "    <tr>\n",
       "      <th>16</th>\n",
       "      <td>0.156977</td>\n",
       "      <td>0.195555</td>\n",
       "      <td>0.114137</td>\n",
       "      <td>0.084216</td>\n",
       "      <td>0.164372</td>\n",
       "      <td>-0.612909</td>\n",
       "      <td>-0.186433</td>\n",
       "      <td>0.094686</td>\n",
       "      <td>-0.823721</td>\n",
       "      <td>-0.507163</td>\n",
       "      <td>...</td>\n",
       "      <td>0.847240</td>\n",
       "      <td>0.480707</td>\n",
       "      <td>0.452516</td>\n",
       "      <td>0.615079</td>\n",
       "      <td>-0.427264</td>\n",
       "      <td>0.092168</td>\n",
       "      <td>0.704897</td>\n",
       "      <td>0.207471</td>\n",
       "      <td>-0.098963</td>\n",
       "      <td>0.0</td>\n",
       "    </tr>\n",
       "    <tr>\n",
       "      <th>17</th>\n",
       "      <td>0.568798</td>\n",
       "      <td>0.323544</td>\n",
       "      <td>0.664438</td>\n",
       "      <td>0.409297</td>\n",
       "      <td>1.468835</td>\n",
       "      <td>1.854573</td>\n",
       "      <td>1.047093</td>\n",
       "      <td>1.389802</td>\n",
       "      <td>1.286524</td>\n",
       "      <td>1.525681</td>\n",
       "      <td>...</td>\n",
       "      <td>0.944946</td>\n",
       "      <td>0.879838</td>\n",
       "      <td>0.763667</td>\n",
       "      <td>2.039746</td>\n",
       "      <td>1.075298</td>\n",
       "      <td>0.989305</td>\n",
       "      <td>1.411411</td>\n",
       "      <td>1.302709</td>\n",
       "      <td>1.676560</td>\n",
       "      <td>0.0</td>\n",
       "    </tr>\n",
       "    <tr>\n",
       "      <th>18</th>\n",
       "      <td>1.613970</td>\n",
       "      <td>0.665623</td>\n",
       "      <td>1.566503</td>\n",
       "      <td>1.720997</td>\n",
       "      <td>0.138753</td>\n",
       "      <td>-0.031099</td>\n",
       "      <td>0.742007</td>\n",
       "      <td>1.188093</td>\n",
       "      <td>-0.838325</td>\n",
       "      <td>-1.254241</td>\n",
       "      <td>...</td>\n",
       "      <td>0.847240</td>\n",
       "      <td>2.369129</td>\n",
       "      <td>2.667486</td>\n",
       "      <td>0.825491</td>\n",
       "      <td>0.386359</td>\n",
       "      <td>1.271399</td>\n",
       "      <td>1.891049</td>\n",
       "      <td>-0.214770</td>\n",
       "      <td>-0.432012</td>\n",
       "      <td>0.0</td>\n",
       "    </tr>\n",
       "    <tr>\n",
       "      <th>19</th>\n",
       "      <td>-0.166799</td>\n",
       "      <td>-1.147162</td>\n",
       "      <td>-0.185728</td>\n",
       "      <td>-0.251957</td>\n",
       "      <td>0.101747</td>\n",
       "      <td>-0.436850</td>\n",
       "      <td>-0.278210</td>\n",
       "      <td>-0.028609</td>\n",
       "      <td>0.267911</td>\n",
       "      <td>-0.728310</td>\n",
       "      <td>...</td>\n",
       "      <td>-1.045005</td>\n",
       "      <td>-0.225217</td>\n",
       "      <td>-0.297761</td>\n",
       "      <td>0.509873</td>\n",
       "      <td>-0.489605</td>\n",
       "      <td>-0.159223</td>\n",
       "      <td>0.216123</td>\n",
       "      <td>0.123347</td>\n",
       "      <td>-0.629292</td>\n",
       "      <td>1.0</td>\n",
       "    </tr>\n",
       "  </tbody>\n",
       "</table>\n",
       "<p>20 rows × 31 columns</p>\n",
       "</div>"
      ],
      "text/plain": [
       "    mean radius  mean texture  mean perimeter  mean area  mean smoothness  \\\n",
       "0      1.097064     -2.073335        1.269934   0.984375         1.568466   \n",
       "1      1.829821     -0.353632        1.685955   1.908708        -0.826962   \n",
       "2      1.579888      0.456187        1.566503   1.558884         0.942210   \n",
       "3     -0.768909      0.253732       -0.592687  -0.764464         3.283553   \n",
       "4      1.750297     -1.151816        1.776573   1.826229         0.280372   \n",
       "5     -0.476375     -0.835335       -0.387148  -0.505650         2.237421   \n",
       "6      1.170908      0.160649        1.138125   1.095295        -0.123136   \n",
       "7     -0.118517      0.358450       -0.072867  -0.218965         1.604049   \n",
       "8     -0.320167      0.588830       -0.184080  -0.384207         2.201839   \n",
       "9     -0.473535      1.105439       -0.329482  -0.509063         1.582699   \n",
       "10     0.537556      0.919273        0.442011   0.406453        -1.017686   \n",
       "11     0.469393     -0.325708        0.479082   0.358672         0.052642   \n",
       "12     1.432201      1.282296        1.665360   1.331355         0.073992   \n",
       "13     0.489274      1.084495        0.483201   0.363507        -0.878913   \n",
       "14    -0.112836      0.772668        0.067180  -0.217827         1.191289   \n",
       "15     0.117215      1.919912        0.196105   0.011123         1.248222   \n",
       "16     0.156977      0.195555        0.114137   0.084216         0.164372   \n",
       "17     0.568798      0.323544        0.664438   0.409297         1.468835   \n",
       "18     1.613970      0.665623        1.566503   1.720997         0.138753   \n",
       "19    -0.166799     -1.147162       -0.185728  -0.251957         0.101747   \n",
       "\n",
       "    mean compactness  mean concavity  mean concave points  mean symmetry  \\\n",
       "0           3.283515        2.652874             2.532475       2.217515   \n",
       "1          -0.487072       -0.023846             0.548144       0.001392   \n",
       "2           1.052926        1.363478             2.037231       0.939685   \n",
       "3           3.402909        1.915897             1.451707       2.867383   \n",
       "4           0.539340        1.371011             1.428493      -0.009560   \n",
       "5           1.244335        0.866302             0.824656       1.005402   \n",
       "6           0.088295        0.300072             0.646935      -0.064325   \n",
       "7           1.140102        0.061026             0.281950       1.403355   \n",
       "8           1.684010        1.219096             1.150692       1.965600   \n",
       "9           2.563358        1.738872             0.941760       0.797298   \n",
       "10         -0.713542       -0.700684            -0.404686      -1.035476   \n",
       "11          0.471115        0.134849             0.442131       0.110921   \n",
       "12          2.680858        1.477729             1.621948       2.137194   \n",
       "13         -0.078478        0.132840             0.121770       0.129175   \n",
       "14          2.368158        1.556825             0.808147       0.939685   \n",
       "15          1.045345        0.942887             0.637649       1.794006   \n",
       "16         -0.612909       -0.186433             0.094686      -0.823721   \n",
       "17          1.854573        1.047093             1.389802       1.286524   \n",
       "18         -0.031099        0.742007             1.188093      -0.838325   \n",
       "19         -0.436850       -0.278210            -0.028609       0.267911   \n",
       "\n",
       "    mean fractal dimension     ...      worst texture  worst perimeter  \\\n",
       "0                 2.255747     ...          -1.359293         2.303601   \n",
       "1                -0.868652     ...          -0.369203         1.535126   \n",
       "2                -0.398008     ...          -0.023974         1.347475   \n",
       "3                 4.910919     ...           0.133984        -0.249939   \n",
       "4                -0.562450     ...          -1.466770         1.338539   \n",
       "5                 1.890005     ...          -0.313836        -0.115009   \n",
       "6                -0.762332     ...           0.322883         1.368325   \n",
       "7                 1.660353     ...           0.401048         0.099449   \n",
       "8                 1.572462     ...           0.822813        -0.031609   \n",
       "9                 2.783096     ...           2.443109        -0.286278   \n",
       "10               -0.826124     ...           1.335771         0.492622   \n",
       "11               -0.280347     ...           0.261002         0.870902   \n",
       "12                2.155097     ...           0.694167         1.323647   \n",
       "13               -1.335044     ...           0.322883         0.141149   \n",
       "14                1.987820     ...           1.031253         0.045834   \n",
       "15                1.130169     ...           1.865014         0.501557   \n",
       "16               -0.507163     ...           0.847240         0.480707   \n",
       "17                1.525681     ...           0.944946         0.879838   \n",
       "18               -1.254241     ...           0.847240         2.369129   \n",
       "19               -0.728310     ...          -1.045005        -0.225217   \n",
       "\n",
       "    worst area  worst smoothness  worst compactness  worst concavity  \\\n",
       "0     2.001237          1.307686           2.616665         2.109526   \n",
       "1     1.890489         -0.375612          -0.430444        -0.146749   \n",
       "2     1.456285          0.527407           1.082932         0.854974   \n",
       "3    -0.550021          3.394275           3.893397         1.989588   \n",
       "4     1.220724          0.220556          -0.313395         0.613179   \n",
       "5    -0.244320          2.048513           1.721616         1.263243   \n",
       "6     1.275220          0.518640           0.021215         0.509552   \n",
       "7     0.028859          1.447961           0.724786        -0.021054   \n",
       "8    -0.248363          1.662757           1.818310         1.280035   \n",
       "9    -0.297409          2.320295           5.112877         3.995433   \n",
       "10    0.473611         -0.625477          -0.630828        -0.605872   \n",
       "11    0.735540          0.316995           1.950627         0.596387   \n",
       "12    0.793551         -1.256713           0.865372         0.439988   \n",
       "13   -0.007178         -0.844656          -0.393548        -0.191846   \n",
       "14   -0.321493          1.434810           3.296698         2.025090   \n",
       "15    0.110075          1.553167           2.566410         2.064909   \n",
       "16    0.452516          0.615079          -0.427264         0.092168   \n",
       "17    0.763667          2.039746           1.075298         0.989305   \n",
       "18    2.667486          0.825491           0.386359         1.271399   \n",
       "19   -0.297761          0.509873          -0.489605        -0.159223   \n",
       "\n",
       "    worst concave points  worst symmetry  worst fractal dimension  had_cancer  \n",
       "0               2.296076        2.750622                 1.937015         0.0  \n",
       "1               1.087084       -0.243890                 0.281190         0.0  \n",
       "2               1.955000        1.152255                 0.201391         0.0  \n",
       "3               2.175786        6.046041                 4.935010         0.0  \n",
       "4               0.729259       -0.868353                -0.397100         0.0  \n",
       "5               0.905888        1.754069                 2.241802         0.0  \n",
       "6               1.196716        0.262476                -0.014730         0.0  \n",
       "7               0.624196        0.477640                 1.726435         0.0  \n",
       "8               1.391616        2.389857                 1.288650         0.0  \n",
       "9               1.620015        2.370444                 6.846856         0.0  \n",
       "10             -0.226210        0.076431                 0.031819         0.0  \n",
       "11              1.010951        1.441838                 1.155652         0.0  \n",
       "12              0.945477        0.445285                 1.017112         0.0  \n",
       "13             -0.041207       -0.148441                -1.167934         0.0  \n",
       "14              1.616970        1.124753                 3.278077         0.0  \n",
       "15              0.861731        2.131012                 2.779335         0.0  \n",
       "16              0.704897        0.207471                -0.098963         0.0  \n",
       "17              1.411411        1.302709                 1.676560         0.0  \n",
       "18              1.891049       -0.214770                -0.432012         0.0  \n",
       "19              0.216123        0.123347                -0.629292         1.0  \n",
       "\n",
       "[20 rows x 31 columns]"
      ]
     },
     "execution_count": 13,
     "metadata": {},
     "output_type": "execute_result"
    }
   ],
   "source": [
    "get_cancer_displayable()"
   ]
  },
  {
   "cell_type": "code",
   "execution_count": null,
   "metadata": {
    "scrolled": true
   },
   "outputs": [],
   "source": [
    "pd.DataFrame([np.append(sample, cancer.target[i]) for i, sample in enumerate(cancer.data)],\n",
    "             columns=np.append(cancer.feature_names, 'had_cancer'))[:20]"
   ]
  },
  {
   "cell_type": "code",
   "execution_count": null,
   "metadata": {
    "pycharm": {
     "is_executing": true
    },
    "scrolled": true
   },
   "outputs": [],
   "source": [
    "# zbiór danych pozwalający przewidywać, czy małżeństwo się rozpadnie na podstawie odpowiedzi (w skali 0-4) na 56 pytań\n",
    "\n",
    "divorces = pd.read_csv('./datasets/divorce.csv', sep=';')\n",
    "\n",
    "# treści pytań są przechowywane w osobnym pliku\n",
    "with open('./datasets/questions.csv') as file:\n",
    "    questions = np.array(file.read().split('\\n'))\n",
    "\n",
    "divorces = {\n",
    "    'data': divorces.drop(labels=['Class'], axis=1).astype(float),\n",
    "    'target': list(divorces['Class']),\n",
    "    'feature_names': questions\n",
    "}\n",
    "\n",
    "divorces['data'] = scale(divorces['data'])\n",
    "\n",
    "divorces_reduced = deepcopy(divorces)\n",
    "\n",
    "def get_divorces_displayable(n_rows=20):\n",
    "    return pd.DataFrame([np.append(sample, divorces['target'][i]) for i, sample in enumerate(divorces['data'])],\n",
    "             columns=np.append(divorces['feature_names'], 'divorced'))[:n_rows]"
   ]
  },
  {
   "cell_type": "code",
   "execution_count": 15,
   "metadata": {},
   "outputs": [
    {
     "data": {
      "text/html": [
       "<div>\n",
       "<style scoped>\n",
       "    .dataframe tbody tr th:only-of-type {\n",
       "        vertical-align: middle;\n",
       "    }\n",
       "\n",
       "    .dataframe tbody tr th {\n",
       "        vertical-align: top;\n",
       "    }\n",
       "\n",
       "    .dataframe thead th {\n",
       "        text-align: right;\n",
       "    }\n",
       "</style>\n",
       "<table border=\"1\" class=\"dataframe\">\n",
       "  <thead>\n",
       "    <tr style=\"text-align: right;\">\n",
       "      <th></th>\n",
       "      <th>If one of us apologizes when our discussion deteriorates, the discussion ends.</th>\n",
       "      <th>I know we can ignore our differences, even if things get hard sometimes.</th>\n",
       "      <th>When we need it, we can take our discussions with my spouse from the beginning and correct it.</th>\n",
       "      <th>When I discuss with my spouse, to contact him will eventually work.</th>\n",
       "      <th>The time I spent with my wife is special for us.</th>\n",
       "      <th>We don't have time at home as partners.</th>\n",
       "      <th>We are like two strangers who share the same environment at home rather than family.</th>\n",
       "      <th>I enjoy our holidays with my wife.</th>\n",
       "      <th>I enjoy traveling with my wife.</th>\n",
       "      <th>Most of our goals are common to my spouse.</th>\n",
       "      <th>...</th>\n",
       "      <th>Even if I'm right in the discussion, I stay silent to hurt my spouse.</th>\n",
       "      <th>When I discuss with my spouse, I stay silent because I am afraid of not being able to control my anger.</th>\n",
       "      <th>I feel right in our discussions.</th>\n",
       "      <th>I have nothing to do with what I've been accused of.</th>\n",
       "      <th>I'm not actually the one who's guilty about what I'm accused of.</th>\n",
       "      <th>I'm not the one who's wrong about problems at home.</th>\n",
       "      <th>I wouldn't hesitate to tell my spouse about her/his inadequacy.</th>\n",
       "      <th>When I discuss, I remind my spouse of her/his inadequacy.</th>\n",
       "      <th>I'm not afraid to tell my spouse about her/his incompetence;</th>\n",
       "      <th>divorced</th>\n",
       "    </tr>\n",
       "  </thead>\n",
       "  <tbody>\n",
       "    <tr>\n",
       "      <th>0</th>\n",
       "      <td>0.137772</td>\n",
       "      <td>0.237009</td>\n",
       "      <td>1.583883</td>\n",
       "      <td>-0.321591</td>\n",
       "      <td>-0.947040</td>\n",
       "      <td>-0.828792</td>\n",
       "      <td>-0.551439</td>\n",
       "      <td>-0.942357</td>\n",
       "      <td>-0.939124</td>\n",
       "      <td>-1.112273</td>\n",
       "      <td>...</td>\n",
       "      <td>-0.404272</td>\n",
       "      <td>-0.803068</td>\n",
       "      <td>0.228240</td>\n",
       "      <td>0.409816</td>\n",
       "      <td>0.407286</td>\n",
       "      <td>-0.379197</td>\n",
       "      <td>0.327644</td>\n",
       "      <td>-0.160656</td>\n",
       "      <td>-0.608507</td>\n",
       "      <td>1.0</td>\n",
       "    </tr>\n",
       "    <tr>\n",
       "      <th>1</th>\n",
       "      <td>1.370465</td>\n",
       "      <td>1.602823</td>\n",
       "      <td>1.583883</td>\n",
       "      <td>1.678548</td>\n",
       "      <td>1.510927</td>\n",
       "      <td>-0.828792</td>\n",
       "      <td>-0.551439</td>\n",
       "      <td>1.651986</td>\n",
       "      <td>1.635894</td>\n",
       "      <td>1.709912</td>\n",
       "      <td>...</td>\n",
       "      <td>-0.404272</td>\n",
       "      <td>-0.171024</td>\n",
       "      <td>0.228240</td>\n",
       "      <td>1.073327</td>\n",
       "      <td>1.121087</td>\n",
       "      <td>1.212493</td>\n",
       "      <td>1.006905</td>\n",
       "      <td>-0.160656</td>\n",
       "      <td>-0.007076</td>\n",
       "      <td>1.0</td>\n",
       "    </tr>\n",
       "    <tr>\n",
       "      <th>2</th>\n",
       "      <td>0.137772</td>\n",
       "      <td>0.237009</td>\n",
       "      <td>0.166725</td>\n",
       "      <td>0.345122</td>\n",
       "      <td>-0.332548</td>\n",
       "      <td>2.499427</td>\n",
       "      <td>1.680577</td>\n",
       "      <td>-0.293771</td>\n",
       "      <td>-0.295370</td>\n",
       "      <td>0.298820</td>\n",
       "      <td>...</td>\n",
       "      <td>0.326858</td>\n",
       "      <td>-0.171024</td>\n",
       "      <td>0.228240</td>\n",
       "      <td>-0.917206</td>\n",
       "      <td>-1.020315</td>\n",
       "      <td>-1.175042</td>\n",
       "      <td>-0.351618</td>\n",
       "      <td>-0.160656</td>\n",
       "      <td>-0.007076</td>\n",
       "      <td>1.0</td>\n",
       "    </tr>\n",
       "    <tr>\n",
       "      <th>3</th>\n",
       "      <td>0.754118</td>\n",
       "      <td>0.237009</td>\n",
       "      <td>0.875304</td>\n",
       "      <td>0.345122</td>\n",
       "      <td>0.896435</td>\n",
       "      <td>2.499427</td>\n",
       "      <td>2.796586</td>\n",
       "      <td>1.003400</td>\n",
       "      <td>0.992140</td>\n",
       "      <td>1.004366</td>\n",
       "      <td>...</td>\n",
       "      <td>-0.404272</td>\n",
       "      <td>-0.171024</td>\n",
       "      <td>0.228240</td>\n",
       "      <td>0.409816</td>\n",
       "      <td>0.407286</td>\n",
       "      <td>0.416648</td>\n",
       "      <td>-0.351618</td>\n",
       "      <td>-0.160656</td>\n",
       "      <td>-0.007076</td>\n",
       "      <td>1.0</td>\n",
       "    </tr>\n",
       "    <tr>\n",
       "      <th>4</th>\n",
       "      <td>0.137772</td>\n",
       "      <td>0.237009</td>\n",
       "      <td>-0.541855</td>\n",
       "      <td>-0.321591</td>\n",
       "      <td>-0.332548</td>\n",
       "      <td>0.280615</td>\n",
       "      <td>-0.551439</td>\n",
       "      <td>-0.942357</td>\n",
       "      <td>-0.939124</td>\n",
       "      <td>-1.112273</td>\n",
       "      <td>...</td>\n",
       "      <td>-0.404272</td>\n",
       "      <td>-0.803068</td>\n",
       "      <td>-0.653596</td>\n",
       "      <td>0.409816</td>\n",
       "      <td>-0.306514</td>\n",
       "      <td>-0.379197</td>\n",
       "      <td>-0.351618</td>\n",
       "      <td>-0.826790</td>\n",
       "      <td>-1.209939</td>\n",
       "      <td>1.0</td>\n",
       "    </tr>\n",
       "    <tr>\n",
       "      <th>5</th>\n",
       "      <td>-1.094922</td>\n",
       "      <td>-1.128805</td>\n",
       "      <td>-0.541855</td>\n",
       "      <td>-0.988304</td>\n",
       "      <td>-0.947040</td>\n",
       "      <td>1.390021</td>\n",
       "      <td>-0.551439</td>\n",
       "      <td>-0.942357</td>\n",
       "      <td>-0.939124</td>\n",
       "      <td>-0.406727</td>\n",
       "      <td>...</td>\n",
       "      <td>-0.404272</td>\n",
       "      <td>-0.171024</td>\n",
       "      <td>-1.535432</td>\n",
       "      <td>-0.253695</td>\n",
       "      <td>-1.020315</td>\n",
       "      <td>-1.175042</td>\n",
       "      <td>-1.030879</td>\n",
       "      <td>-0.160656</td>\n",
       "      <td>-1.209939</td>\n",
       "      <td>1.0</td>\n",
       "    </tr>\n",
       "    <tr>\n",
       "      <th>6</th>\n",
       "      <td>0.754118</td>\n",
       "      <td>0.919916</td>\n",
       "      <td>0.875304</td>\n",
       "      <td>0.345122</td>\n",
       "      <td>-0.332548</td>\n",
       "      <td>2.499427</td>\n",
       "      <td>3.912594</td>\n",
       "      <td>1.003400</td>\n",
       "      <td>0.348385</td>\n",
       "      <td>0.298820</td>\n",
       "      <td>...</td>\n",
       "      <td>0.326858</td>\n",
       "      <td>-0.171024</td>\n",
       "      <td>0.228240</td>\n",
       "      <td>-0.253695</td>\n",
       "      <td>0.407286</td>\n",
       "      <td>0.416648</td>\n",
       "      <td>-0.351618</td>\n",
       "      <td>-0.160656</td>\n",
       "      <td>-0.007076</td>\n",
       "      <td>1.0</td>\n",
       "    </tr>\n",
       "    <tr>\n",
       "      <th>7</th>\n",
       "      <td>0.137772</td>\n",
       "      <td>-0.445898</td>\n",
       "      <td>0.166725</td>\n",
       "      <td>0.345122</td>\n",
       "      <td>0.281943</td>\n",
       "      <td>0.280615</td>\n",
       "      <td>-0.551439</td>\n",
       "      <td>1.003400</td>\n",
       "      <td>0.992140</td>\n",
       "      <td>0.298820</td>\n",
       "      <td>...</td>\n",
       "      <td>-1.866533</td>\n",
       "      <td>-0.803068</td>\n",
       "      <td>-0.653596</td>\n",
       "      <td>-0.253695</td>\n",
       "      <td>-0.306514</td>\n",
       "      <td>-1.175042</td>\n",
       "      <td>-1.030879</td>\n",
       "      <td>-0.826790</td>\n",
       "      <td>-1.209939</td>\n",
       "      <td>1.0</td>\n",
       "    </tr>\n",
       "    <tr>\n",
       "      <th>8</th>\n",
       "      <td>0.137772</td>\n",
       "      <td>0.237009</td>\n",
       "      <td>-0.541855</td>\n",
       "      <td>-0.988304</td>\n",
       "      <td>-0.947040</td>\n",
       "      <td>3.608833</td>\n",
       "      <td>0.564569</td>\n",
       "      <td>1.003400</td>\n",
       "      <td>0.992140</td>\n",
       "      <td>1.004366</td>\n",
       "      <td>...</td>\n",
       "      <td>-1.135402</td>\n",
       "      <td>-0.803068</td>\n",
       "      <td>-1.535432</td>\n",
       "      <td>-0.917206</td>\n",
       "      <td>-1.020315</td>\n",
       "      <td>-1.175042</td>\n",
       "      <td>-1.030879</td>\n",
       "      <td>-0.826790</td>\n",
       "      <td>-0.608507</td>\n",
       "      <td>1.0</td>\n",
       "    </tr>\n",
       "    <tr>\n",
       "      <th>9</th>\n",
       "      <td>-0.478575</td>\n",
       "      <td>-0.445898</td>\n",
       "      <td>-0.541855</td>\n",
       "      <td>-0.321591</td>\n",
       "      <td>-0.332548</td>\n",
       "      <td>1.390021</td>\n",
       "      <td>-0.551439</td>\n",
       "      <td>0.354815</td>\n",
       "      <td>0.348385</td>\n",
       "      <td>0.298820</td>\n",
       "      <td>...</td>\n",
       "      <td>-0.404272</td>\n",
       "      <td>-1.435113</td>\n",
       "      <td>-0.653596</td>\n",
       "      <td>-0.253695</td>\n",
       "      <td>-0.306514</td>\n",
       "      <td>-0.379197</td>\n",
       "      <td>1.006905</td>\n",
       "      <td>0.505478</td>\n",
       "      <td>0.594356</td>\n",
       "      <td>1.0</td>\n",
       "    </tr>\n",
       "    <tr>\n",
       "      <th>10</th>\n",
       "      <td>1.370465</td>\n",
       "      <td>1.602823</td>\n",
       "      <td>1.583883</td>\n",
       "      <td>1.011835</td>\n",
       "      <td>1.510927</td>\n",
       "      <td>-0.828792</td>\n",
       "      <td>-0.551439</td>\n",
       "      <td>1.651986</td>\n",
       "      <td>1.635894</td>\n",
       "      <td>1.004366</td>\n",
       "      <td>...</td>\n",
       "      <td>1.057989</td>\n",
       "      <td>1.093065</td>\n",
       "      <td>1.110076</td>\n",
       "      <td>1.073327</td>\n",
       "      <td>1.121087</td>\n",
       "      <td>1.212493</td>\n",
       "      <td>1.006905</td>\n",
       "      <td>1.171612</td>\n",
       "      <td>1.195788</td>\n",
       "      <td>1.0</td>\n",
       "    </tr>\n",
       "    <tr>\n",
       "      <th>11</th>\n",
       "      <td>1.370465</td>\n",
       "      <td>1.602823</td>\n",
       "      <td>1.583883</td>\n",
       "      <td>1.011835</td>\n",
       "      <td>1.510927</td>\n",
       "      <td>-0.828792</td>\n",
       "      <td>-0.551439</td>\n",
       "      <td>1.651986</td>\n",
       "      <td>1.635894</td>\n",
       "      <td>1.004366</td>\n",
       "      <td>...</td>\n",
       "      <td>1.057989</td>\n",
       "      <td>1.093065</td>\n",
       "      <td>1.110076</td>\n",
       "      <td>1.073327</td>\n",
       "      <td>1.121087</td>\n",
       "      <td>1.212493</td>\n",
       "      <td>1.006905</td>\n",
       "      <td>1.171612</td>\n",
       "      <td>1.195788</td>\n",
       "      <td>1.0</td>\n",
       "    </tr>\n",
       "    <tr>\n",
       "      <th>12</th>\n",
       "      <td>0.754118</td>\n",
       "      <td>1.602823</td>\n",
       "      <td>0.875304</td>\n",
       "      <td>1.678548</td>\n",
       "      <td>0.896435</td>\n",
       "      <td>-0.828792</td>\n",
       "      <td>0.564569</td>\n",
       "      <td>1.651986</td>\n",
       "      <td>0.992140</td>\n",
       "      <td>1.709912</td>\n",
       "      <td>...</td>\n",
       "      <td>1.057989</td>\n",
       "      <td>1.093065</td>\n",
       "      <td>1.110076</td>\n",
       "      <td>1.073327</td>\n",
       "      <td>1.121087</td>\n",
       "      <td>1.212493</td>\n",
       "      <td>1.006905</td>\n",
       "      <td>1.171612</td>\n",
       "      <td>1.195788</td>\n",
       "      <td>1.0</td>\n",
       "    </tr>\n",
       "    <tr>\n",
       "      <th>13</th>\n",
       "      <td>0.754118</td>\n",
       "      <td>1.602823</td>\n",
       "      <td>0.875304</td>\n",
       "      <td>1.678548</td>\n",
       "      <td>0.896435</td>\n",
       "      <td>-0.828792</td>\n",
       "      <td>0.564569</td>\n",
       "      <td>1.651986</td>\n",
       "      <td>0.992140</td>\n",
       "      <td>1.709912</td>\n",
       "      <td>...</td>\n",
       "      <td>1.057989</td>\n",
       "      <td>1.093065</td>\n",
       "      <td>1.110076</td>\n",
       "      <td>1.073327</td>\n",
       "      <td>1.121087</td>\n",
       "      <td>1.212493</td>\n",
       "      <td>1.006905</td>\n",
       "      <td>1.171612</td>\n",
       "      <td>1.195788</td>\n",
       "      <td>1.0</td>\n",
       "    </tr>\n",
       "    <tr>\n",
       "      <th>14</th>\n",
       "      <td>0.754118</td>\n",
       "      <td>1.602823</td>\n",
       "      <td>0.875304</td>\n",
       "      <td>1.678548</td>\n",
       "      <td>0.896435</td>\n",
       "      <td>-0.828792</td>\n",
       "      <td>0.564569</td>\n",
       "      <td>1.651986</td>\n",
       "      <td>0.992140</td>\n",
       "      <td>1.709912</td>\n",
       "      <td>...</td>\n",
       "      <td>1.057989</td>\n",
       "      <td>1.093065</td>\n",
       "      <td>1.110076</td>\n",
       "      <td>1.073327</td>\n",
       "      <td>1.121087</td>\n",
       "      <td>1.212493</td>\n",
       "      <td>1.006905</td>\n",
       "      <td>1.171612</td>\n",
       "      <td>1.195788</td>\n",
       "      <td>1.0</td>\n",
       "    </tr>\n",
       "    <tr>\n",
       "      <th>15</th>\n",
       "      <td>1.370465</td>\n",
       "      <td>1.602823</td>\n",
       "      <td>0.875304</td>\n",
       "      <td>0.345122</td>\n",
       "      <td>1.510927</td>\n",
       "      <td>-0.828792</td>\n",
       "      <td>-0.551439</td>\n",
       "      <td>1.651986</td>\n",
       "      <td>0.992140</td>\n",
       "      <td>0.298820</td>\n",
       "      <td>...</td>\n",
       "      <td>1.057989</td>\n",
       "      <td>1.093065</td>\n",
       "      <td>1.110076</td>\n",
       "      <td>1.073327</td>\n",
       "      <td>1.121087</td>\n",
       "      <td>1.212493</td>\n",
       "      <td>1.006905</td>\n",
       "      <td>1.171612</td>\n",
       "      <td>1.195788</td>\n",
       "      <td>1.0</td>\n",
       "    </tr>\n",
       "    <tr>\n",
       "      <th>16</th>\n",
       "      <td>1.370465</td>\n",
       "      <td>1.602823</td>\n",
       "      <td>0.875304</td>\n",
       "      <td>0.345122</td>\n",
       "      <td>1.510927</td>\n",
       "      <td>-0.828792</td>\n",
       "      <td>-0.551439</td>\n",
       "      <td>1.651986</td>\n",
       "      <td>0.992140</td>\n",
       "      <td>0.298820</td>\n",
       "      <td>...</td>\n",
       "      <td>1.057989</td>\n",
       "      <td>1.093065</td>\n",
       "      <td>1.110076</td>\n",
       "      <td>1.073327</td>\n",
       "      <td>1.121087</td>\n",
       "      <td>1.212493</td>\n",
       "      <td>1.006905</td>\n",
       "      <td>1.171612</td>\n",
       "      <td>1.195788</td>\n",
       "      <td>1.0</td>\n",
       "    </tr>\n",
       "    <tr>\n",
       "      <th>17</th>\n",
       "      <td>1.370465</td>\n",
       "      <td>1.602823</td>\n",
       "      <td>1.583883</td>\n",
       "      <td>1.011835</td>\n",
       "      <td>1.510927</td>\n",
       "      <td>-0.828792</td>\n",
       "      <td>-0.551439</td>\n",
       "      <td>1.651986</td>\n",
       "      <td>1.635894</td>\n",
       "      <td>1.004366</td>\n",
       "      <td>...</td>\n",
       "      <td>0.326858</td>\n",
       "      <td>1.093065</td>\n",
       "      <td>0.228240</td>\n",
       "      <td>1.073327</td>\n",
       "      <td>1.121087</td>\n",
       "      <td>0.416648</td>\n",
       "      <td>1.006905</td>\n",
       "      <td>0.505478</td>\n",
       "      <td>1.195788</td>\n",
       "      <td>1.0</td>\n",
       "    </tr>\n",
       "    <tr>\n",
       "      <th>18</th>\n",
       "      <td>0.754118</td>\n",
       "      <td>0.919916</td>\n",
       "      <td>1.583883</td>\n",
       "      <td>1.678548</td>\n",
       "      <td>0.896435</td>\n",
       "      <td>0.280615</td>\n",
       "      <td>0.564569</td>\n",
       "      <td>1.003400</td>\n",
       "      <td>1.635894</td>\n",
       "      <td>1.709912</td>\n",
       "      <td>...</td>\n",
       "      <td>1.057989</td>\n",
       "      <td>1.093065</td>\n",
       "      <td>1.110076</td>\n",
       "      <td>1.073327</td>\n",
       "      <td>1.121087</td>\n",
       "      <td>1.212493</td>\n",
       "      <td>1.006905</td>\n",
       "      <td>1.171612</td>\n",
       "      <td>1.195788</td>\n",
       "      <td>1.0</td>\n",
       "    </tr>\n",
       "    <tr>\n",
       "      <th>19</th>\n",
       "      <td>1.370465</td>\n",
       "      <td>1.602823</td>\n",
       "      <td>1.583883</td>\n",
       "      <td>1.011835</td>\n",
       "      <td>1.510927</td>\n",
       "      <td>-0.828792</td>\n",
       "      <td>-0.551439</td>\n",
       "      <td>1.651986</td>\n",
       "      <td>1.635894</td>\n",
       "      <td>1.004366</td>\n",
       "      <td>...</td>\n",
       "      <td>0.326858</td>\n",
       "      <td>1.093065</td>\n",
       "      <td>0.228240</td>\n",
       "      <td>1.073327</td>\n",
       "      <td>1.121087</td>\n",
       "      <td>0.416648</td>\n",
       "      <td>1.006905</td>\n",
       "      <td>0.505478</td>\n",
       "      <td>1.195788</td>\n",
       "      <td>1.0</td>\n",
       "    </tr>\n",
       "  </tbody>\n",
       "</table>\n",
       "<p>20 rows × 55 columns</p>\n",
       "</div>"
      ],
      "text/plain": [
       "    If one of us apologizes when our discussion deteriorates, the discussion ends.  \\\n",
       "0                                            0.137772                                \n",
       "1                                            1.370465                                \n",
       "2                                            0.137772                                \n",
       "3                                            0.754118                                \n",
       "4                                            0.137772                                \n",
       "5                                           -1.094922                                \n",
       "6                                            0.754118                                \n",
       "7                                            0.137772                                \n",
       "8                                            0.137772                                \n",
       "9                                           -0.478575                                \n",
       "10                                           1.370465                                \n",
       "11                                           1.370465                                \n",
       "12                                           0.754118                                \n",
       "13                                           0.754118                                \n",
       "14                                           0.754118                                \n",
       "15                                           1.370465                                \n",
       "16                                           1.370465                                \n",
       "17                                           1.370465                                \n",
       "18                                           0.754118                                \n",
       "19                                           1.370465                                \n",
       "\n",
       "    I know we can ignore our differences, even if things get hard sometimes.  \\\n",
       "0                                            0.237009                          \n",
       "1                                            1.602823                          \n",
       "2                                            0.237009                          \n",
       "3                                            0.237009                          \n",
       "4                                            0.237009                          \n",
       "5                                           -1.128805                          \n",
       "6                                            0.919916                          \n",
       "7                                           -0.445898                          \n",
       "8                                            0.237009                          \n",
       "9                                           -0.445898                          \n",
       "10                                           1.602823                          \n",
       "11                                           1.602823                          \n",
       "12                                           1.602823                          \n",
       "13                                           1.602823                          \n",
       "14                                           1.602823                          \n",
       "15                                           1.602823                          \n",
       "16                                           1.602823                          \n",
       "17                                           1.602823                          \n",
       "18                                           0.919916                          \n",
       "19                                           1.602823                          \n",
       "\n",
       "    When we need it, we can take our discussions with my spouse from the beginning and correct it.  \\\n",
       "0                                            1.583883                                                \n",
       "1                                            1.583883                                                \n",
       "2                                            0.166725                                                \n",
       "3                                            0.875304                                                \n",
       "4                                           -0.541855                                                \n",
       "5                                           -0.541855                                                \n",
       "6                                            0.875304                                                \n",
       "7                                            0.166725                                                \n",
       "8                                           -0.541855                                                \n",
       "9                                           -0.541855                                                \n",
       "10                                           1.583883                                                \n",
       "11                                           1.583883                                                \n",
       "12                                           0.875304                                                \n",
       "13                                           0.875304                                                \n",
       "14                                           0.875304                                                \n",
       "15                                           0.875304                                                \n",
       "16                                           0.875304                                                \n",
       "17                                           1.583883                                                \n",
       "18                                           1.583883                                                \n",
       "19                                           1.583883                                                \n",
       "\n",
       "    When I discuss with my spouse, to contact him will eventually work.  \\\n",
       "0                                           -0.321591                     \n",
       "1                                            1.678548                     \n",
       "2                                            0.345122                     \n",
       "3                                            0.345122                     \n",
       "4                                           -0.321591                     \n",
       "5                                           -0.988304                     \n",
       "6                                            0.345122                     \n",
       "7                                            0.345122                     \n",
       "8                                           -0.988304                     \n",
       "9                                           -0.321591                     \n",
       "10                                           1.011835                     \n",
       "11                                           1.011835                     \n",
       "12                                           1.678548                     \n",
       "13                                           1.678548                     \n",
       "14                                           1.678548                     \n",
       "15                                           0.345122                     \n",
       "16                                           0.345122                     \n",
       "17                                           1.011835                     \n",
       "18                                           1.678548                     \n",
       "19                                           1.011835                     \n",
       "\n",
       "    The time I spent with my wife is special for us.  \\\n",
       "0                                          -0.947040   \n",
       "1                                           1.510927   \n",
       "2                                          -0.332548   \n",
       "3                                           0.896435   \n",
       "4                                          -0.332548   \n",
       "5                                          -0.947040   \n",
       "6                                          -0.332548   \n",
       "7                                           0.281943   \n",
       "8                                          -0.947040   \n",
       "9                                          -0.332548   \n",
       "10                                          1.510927   \n",
       "11                                          1.510927   \n",
       "12                                          0.896435   \n",
       "13                                          0.896435   \n",
       "14                                          0.896435   \n",
       "15                                          1.510927   \n",
       "16                                          1.510927   \n",
       "17                                          1.510927   \n",
       "18                                          0.896435   \n",
       "19                                          1.510927   \n",
       "\n",
       "    We don't have time at home as partners.  \\\n",
       "0                                 -0.828792   \n",
       "1                                 -0.828792   \n",
       "2                                  2.499427   \n",
       "3                                  2.499427   \n",
       "4                                  0.280615   \n",
       "5                                  1.390021   \n",
       "6                                  2.499427   \n",
       "7                                  0.280615   \n",
       "8                                  3.608833   \n",
       "9                                  1.390021   \n",
       "10                                -0.828792   \n",
       "11                                -0.828792   \n",
       "12                                -0.828792   \n",
       "13                                -0.828792   \n",
       "14                                -0.828792   \n",
       "15                                -0.828792   \n",
       "16                                -0.828792   \n",
       "17                                -0.828792   \n",
       "18                                 0.280615   \n",
       "19                                -0.828792   \n",
       "\n",
       "    We are like two strangers who share the same environment at home rather than family.  \\\n",
       "0                                           -0.551439                                      \n",
       "1                                           -0.551439                                      \n",
       "2                                            1.680577                                      \n",
       "3                                            2.796586                                      \n",
       "4                                           -0.551439                                      \n",
       "5                                           -0.551439                                      \n",
       "6                                            3.912594                                      \n",
       "7                                           -0.551439                                      \n",
       "8                                            0.564569                                      \n",
       "9                                           -0.551439                                      \n",
       "10                                          -0.551439                                      \n",
       "11                                          -0.551439                                      \n",
       "12                                           0.564569                                      \n",
       "13                                           0.564569                                      \n",
       "14                                           0.564569                                      \n",
       "15                                          -0.551439                                      \n",
       "16                                          -0.551439                                      \n",
       "17                                          -0.551439                                      \n",
       "18                                           0.564569                                      \n",
       "19                                          -0.551439                                      \n",
       "\n",
       "    I enjoy our holidays with my wife.  I enjoy traveling with my wife.  \\\n",
       "0                            -0.942357                        -0.939124   \n",
       "1                             1.651986                         1.635894   \n",
       "2                            -0.293771                        -0.295370   \n",
       "3                             1.003400                         0.992140   \n",
       "4                            -0.942357                        -0.939124   \n",
       "5                            -0.942357                        -0.939124   \n",
       "6                             1.003400                         0.348385   \n",
       "7                             1.003400                         0.992140   \n",
       "8                             1.003400                         0.992140   \n",
       "9                             0.354815                         0.348385   \n",
       "10                            1.651986                         1.635894   \n",
       "11                            1.651986                         1.635894   \n",
       "12                            1.651986                         0.992140   \n",
       "13                            1.651986                         0.992140   \n",
       "14                            1.651986                         0.992140   \n",
       "15                            1.651986                         0.992140   \n",
       "16                            1.651986                         0.992140   \n",
       "17                            1.651986                         1.635894   \n",
       "18                            1.003400                         1.635894   \n",
       "19                            1.651986                         1.635894   \n",
       "\n",
       "    Most of our goals are common to my spouse.    ...     \\\n",
       "0                                    -1.112273    ...      \n",
       "1                                     1.709912    ...      \n",
       "2                                     0.298820    ...      \n",
       "3                                     1.004366    ...      \n",
       "4                                    -1.112273    ...      \n",
       "5                                    -0.406727    ...      \n",
       "6                                     0.298820    ...      \n",
       "7                                     0.298820    ...      \n",
       "8                                     1.004366    ...      \n",
       "9                                     0.298820    ...      \n",
       "10                                    1.004366    ...      \n",
       "11                                    1.004366    ...      \n",
       "12                                    1.709912    ...      \n",
       "13                                    1.709912    ...      \n",
       "14                                    1.709912    ...      \n",
       "15                                    0.298820    ...      \n",
       "16                                    0.298820    ...      \n",
       "17                                    1.004366    ...      \n",
       "18                                    1.709912    ...      \n",
       "19                                    1.004366    ...      \n",
       "\n",
       "    Even if I'm right in the discussion, I stay silent to hurt my spouse.  \\\n",
       "0                                           -0.404272                       \n",
       "1                                           -0.404272                       \n",
       "2                                            0.326858                       \n",
       "3                                           -0.404272                       \n",
       "4                                           -0.404272                       \n",
       "5                                           -0.404272                       \n",
       "6                                            0.326858                       \n",
       "7                                           -1.866533                       \n",
       "8                                           -1.135402                       \n",
       "9                                           -0.404272                       \n",
       "10                                           1.057989                       \n",
       "11                                           1.057989                       \n",
       "12                                           1.057989                       \n",
       "13                                           1.057989                       \n",
       "14                                           1.057989                       \n",
       "15                                           1.057989                       \n",
       "16                                           1.057989                       \n",
       "17                                           0.326858                       \n",
       "18                                           1.057989                       \n",
       "19                                           0.326858                       \n",
       "\n",
       "    When I discuss with my spouse, I stay silent because I am afraid of not being able to control my anger.  \\\n",
       "0                                           -0.803068                                                         \n",
       "1                                           -0.171024                                                         \n",
       "2                                           -0.171024                                                         \n",
       "3                                           -0.171024                                                         \n",
       "4                                           -0.803068                                                         \n",
       "5                                           -0.171024                                                         \n",
       "6                                           -0.171024                                                         \n",
       "7                                           -0.803068                                                         \n",
       "8                                           -0.803068                                                         \n",
       "9                                           -1.435113                                                         \n",
       "10                                           1.093065                                                         \n",
       "11                                           1.093065                                                         \n",
       "12                                           1.093065                                                         \n",
       "13                                           1.093065                                                         \n",
       "14                                           1.093065                                                         \n",
       "15                                           1.093065                                                         \n",
       "16                                           1.093065                                                         \n",
       "17                                           1.093065                                                         \n",
       "18                                           1.093065                                                         \n",
       "19                                           1.093065                                                         \n",
       "\n",
       "    I feel right in our discussions.  \\\n",
       "0                           0.228240   \n",
       "1                           0.228240   \n",
       "2                           0.228240   \n",
       "3                           0.228240   \n",
       "4                          -0.653596   \n",
       "5                          -1.535432   \n",
       "6                           0.228240   \n",
       "7                          -0.653596   \n",
       "8                          -1.535432   \n",
       "9                          -0.653596   \n",
       "10                          1.110076   \n",
       "11                          1.110076   \n",
       "12                          1.110076   \n",
       "13                          1.110076   \n",
       "14                          1.110076   \n",
       "15                          1.110076   \n",
       "16                          1.110076   \n",
       "17                          0.228240   \n",
       "18                          1.110076   \n",
       "19                          0.228240   \n",
       "\n",
       "    I have nothing to do with what I've been accused of.  \\\n",
       "0                                            0.409816      \n",
       "1                                            1.073327      \n",
       "2                                           -0.917206      \n",
       "3                                            0.409816      \n",
       "4                                            0.409816      \n",
       "5                                           -0.253695      \n",
       "6                                           -0.253695      \n",
       "7                                           -0.253695      \n",
       "8                                           -0.917206      \n",
       "9                                           -0.253695      \n",
       "10                                           1.073327      \n",
       "11                                           1.073327      \n",
       "12                                           1.073327      \n",
       "13                                           1.073327      \n",
       "14                                           1.073327      \n",
       "15                                           1.073327      \n",
       "16                                           1.073327      \n",
       "17                                           1.073327      \n",
       "18                                           1.073327      \n",
       "19                                           1.073327      \n",
       "\n",
       "    I'm not actually the one who's guilty about what I'm accused of.  \\\n",
       "0                                            0.407286                  \n",
       "1                                            1.121087                  \n",
       "2                                           -1.020315                  \n",
       "3                                            0.407286                  \n",
       "4                                           -0.306514                  \n",
       "5                                           -1.020315                  \n",
       "6                                            0.407286                  \n",
       "7                                           -0.306514                  \n",
       "8                                           -1.020315                  \n",
       "9                                           -0.306514                  \n",
       "10                                           1.121087                  \n",
       "11                                           1.121087                  \n",
       "12                                           1.121087                  \n",
       "13                                           1.121087                  \n",
       "14                                           1.121087                  \n",
       "15                                           1.121087                  \n",
       "16                                           1.121087                  \n",
       "17                                           1.121087                  \n",
       "18                                           1.121087                  \n",
       "19                                           1.121087                  \n",
       "\n",
       "    I'm not the one who's wrong about problems at home.  \\\n",
       "0                                           -0.379197     \n",
       "1                                            1.212493     \n",
       "2                                           -1.175042     \n",
       "3                                            0.416648     \n",
       "4                                           -0.379197     \n",
       "5                                           -1.175042     \n",
       "6                                            0.416648     \n",
       "7                                           -1.175042     \n",
       "8                                           -1.175042     \n",
       "9                                           -0.379197     \n",
       "10                                           1.212493     \n",
       "11                                           1.212493     \n",
       "12                                           1.212493     \n",
       "13                                           1.212493     \n",
       "14                                           1.212493     \n",
       "15                                           1.212493     \n",
       "16                                           1.212493     \n",
       "17                                           0.416648     \n",
       "18                                           1.212493     \n",
       "19                                           0.416648     \n",
       "\n",
       "    I wouldn't hesitate to tell my spouse about her/his inadequacy.  \\\n",
       "0                                            0.327644                 \n",
       "1                                            1.006905                 \n",
       "2                                           -0.351618                 \n",
       "3                                           -0.351618                 \n",
       "4                                           -0.351618                 \n",
       "5                                           -1.030879                 \n",
       "6                                           -0.351618                 \n",
       "7                                           -1.030879                 \n",
       "8                                           -1.030879                 \n",
       "9                                            1.006905                 \n",
       "10                                           1.006905                 \n",
       "11                                           1.006905                 \n",
       "12                                           1.006905                 \n",
       "13                                           1.006905                 \n",
       "14                                           1.006905                 \n",
       "15                                           1.006905                 \n",
       "16                                           1.006905                 \n",
       "17                                           1.006905                 \n",
       "18                                           1.006905                 \n",
       "19                                           1.006905                 \n",
       "\n",
       "    When I discuss, I remind my spouse of her/his inadequacy.  \\\n",
       "0                                           -0.160656           \n",
       "1                                           -0.160656           \n",
       "2                                           -0.160656           \n",
       "3                                           -0.160656           \n",
       "4                                           -0.826790           \n",
       "5                                           -0.160656           \n",
       "6                                           -0.160656           \n",
       "7                                           -0.826790           \n",
       "8                                           -0.826790           \n",
       "9                                            0.505478           \n",
       "10                                           1.171612           \n",
       "11                                           1.171612           \n",
       "12                                           1.171612           \n",
       "13                                           1.171612           \n",
       "14                                           1.171612           \n",
       "15                                           1.171612           \n",
       "16                                           1.171612           \n",
       "17                                           0.505478           \n",
       "18                                           1.171612           \n",
       "19                                           0.505478           \n",
       "\n",
       "    I'm not afraid to tell my spouse about her/his incompetence;  divorced  \n",
       "0                                           -0.608507                  1.0  \n",
       "1                                           -0.007076                  1.0  \n",
       "2                                           -0.007076                  1.0  \n",
       "3                                           -0.007076                  1.0  \n",
       "4                                           -1.209939                  1.0  \n",
       "5                                           -1.209939                  1.0  \n",
       "6                                           -0.007076                  1.0  \n",
       "7                                           -1.209939                  1.0  \n",
       "8                                           -0.608507                  1.0  \n",
       "9                                            0.594356                  1.0  \n",
       "10                                           1.195788                  1.0  \n",
       "11                                           1.195788                  1.0  \n",
       "12                                           1.195788                  1.0  \n",
       "13                                           1.195788                  1.0  \n",
       "14                                           1.195788                  1.0  \n",
       "15                                           1.195788                  1.0  \n",
       "16                                           1.195788                  1.0  \n",
       "17                                           1.195788                  1.0  \n",
       "18                                           1.195788                  1.0  \n",
       "19                                           1.195788                  1.0  \n",
       "\n",
       "[20 rows x 55 columns]"
      ]
     },
     "execution_count": 15,
     "metadata": {},
     "output_type": "execute_result"
    }
   ],
   "source": [
    "get_divorces_displayable()"
   ]
  },
  {
   "cell_type": "code",
   "execution_count": null,
   "metadata": {},
   "outputs": [],
   "source": [
    "pd.DataFrame([np.append(sample, divorces['target'][i]) for i, sample in enumerate(divorces['data'])],\n",
    "             columns=np.append(divorces['feature_names'], 'divorced'))[:20]"
   ]
  },
  {
   "cell_type": "markdown",
   "metadata": {},
   "source": [
    "## Selekcja cech"
   ]
  },
  {
   "cell_type": "markdown",
   "metadata": {},
   "source": [
    "Selekcja cech to ograniczenie liczby atrybutów danych, na których pracuje model, przez odrzucenie najmniej użytecznych z nich. Taka rezygnacja z części danych pozwala osiągnąć konkretne korzyści:\n",
    "* redukcja wymiarów - odrzucenie części cech oznacza zmniejszenie wymiarowości problemu, co ułatwia uniknięcie przetrenowania modelu\n",
    "* uproszczenie modelu - model pracujący na mniejszej liczbie cech jest bardziej zrozumiały i łatwiej identyfikować w nim problemy\n",
    "* lepsze wyniki - cechy niezwiązane z badaną właściwością mogą w sposób losowy zaburzać otrzymywane wyniki\n",
    "* poprawa wydajności - mało istotne cechy są przetwarzane niepotrzebnie"
   ]
  },
  {
   "cell_type": "markdown",
   "metadata": {},
   "source": [
    "### Metody Selekcji cech"
   ]
  },
  {
   "cell_type": "markdown",
   "metadata": {},
   "source": [
    "#### 1. Odrzucenie cech niecharakterystycznych"
   ]
  },
  {
   "cell_type": "markdown",
   "metadata": {},
   "source": [
    "Cechy, które wykazują niewielką zmienność pomiędzy próbkami, prawdopodobnie nie niosą szczególnie użytecznej informacji - zazwyczaj nie można na ich podstawie dokonać klasyfikacji (choć warto zachować ostrożność przy zbiorach danych o silnej dysproporcji pomiędzy licznościami klas oraz cechach mogących przyjmować wartości z niewielkiego zakresu). Cechy takie można rozpoznać po niewielkiej wariancji - stąd najprostsze podejście do selekcji cech może polegać na ich przefiltrowaniu i odrzuceniu tych o zbyt niskiej wariancji."
   ]
  },
  {
   "cell_type": "code",
   "execution_count": null,
   "metadata": {
    "pycharm": {
     "is_executing": true
    }
   },
   "outputs": [],
   "source": [
    "from sklearn.feature_selection import VarianceThreshold"
   ]
  },
  {
   "cell_type": "code",
   "execution_count": null,
   "metadata": {
    "pycharm": {
     "is_executing": true
    }
   },
   "outputs": [],
   "source": [
    "# variance should equal, because ...\n",
    "\n",
    "selector = VarianceThreshold()\n",
    "cancer_reduced.data = selector.fit_transform(cancer.data)\n",
    "\n",
    "\n",
    "# lista atrybutów wymaga zaktualizowania, selector.get_support() zwraca indeksy wybranych cech\n",
    "cancer_reduced['feature_names'] = cancer['feature_names'][selector.get_support(indices=True)]"
   ]
  },
  {
   "cell_type": "code",
   "execution_count": null,
   "metadata": {
    "pycharm": {
     "is_executing": true
    }
   },
   "outputs": [],
   "source": [
    "selector = VarianceThreshold()\n",
    "divorces_reduced['data'] = selector.fit_transform(divorces['data'])\n",
    "\n",
    "divorces_reduced['feature_names'] = divorces['feature_names'][selector.get_support(indices=True)]"
   ]
  },
  {
   "cell_type": "markdown",
   "metadata": {},
   "source": [
    "#### 2. Odrzucenie cech niezwiązanych z badaną właściwością"
   ]
  },
  {
   "cell_type": "markdown",
   "metadata": {},
   "source": [
    "Możemy spróbować przewidzieć, na ile każda z cech jest związana z badaną właściwością, i odrzucić te, dla których związek jest luźny. Możliwe są dwa zasadnicze podejścia:"
   ]
  },
  {
   "cell_type": "markdown",
   "metadata": {},
   "source": [
    "##### 2.1. Obliczenie korelacji"
   ]
  },
  {
   "cell_type": "markdown",
   "metadata": {},
   "source": [
    "Najprostszym sposobem określenia, czy cecha jest związana z inną (w szczególności - przynależnością do danej klasy) jest obliczenie korelacji między nimi."
   ]
  },
  {
   "cell_type": "code",
   "execution_count": null,
   "metadata": {
    "pycharm": {
     "is_executing": true
    }
   },
   "outputs": [],
   "source": [
    "def filter_correlation(X, Y, feature_names, n_features):\n",
    "    scores = [abs(np.corrcoef(feature, Y))[0, 1] for feature in X.T]\n",
    "    selected_indices = np.argsort(scores)[:n_features]\n",
    "    data = X.T[selected_indices].T\n",
    "    selected_feature_names = feature_names[selected_indices]\n",
    "    return data, selected_feature_names"
   ]
  },
  {
   "cell_type": "code",
   "execution_count": null,
   "metadata": {
    "pycharm": {
     "is_executing": true
    }
   },
   "outputs": [],
   "source": [
    "cancer_reduced.data, cancer_reduced.feature_names = filter_correlation(cancer.data, cancer.target, cancer.feature_names, 15)"
   ]
  },
  {
   "cell_type": "code",
   "execution_count": null,
   "metadata": {
    "pycharm": {
     "is_executing": true
    }
   },
   "outputs": [],
   "source": [
    "divorces_reduced['data'], divorces_reduced['feature_names'] = \\\n",
    "    filter_correlation(divorces['data'], divorces['target'], divorces['feature_names'], 40)"
   ]
  },
  {
   "cell_type": "markdown",
   "metadata": {},
   "source": [
    "##### 2.2. Inne statystyki"
   ]
  },
  {
   "cell_type": "markdown",
   "metadata": {},
   "source": [
    "Alternatywnie, możemy wykorzystać inną statystykę, której wartość rośnie wraz ze wzrostem różnicy wartości w dwóch grupach - np. ANOVA (częstym wyborem jest miara Chi-Square, nie nadaje się ona jednak do znormalizowanych danych - nie dopuszcza wartości ujemnych, konieczne więc byłoby dodatkowe przesunięcie danych). \n",
    "\n",
    "W tym celu zakładamy, że badana cecha (nazwijmy ją A) nie ma związku z przynależnością próbki do określonej klasy (oznaczmy ją przez C). Opierając się na tym założeniu, obliczamy, ile próbek z każdą możliwą wartością cechy A powinno należeć do klasy C (jako liczba próbek o danej wartości cechy A * liczba próbek w ekperymencie należących do klasy C / liczba wszystkich próbek),\n",
    "i obliczamy wartość wybranej statystyki na podstawie różnic pomiędzy otrzymanymi wartościami a rzeczywistymi danymi."
   ]
  },
  {
   "cell_type": "code",
   "execution_count": null,
   "metadata": {
    "pycharm": {
     "is_executing": true
    }
   },
   "outputs": [],
   "source": [
    "from sklearn.feature_selection import SelectKBest\n",
    "from sklearn.feature_selection import f_classif"
   ]
  },
  {
   "cell_type": "code",
   "execution_count": null,
   "metadata": {
    "pycharm": {
     "is_executing": true
    }
   },
   "outputs": [],
   "source": [
    "selector = SelectKBest(f_classif, k=20)\n",
    "\n",
    "cancer_reduced.data = selector.fit_transform(cancer.data, cancer.target)\n",
    "cancer_reduced.feature_names = cancer.feature_names[selector.get_support(indices=True)]"
   ]
  },
  {
   "cell_type": "code",
   "execution_count": null,
   "metadata": {
    "pycharm": {
     "is_executing": true
    }
   },
   "outputs": [],
   "source": [
    "selector = SelectKBest(f_classif, k=30)\n",
    "\n",
    "divorces_reduced['data'] = selector.fit_transform(divorces['data'], divorces['target'])\n",
    "divorces_reduced['feature_names'] = divorces['feature_names'][selector.get_support(indices=True)]"
   ]
  },
  {
   "cell_type": "markdown",
   "metadata": {},
   "source": [
    "#### 3. Próbne wytrenowanie modelu"
   ]
  },
  {
   "cell_type": "markdown",
   "metadata": {},
   "source": [
    "##### 3.1. Odfiltrowanie cech nieznaczących"
   ]
  },
  {
   "cell_type": "markdown",
   "metadata": {},
   "source": [
    "Zamiast \"ręcznie\" znajdować i usuwać mało istotne cechy, możemy spróbować wytrenować na naszych danych model, który ucząc się \"przy okazji\" zapisuje istotność cech, i usunąć te, które nie mają dużego znaczenia w podejmowaniu decyzji przez model. Aby zastosować takie podejści, konieczny jest wybór modelu, który udostępnia istotność cech - w przypadku Scikit-learn są to modele posiadające pole coef_ lub feature_importances_."
   ]
  },
  {
   "cell_type": "code",
   "execution_count": null,
   "metadata": {
    "pycharm": {
     "is_executing": true
    }
   },
   "outputs": [],
   "source": [
    "from sklearn.feature_selection import SelectFromModel\n",
    "from sklearn.ensemble import ExtraTreesClassifier"
   ]
  },
  {
   "cell_type": "code",
   "execution_count": null,
   "metadata": {
    "pycharm": {
     "is_executing": true
    }
   },
   "outputs": [],
   "source": [
    "classifier = ExtraTreesClassifier(n_estimators=50)\n",
    "\n",
    "classifier = classifier.fit(cancer.data, cancer.target)\n",
    "selector = SelectFromModel(classifier, prefit=True)\n",
    "\n",
    "cancer_reduced.data = selector.transform(cancer.data)\n",
    "cancer_reduced.feature_names = cancer.feature_names[selector.get_support(indices=True)]"
   ]
  },
  {
   "cell_type": "code",
   "execution_count": null,
   "metadata": {
    "pycharm": {
     "is_executing": true
    }
   },
   "outputs": [],
   "source": [
    "classifier = ExtraTreesClassifier(n_estimators=50)\n",
    "\n",
    "classifier = classifier.fit(divorces['data'], divorces['target'])\n",
    "selector = SelectFromModel(classifier, prefit=True)\n",
    "\n",
    "divorces_reduced['data'] = selector.transform(divorces['data'])\n",
    "divorces_reduced['feature_names'] = divorces['feature_names'][selector.get_support(indices=True)]"
   ]
  },
  {
   "cell_type": "markdown",
   "metadata": {},
   "source": [
    "##### 3.2. Rekurencyjny wybór zadanej liczby najlepszych cech"
   ]
  },
  {
   "cell_type": "markdown",
   "metadata": {},
   "source": [
    "Jeżeli chcemy ograniczyć liczbę cech do konkretnej wartości, powyższe podejście można zmodyfikować: zamiast wybierać cechy powyżej określonej granicy, lepszym podejściem może być odrzucenie najsłabszej z cech (lub kilku najgorszych) i rekurencyjne powtarzanie procesu, aż do osiągnięcia zadanej ich liczby."
   ]
  },
  {
   "cell_type": "code",
   "execution_count": null,
   "metadata": {
    "pycharm": {
     "is_executing": true
    }
   },
   "outputs": [],
   "source": [
    "from sklearn.feature_selection import RFE\n",
    "from sklearn.ensemble import ExtraTreesClassifier"
   ]
  },
  {
   "cell_type": "code",
   "execution_count": null,
   "metadata": {
    "pycharm": {
     "is_executing": true
    }
   },
   "outputs": [],
   "source": [
    "estimator = ExtraTreesClassifier(n_estimators=50)\n",
    "selector = RFE(estimator, 20, step=3)\n",
    "\n",
    "cancer_reduced.data = selector.fit_transform(cancer.data, cancer.target)\n",
    "cancer_reduced.feature_names = cancer.feature_names[selector.get_support(indices=True)]"
   ]
  },
  {
   "cell_type": "code",
   "execution_count": null,
   "metadata": {
    "pycharm": {
     "is_executing": true
    }
   },
   "outputs": [],
   "source": [
    "estimator = ExtraTreesClassifier(n_estimators=50)\n",
    "selector = RFE(estimator, 30, step=3)\n",
    "\n",
    "divorces_reduced['data'] = selector.fit_transform(divorces['data'], divorces['target'])\n",
    "divorces_reduced['feature_names'] = divorces['feature_names'][selector.get_support(indices=True)]"
   ]
  },
  {
   "cell_type": "markdown",
   "metadata": {},
   "source": [
    "## Wizualizacja"
   ]
  },
  {
   "cell_type": "markdown",
   "metadata": {},
   "source": [
    "Wizualizację ważności poszczególnych cech najłatwiej jest oprzeć o próbne wytrenowanie modelu i odczytanie wartości z pola *feature_importances_*"
   ]
  },
  {
   "cell_type": "code",
   "execution_count": null,
   "metadata": {},
   "outputs": [],
   "source": [
    "from sklearn.ensemble import ExtraTreesClassifier\n",
    "\n",
    "classifier = ExtraTreesClassifier(n_estimators=50)\n",
    "\n",
    "def plot_feature_importances(classifier, names, size=None):\n",
    "    sorted_indices = np.argsort(classifier.feature_importances_)\n",
    "    labels = names[sorted_indices][::-1]\n",
    "    Y = classifier.feature_importances_[sorted_indices][::-1]\n",
    "    X = [i for i in range(len(labels))]\n",
    "    if size is not None:\n",
    "        plt.figure(figsize = size)\n",
    "    plt.bar(X, Y, tick_label=labels)\n",
    "    plt.xticks(rotation='vertical')\n",
    "    plt.show()"
   ]
  },
  {
   "cell_type": "code",
   "execution_count": null,
   "metadata": {},
   "outputs": [],
   "source": [
    "classifier = classifier.fit(cancer.data, cancer.target)\n",
    "plot_feature_importances(classifier, cancer.feature_names)"
   ]
  },
  {
   "cell_type": "code",
   "execution_count": null,
   "metadata": {},
   "outputs": [],
   "source": [
    "classifier = classifier.fit(divorces['data'], divorces['target'])\n",
    "\n",
    "# treści pytań są długie, wykres etykietujemy więc samymi ich numerami\n",
    "labels = np.array(['question' + str(i) for i in range(1, len(divorces['feature_names']) + 1)])\n",
    "plot_feature_importances(classifier, labels, size=(20, 8))"
   ]
  },
  {
   "cell_type": "markdown",
   "metadata": {},
   "source": [
    "## Zadanie 1. Wpływ selekcji cech na efektywność klasyfikatorów"
   ]
  },
  {
   "cell_type": "markdown",
   "metadata": {},
   "source": [
    "W ramach zadania pierwszego każdy ze studentów powinien uruchomić pomiar skuteczności klasyfikatora K-nearest neighbors dla pewnego k, pewnej liczby cech m i określonego sposobu wyboru cech. Badane wartości to:\n",
    "\n",
    "k = \\[1, 3, 5\\]<br>\n",
    "m = \\[N, 2, 5\\]  N - pełna liczba cech (brak selekcji)<br>\n",
    "wybór cech: selekcja/losowy\n",
    "\n",
    "Każdy student powinien wykonać **dokładnie 1** pomiar. Wynik należy wpisać do odpowiedniej komórki tabeli, dostępnej pod adresem: https://docs.google.com/spreadsheets/d/1Y_qOVhLXfIi5w4YD38lMmljmqfbgDqyrm75lMnC50Oc/edit?usp=sharing\n",
    "\n",
    "(Przed uruchomieniem pomiaru, można \"zarezerwować\" odpowiednią komórkę tabeli, wpisując w nią znak '#')"
   ]
  },
  {
   "cell_type": "code",
   "execution_count": null,
   "metadata": {},
   "outputs": [],
   "source": [
    "from sklearn.neighbors import KNeighborsClassifier\n",
    "from sklearn.model_selection import cross_val_score\n",
    "from sklearn.feature_selection import SelectKBest\n",
    "from sklearn.feature_selection import f_classif\n",
    "from copy import deepcopy"
   ]
  },
  {
   "cell_type": "code",
   "execution_count": null,
   "metadata": {},
   "outputs": [],
   "source": [
    "def select_features(dataset, m, randomly):\n",
    "    if m >= len(dataset['feature_names']):\n",
    "        return dataset['data'], dataset['feature_names']\n",
    "    else:\n",
    "        if randomly:\n",
    "            indices = np.random.choice(np.arange(len(dataset['feature_names'])), size=m, replace=False)\n",
    "        else:\n",
    "            selector = SelectKBest(f_classif, k=m)\n",
    "            selector.fit(dataset['data'], dataset['target'])\n",
    "            indices = selector.get_support(indices=True)\n",
    "        reduced_data = np.array([sample.T[indices].T for sample in dataset['data']])\n",
    "        reduced_feature_names = dataset['feature_names'][indices]\n",
    "        return reduced_data, reduced_feature_names\n",
    "\n",
    "def knn_score(dataset, k, m, random_selection=False):\n",
    "    classifier = KNeighborsClassifier(n_neighbors=k)\n",
    "    dataset_reduced = deepcopy(dataset)\n",
    "    dataset_reduced['data'], dataset_reduced['feature_names'] = select_features(dataset, m, random_selection)\n",
    "    results = cross_val_score(classifier, dataset_reduced['data'], dataset_reduced['target'], cv=5)\n",
    "    return results.mean()"
   ]
  },
  {
   "cell_type": "code",
   "execution_count": null,
   "metadata": {},
   "outputs": [],
   "source": [
    "# wywołaj funkcję knn_score() z odpowiednimi parametrami"
   ]
  },
  {
   "cell_type": "markdown",
   "metadata": {},
   "source": [
    "## Macierz kowariancji"
   ]
  },
  {
   "cell_type": "markdown",
   "metadata": {},
   "source": [
    "### Wariancja"
   ]
  },
  {
   "cell_type": "markdown",
   "metadata": {},
   "source": [
    "**Wariancja** jest intuicyjnie utożsamiana ze zróżnicowaniem zbiorowości;\n",
    "jest średnią arytmetyczną kwadratów różnic poszczególnych wartości cechy od wartości oczekiwanej.\n",
    "Wariancję zmiennej losowej X oznaczamy jako:"
   ]
  },
  {
   "cell_type": "markdown",
   "metadata": {},
   "source": [
    "\\begin{align}\n",
    "Var(X)\\newline\n",
    "D^2(X)\n",
    "\\end{align}"
   ]
  },
  {
   "cell_type": "markdown",
   "metadata": {},
   "source": [
    "I obliczamy za pomocą wzoru:"
   ]
  },
  {
   "cell_type": "markdown",
   "metadata": {},
   "source": [
    "\\begin{align}\n",
    "D^2(X) = E(X^2) - [E(X)]^2\n",
    "\\end{align}"
   ]
  },
  {
   "cell_type": "markdown",
   "metadata": {},
   "source": [
    "Gdzie E[X] jest wartością oczekiwaną zmiennej losowej X."
   ]
  },
  {
   "cell_type": "markdown",
   "metadata": {},
   "source": [
    "### Kowariancja"
   ]
  },
  {
   "cell_type": "markdown",
   "metadata": {},
   "source": [
    "**Kowariancją** nazywamy zależnośc liniową między dwowa zmiennymi losowymi X i Y.\n",
    "Kowariancję oznaczamy jako:"
   ]
  },
  {
   "cell_type": "markdown",
   "metadata": {},
   "source": [
    "\\begin{align}\n",
    "cov(X,Y)\n",
    "\\end{align}"
   ]
  },
  {
   "cell_type": "markdown",
   "metadata": {},
   "source": [
    "I wyliczamy ze wzoru:"
   ]
  },
  {
   "cell_type": "markdown",
   "metadata": {},
   "source": [
    "\\begin{align}\n",
    "cov(X,Y) = E(X * Y) - E(X) * E(Y)\n",
    "\\end{align}"
   ]
  },
  {
   "cell_type": "markdown",
   "metadata": {},
   "source": [
    "### Macierz kowariancji"
   ]
  },
  {
   "cell_type": "markdown",
   "metadata": {},
   "source": [
    "#### 1. Sposób wyliczania\n",
    "**Macierz kowariancji** jest uogólnieniem pojęcia wariancji dla przypadków wielowymiarowych. Dla wektora losowego"
   ]
  },
  {
   "cell_type": "markdown",
   "metadata": {},
   "source": [
    "\\begin{align}\n",
    "(X_1,X_2,...,X_n)\n",
    "\\end{align}"
   ]
  },
  {
   "cell_type": "markdown",
   "metadata": {},
   "source": [
    "Ma ona postać:"
   ]
  },
  {
   "cell_type": "markdown",
   "metadata": {},
   "source": [
    "\\begin{equation*}\n",
    "\\Sigma =  \\begin{vmatrix}\n",
    "\\ \\sigma^2_1 & \\sigma_{12} & ... & \\sigma_{1n}  \\\\\n",
    "\\ \\sigma_{21} & \\sigma^2_2 & ... & \\sigma_{2n}  \\\\\n",
    "\\ ... & ... & ... & ... \\\\\n",
    "\\ \\sigma_{n1} & \\sigma_{n2} & ... & \\sigma^2_n\n",
    "\\end{vmatrix}\n",
    "\\end{equation*}"
   ]
  },
  {
   "cell_type": "markdown",
   "metadata": {},
   "source": [
    "Gdzie:"
   ]
  },
  {
   "cell_type": "markdown",
   "metadata": {},
   "source": [
    "\\begin{align}\n",
    "\\sigma^2_i = D^2(X_i) - wariancja\\; zmiennej\\; X_i \\\\\n",
    "\\end{align}"
   ]
  },
  {
   "cell_type": "markdown",
   "metadata": {},
   "source": [
    "\\begin{align}\n",
    "\\sigma_{ij} = cov(X_i, X_j) - kowariancja\\; miedzy\\; zmiennymi\\; losowymi\\; X_i\\; i\\; X_j\n",
    "\\end{align}"
   ]
  },
  {
   "cell_type": "markdown",
   "metadata": {},
   "source": [
    "#### 2. Macierz kowariancji w Pythonie\n",
    "\n",
    "Do wyznaczania macierzy kowariancji używamy funkcji cov z biblioteki numpy. Wylicza ona macierz na podstawie podanych tablic i wag."
   ]
  },
  {
   "cell_type": "markdown",
   "metadata": {},
   "source": [
    "<center>numpy.cov(m, y=None, rowvar=True, bias=False, ddof=None, fweights=None, aweights=None)</center>"
   ]
  },
  {
   "cell_type": "markdown",
   "metadata": {},
   "source": [
    "gdzie najważniejsze argumenty to:\n",
    "<ul>\n",
    "    <li> m - jedno- lub dwu- wymiarowa tablic danych, zawiarająca różne zmienne i obserwacje</li>\n",
    "    <li>bias - odpowiada za rodzaj normalizacji</li>\n",
    "    <li>fweights - jednowymiarowa tablica liczb całkowitych, wyznaczająca wagi częstotliwości, czyli ile razy dana obserwacja powinna być powtórzona</li>\n",
    "    <li>aweights - jednowymiarowa tablica, odpowiedzialna za wagi (\"ważność\") danych obserwacji.</li>\n",
    "</ul>"
   ]
  },
  {
   "cell_type": "markdown",
   "metadata": {},
   "source": [
    "#### 3. Działanie funkcji numpy.cov\n",
    "\n",
    "Mamy daną tablicę m, gdzie kolumny są poszeczególnymi obserwacjami, niech f = fweight i a = aweight. Wyliczanie macierzy kowariancji następuje w podany sposób:"
   ]
  },
  {
   "cell_type": "markdown",
   "metadata": {},
   "source": [
    "=> w = f * a<br>\n",
    "=> v1 = np.sum(w)<br>\n",
    "=> v2 = np.sum(w * a)<br>\n",
    "=> m -= np.sum(m * w, axis=1, keepdims=True) / v1<br>\n",
    "=> cov = np.dot(m * w, m.T) * v1 / (v1**2 - ddof * v2)<br>"
   ]
  },
  {
   "cell_type": "code",
   "execution_count": null,
   "metadata": {
    "pycharm": {
     "is_executing": true
    }
   },
   "outputs": [],
   "source": [
    "cancer.data[0:3,0:3]"
   ]
  },
  {
   "cell_type": "code",
   "execution_count": null,
   "metadata": {
    "pycharm": {
     "is_executing": true
    }
   },
   "outputs": [],
   "source": [
    "np.cov(cancer.data[0:3,0:3])"
   ]
  },
  {
   "cell_type": "code",
   "execution_count": null,
   "metadata": {
    "pycharm": {
     "is_executing": true
    }
   },
   "outputs": [],
   "source": [
    "cancer.data"
   ]
  },
  {
   "cell_type": "code",
   "execution_count": null,
   "metadata": {
    "pycharm": {
     "is_executing": true
    }
   },
   "outputs": [],
   "source": [
    "np.cov(cancer.data)"
   ]
  },
  {
   "cell_type": "markdown",
   "metadata": {},
   "source": [
    "### Heat map"
   ]
  },
  {
   "cell_type": "markdown",
   "metadata": {},
   "source": [
    "**Heat mapa** jest graficzną reprezentacją danych, gdzie każdy wartość elementu macierzy jest reprezentowana przez dany kolor."
   ]
  },
  {
   "cell_type": "markdown",
   "metadata": {},
   "source": [
    "<img src=\"heat_map.png\">"
   ]
  },
  {
   "cell_type": "code",
   "execution_count": null,
   "metadata": {
    "pycharm": {
     "is_executing": true
    }
   },
   "outputs": [],
   "source": [
    "import seaborn as sns"
   ]
  },
  {
   "cell_type": "code",
   "execution_count": null,
   "metadata": {
    "pycharm": {
     "is_executing": true
    }
   },
   "outputs": [],
   "source": [
    "matrix_data = np.cov(divorces['data'])"
   ]
  },
  {
   "cell_type": "code",
   "execution_count": null,
   "metadata": {
    "pycharm": {
     "is_executing": true
    }
   },
   "outputs": [],
   "source": [
    "plt.subplots(figsize=(20,15))\n",
    "sns.heatmap(matrix_data )"
   ]
  },
  {
   "cell_type": "markdown",
   "metadata": {
    "pycharm": {
     "is_executing": false
    }
   },
   "source": [
    "Heat mapy pozwalają na łatwiejsze znalezienie obszarów o większym znaczeniu w przypadku dużej ilości danych. Są one łatwiejsze do przeanalizowania niż surowe dane liczbowe.\n",
    "\n",
    "Z takiej heat mapy możemy odczytać jak dużą kowariancją cechują się dwie zmienne losowe. Duża kowariancja między dwiema zmiennymi wskazuje, że są one wysoce „skorelowane” - zawierają informacje, które można przewidzieć lub przedstawić pojedynczą zmienną.\n",
    "\n",
    "Klasyfikowanie dużych danych bywa czasochłonne i zasobożerne. Informacje, które można wywnioskować z heat mapy pozwalają nam wyłonić z pełnego zbioru danych odpowiedni fragment, który następnie posłuży do tworzenia bardziej optymalnych klasyfikatorów."
   ]
  },
  {
   "cell_type": "markdown",
   "metadata": {
    "pycharm": {
     "is_executing": true
    }
   },
   "source": [
    "## Transformacja PCA"
   ]
  },
  {
   "cell_type": "markdown",
   "metadata": {},
   "source": [
    "Transformacja PCA (Principal Component Analysis) jest algorytmem analizy danych. Wykorzystuje informacje o powiązaniach pomiędzy danymi wejściowymi. Umożliwia to dokonanie selekcji i \"kompresji\" danych bez utraty istotnych informacji pierwotnego zestawu danych. PCA może być wykorzystane właśnie w problemach kompresji, analizy oraz przetwarzania złożonych zbiorów danych tak, aby wyłuszczyć z nich składaniki o największej zmienności i największym wpływie na pozostałe informacje.\n",
    "\n",
    "Transfomacja PCA jest przekształceniem liniowym Y = W * X, gdzie Y - macierz przestrzeni wyjściowe, która zachowuje najistotniejsze informacje danych wejściowych X, a W jest macierzą przekształceń PCA."
   ]
  },
  {
   "cell_type": "markdown",
   "metadata": {},
   "source": [
    "### Sposób wyliczania"
   ]
  },
  {
   "cell_type": "markdown",
   "metadata": {},
   "source": [
    "Podobnie jak w przypadku macierzy kowariancji, danymi wejściowymi jest macierz X, w której każdy wiersz to jedna obserwacja. Wielkość takiej macierzy to N x P (gdzie N - wielkość wektora danych, a  P - ilość obserwacji).\n",
    "\n",
    "Dla tak przygotowanych danych należy wyznaczyć macierz autokorelacji."
   ]
  },
  {
   "cell_type": "markdown",
   "metadata": {},
   "source": [
    "\\begin{align}\n",
    "R_{xx} = \\frac{1}{P} XX^T\n",
    "\\end{align}"
   ]
  },
  {
   "cell_type": "markdown",
   "metadata": {},
   "source": [
    "Macierz Rxx posiada wymiary N × N. Informuje nas ona w jakim stopniu dane są skorelowane. Koeljnym krokiem algorytmu jest wyznaczenie wartości własnych macierzy Rxx oraz odpowiadających im wektorów własnych. Wartości te, wraz z odpowiadającymi im wektorami własnymi należy uszeregować malejąco. W ten sposób uzyskuje się macierz diagonalną:"
   ]
  },
  {
   "cell_type": "markdown",
   "metadata": {},
   "source": [
    "\\begin{equation*}\n",
    "D =  \\begin{vmatrix}\n",
    "\\ \\lambda_1 & 0 & ... & 0  \\\\\n",
    "\\ 0 & \\lambda_2 & ... & 0  \\\\\n",
    "\\ ... & ... & ... & ... \\\\\n",
    "\\ 0 & 0 & ... & \\lambda_N\n",
    "\\end{vmatrix}\n",
    "\\end{equation*}"
   ]
  },
  {
   "cell_type": "markdown",
   "metadata": {},
   "source": [
    "Gdzie:"
   ]
  },
  {
   "cell_type": "markdown",
   "metadata": {},
   "source": [
    "\\begin{align}\n",
    "\\lambda_1 > \\lambda_2 > .. > \\lambda_N\n",
    "\\end{align}"
   ]
  },
  {
   "cell_type": "markdown",
   "metadata": {},
   "source": [
    "to wartości własne. Macierzy odpowiada macierz wektorów własnych:"
   ]
  },
  {
   "cell_type": "markdown",
   "metadata": {},
   "source": [
    "\\begin{align}\n",
    "V = [v_1, v_2, ..., v_N]\n",
    "\\end{align}"
   ]
  },
  {
   "cell_type": "markdown",
   "metadata": {},
   "source": [
    "Istotnym krokiem transformacji jest ocena ile najistotniejszych czynników należy uwzględnić w przekształceniu. W tym celu należy wybrać pierwszy K największych wartości własnych macierzy D, odstających znacząco od pozostałych. W ten sposób otzywamujemy macierz przekształcenia uwzględniającą K znaczących wektorów własnych:"
   ]
  },
  {
   "cell_type": "markdown",
   "metadata": {},
   "source": [
    "\\begin{align}\n",
    "W = [v_1, v_2, ..., v_K]\n",
    "\\end{align}"
   ]
  },
  {
   "cell_type": "markdown",
   "metadata": {},
   "source": [
    "Finalnie, przekształcenie PCA danych wejściowych X przedstawia się jako przekształcenie liniowe wspomniane wcześniej:"
   ]
  },
  {
   "cell_type": "markdown",
   "metadata": {},
   "source": [
    "\\begin{align}\n",
    "Y = WX\n",
    "\\end{align}"
   ]
  },
  {
   "cell_type": "markdown",
   "metadata": {},
   "source": [
    "### Transformacja PCA w Pythonie"
   ]
  },
  {
   "cell_type": "markdown",
   "metadata": {},
   "source": [
    "Do wyznaczania transformacji PCA używamy klasy PCA z sklearn.decomposition."
   ]
  },
  {
   "cell_type": "markdown",
   "metadata": {},
   "source": [
    "<center>sklearn.decomposition.PCA(n_components=None, copy=True, whiten=False, svd_solver='auto', tol=0.0, iterated_power='auto', random_state=None)</center>"
   ]
  },
  {
   "cell_type": "markdown",
   "metadata": {},
   "source": [
    "gdzie najważniejszy argument to n_components - ilość elemetów, które chcemy zachować w transformacji. Jeżeli nie podana, wynosi ona min(n_samples, n_features)\n",
    "\n",
    "Klasa ta posiada m.in. pola:\n",
    "\n",
    "<ul>\n",
    "    <li>components_ - główne osie w przestrzeni cech, reprezentujące kierunki maksymalnej wariancji danych</li>\n",
    "    <li>explained_variance_ - wielkość wariancji dla każdego wybranego elementu</li>\n",
    "    <li>explained_variance_ratio_ - procentowa wielkość wariancji dla każdego wybranego elementu</li>\n",
    "    <li>n_features_ - liczba cech w danych traningowych</li>\n",
    "    <li>n_samples_ - liczba próbek w danych traningowych</li>\n",
    "</ul>"
   ]
  },
  {
   "cell_type": "markdown",
   "metadata": {},
   "source": [
    "Funkcja fit(self, X[, y]) dopasowuje model X.\n",
    "\n",
    "Funkcja transform(self, X) redukuje wielowymiarowość X.\n",
    "\n",
    "Funckja fit_transform(self, X[, y]) dopasowuje i redukuje wielomianowowść modelu X."
   ]
  },
  {
   "cell_type": "code",
   "execution_count": null,
   "metadata": {},
   "outputs": [],
   "source": [
    "from sklearn.decomposition import PCA\n",
    "from PIL import Image\n",
    "from numpy import asarray"
   ]
  },
  {
   "cell_type": "code",
   "execution_count": null,
   "metadata": {},
   "outputs": [],
   "source": [
    "pca = PCA()"
   ]
  },
  {
   "cell_type": "code",
   "execution_count": null,
   "metadata": {},
   "outputs": [],
   "source": [
    "pca.fit_transform(divorces['data'])"
   ]
  },
  {
   "cell_type": "markdown",
   "metadata": {},
   "source": [
    "### Przykład działania"
   ]
  },
  {
   "cell_type": "markdown",
   "metadata": {},
   "source": [
    "Będziemy przeprowadzać transformacje na pięć cech."
   ]
  },
  {
   "cell_type": "code",
   "execution_count": null,
   "metadata": {},
   "outputs": [],
   "source": [
    "pca = PCA(n_components = 5)\n",
    "\n",
    "model = pca.fit(divorces['data'])\n",
    "model_pc = model.transform(divorces['data'])"
   ]
  },
  {
   "cell_type": "code",
   "execution_count": null,
   "metadata": {},
   "outputs": [],
   "source": [
    "pd.DataFrame(data = divorces['data'], columns = divorces['feature_names'])"
   ]
  },
  {
   "cell_type": "code",
   "execution_count": null,
   "metadata": {},
   "outputs": [],
   "source": [
    "pd.DataFrame(data = model_pc, columns = ['principal component 1', 'principal component 2', 'principal component 3', 'principal component 4','principal component 5'])"
   ]
  },
  {
   "cell_type": "markdown",
   "metadata": {},
   "source": [
    "Na podstawie 40 originalnych cech powstało 5 nowych."
   ]
  },
  {
   "cell_type": "markdown",
   "metadata": {},
   "source": [
    "#### Nowe cechy"
   ]
  },
  {
   "cell_type": "code",
   "execution_count": null,
   "metadata": {
    "scrolled": false
   },
   "outputs": [],
   "source": [
    "from sklearn import preprocessing\n",
    "\n",
    "df = pd.DataFrame(data = divorces['data'], columns = divorces['feature_names'])\n",
    "pca.fit_transform(divorces['data'])\n",
    "data_scaled = pd.DataFrame(preprocessing.scale(df),columns = df.columns) \n",
    "pd.DataFrame(pca.components_,columns=data_scaled.columns,index = ['PC1','PC2','PC3','PC4','PC5'])"
   ]
  },
  {
   "cell_type": "markdown",
   "metadata": {},
   "source": [
    "Jak widać obie nowe cechy są pewną kombinacją originalnych cech."
   ]
  },
  {
   "cell_type": "markdown",
   "metadata": {},
   "source": [
    "#### Wizualizacja ważności cech"
   ]
  },
  {
   "cell_type": "markdown",
   "metadata": {},
   "source": [
    "Cechy originalne"
   ]
  },
  {
   "cell_type": "code",
   "execution_count": null,
   "metadata": {},
   "outputs": [],
   "source": [
    "classifier = classifier.fit(divorces['data'], divorces['target'])\n",
    "\n",
    "# treści pytań są długie, wykres etykietujemy więc samymi ich numerami\n",
    "labels = np.array(['question' + str(i) for i in range(1, len(divorces['feature_names']) + 1)])\n",
    "plot_feature_importances(classifier, labels, size=(20, 8))"
   ]
  },
  {
   "cell_type": "markdown",
   "metadata": {},
   "source": [
    "Nowe cechy"
   ]
  },
  {
   "cell_type": "code",
   "execution_count": null,
   "metadata": {},
   "outputs": [],
   "source": [
    "df = pd.DataFrame({'variance':pca.explained_variance_, 'PC':['PC1','PC2','PC3','PC4','PC5']})\n",
    "sns.barplot(x='PC',y=\"variance\", data=df, color=\"c\")"
   ]
  },
  {
   "cell_type": "markdown",
   "metadata": {},
   "source": [
    "# Zadanie 2. Wpływ nowych cech na efektywność klasyfikatorów¶"
   ]
  },
  {
   "cell_type": "markdown",
   "metadata": {},
   "source": [
    "W ramach zadania drugiego każdy ze studentów powinien uruchomić pomiar skuteczności klasyfikatora K-nearest neighbors dla pewnego k, pewnej liczby m \"nowych\" najlepszych i \"starych\" najlepszych cech. Badane wartości to:\n",
    "\n",
    "k = [1, 3, 5]\n",
    "m = [N, 2, 5] N - pełna liczba cech (brak selekcji)\n",
    "\n",
    "Gdzieś wklejmy wyniki"
   ]
  },
  {
   "cell_type": "code",
   "execution_count": null,
   "metadata": {},
   "outputs": [],
   "source": [
    "def select_features(dataset, m):\n",
    "    if m >= len(dataset['feature_names']):\n",
    "        return dataset['data'], dataset['feature_names']\n",
    "    else:        \n",
    "        selector = SelectKBest(f_classif, k=m)\n",
    "        selector.fit(dataset['data'], dataset['target'])\n",
    "        indices = selector.get_support(indices=True)\n",
    "        reduced_data = np.array([sample.T[indices].T for sample in dataset['data']])\n",
    "        reduced_feature_names = dataset['feature_names'][indices]\n",
    "        return reduced_data, reduced_feature_names\n",
    "\n",
    "def knn_score(dataset, k, m):\n",
    "    classifier = KNeighborsClassifier(n_neighbors=k)\n",
    "    dataset_reduced = deepcopy(dataset)\n",
    "    dataset_reduced['data'], dataset_reduced['feature_names'] = select_features(dataset, m)\n",
    "    results = cross_val_score(classifier, dataset_reduced['data'], dataset_reduced['target'], cv=5)\n",
    "    return results.mean()"
   ]
  },
  {
   "cell_type": "markdown",
   "metadata": {},
   "source": [
    "Poniżej jest przygotowanie danych i stworzenie m nowych cech zbioru `cancer`"
   ]
  },
  {
   "cell_type": "code",
   "execution_count": null,
   "metadata": {},
   "outputs": [],
   "source": [
    "#normalizing before pca transformation\n",
    "cancer['data'] = preprocessing.scale(cancer['data'])"
   ]
  },
  {
   "cell_type": "code",
   "execution_count": null,
   "metadata": {},
   "outputs": [],
   "source": [
    "from sklearn import preprocessing\n",
    "\n",
    "m = 5\n",
    "\n",
    "pca = PCA(n_components = m)\n",
    "cancer_pca = deepcopy(cancer)\n",
    "\n",
    "cancer_pca['data'] = model.fit_transform(cancer_pca['data'])\n",
    "#normalizing before knn\n",
    "cancer_pca['data'] = preprocessing.scale(cancer_pca['data'])\n",
    "cancer_pca['feature_names'] = asarray(['F' + str(i) for i in range(1,m+1)])"
   ]
  },
  {
   "cell_type": "code",
   "execution_count": null,
   "metadata": {},
   "outputs": [],
   "source": [
    "k = 5\n",
    "print(knn_score(cancer_pca, k, m))\n",
    "print(knn_score(cancer, k, m))"
   ]
  },
  {
   "cell_type": "markdown",
   "metadata": {},
   "source": [
    "Jak w zadaniu poprzednim, wyniki należy wpisać pod [tym](https://docs.google.com/spreadsheets/d/1Y_qOVhLXfIi5w4YD38lMmljmqfbgDqyrm75lMnC50Oc/edit#gid=0) linkiem pod tabelą \"Wydajność klasyfikatora K-nearest neighbors dla \"nowych\" i \"starych\" cech\" tak aby wspólnie ją uzupełnić. "
   ]
  },
  {
   "cell_type": "markdown",
   "metadata": {},
   "source": [
    "## Wizualizacja zbioru danych przy pomocy PCA w dwóch wymiarach"
   ]
  },
  {
   "cell_type": "code",
   "execution_count": null,
   "metadata": {},
   "outputs": [],
   "source": [
    "# source : https://towardsdatascience.com/pca-using-python-scikit-learn-e653f8989e60\n",
    "pca = PCA(n_components=2)\n",
    "# divorces_pca = deepcopy(divorces)\n",
    "principalComponents = pca.fit_transform(divorces['data'])\n",
    "principalDf = pd.DataFrame(data = principalComponents, columns = ['principal component 1', 'principal component 2'])\n",
    "targetDf = pd.DataFrame(data = divorces['target'], columns = ['target'])\n",
    "finalDf = pd.concat([principalDf, targetDf], axis = 1)"
   ]
  },
  {
   "cell_type": "code",
   "execution_count": null,
   "metadata": {
    "scrolled": true
   },
   "outputs": [],
   "source": [
    "fig = plt.figure(figsize = (8,8))\n",
    "ax = fig.add_subplot(1,1,1) \n",
    "ax.set_xlabel('Principal Component 1', fontsize = 15)\n",
    "ax.set_ylabel('Principal Component 2', fontsize = 15)\n",
    "ax.set_title('2 component PCA', fontsize = 20)\n",
    "targets = [1, 0]\n",
    "colors = ['r', 'g']\n",
    "for target, color in zip(targets,colors):\n",
    "    indicesToKeep = finalDf['target'] == target\n",
    "    ax.scatter(finalDf.loc[indicesToKeep, 'principal component 1']\n",
    "               , finalDf.loc[indicesToKeep, 'principal component 2']\n",
    "               , c = color\n",
    "               , s = 50)\n",
    "ax.legend(['Divorced', 'Not divorced'])\n",
    "ax.grid()"
   ]
  },
  {
   "cell_type": "markdown",
   "metadata": {},
   "source": [
    "### Wykrycie i zaznaczenie outlierów"
   ]
  },
  {
   "cell_type": "markdown",
   "metadata": {},
   "source": [
    "Wykrycie oultierów zostanie wykonane przez użycie Z-score. Polegać będzie to na przeskalowaniu danych i ich centralizacji oraz określeniu ich odległości od zera. Te wartości, które będą miały bezwzględny Z-score większy od pewnej wartości, np. 3, będą uznane za outliery."
   ]
  },
  {
   "cell_type": "code",
   "execution_count": null,
   "metadata": {},
   "outputs": [],
   "source": [
    "from scipy import stats\n",
    "import numpy as np\n",
    "z = np.abs(stats.zscore(principalDf))\n",
    "print((z > 3).any(axis = 1))\n",
    "divorces_outliers = principalDf[(z > 3).any(axis = 1)]\n",
    "divorces_outliers"
   ]
  },
  {
   "cell_type": "markdown",
   "metadata": {},
   "source": [
    "Wykrycie źle skwalifikowanych przykladów"
   ]
  },
  {
   "cell_type": "code",
   "execution_count": null,
   "metadata": {},
   "outputs": [],
   "source": [
    "from sklearn.metrics import accuracy_score\n",
    "\n",
    "x_train, x_test, y_train, y_test =  train_test_split(divorces['data'],divorces['target'], \n",
    "                                                     test_size=0.5,random_state=0 )\n",
    "\n",
    "x_train_scaled = preprocessing.scale(x_train)\n",
    "x_test_scaled = preprocessing.scale(x_test)\n",
    "\n",
    "pca = PCA(n_components=2)\n",
    "pca.fit(x_train_scaled)\n",
    "x_train_pca = pca.transform(x_train_scaled)\n",
    "x_test_pca = pca.transform(x_test_scaled)\n",
    "\n",
    "knc_pca = KNeighborsClassifier(n_neighbors=5, algorithm='auto').fit(x_train_pca, y_train)\n",
    "predict_y_pca = knc_pca.predict(x_test_pca)\n",
    "\n",
    "x_test_pca_df = pd.DataFrame(x_test_pca, columns = ['principal component 1', 'principal component 2'])\n",
    "\n",
    "incorrects = x_test_pca_df[predict_y_pca != y_test]\n",
    "incorrects"
   ]
  },
  {
   "cell_type": "code",
   "execution_count": null,
   "metadata": {},
   "outputs": [],
   "source": [
    "fig = plt.figure(figsize = (8,8))\n",
    "ax = fig.add_subplot(1,1,1) \n",
    "ax.set_xlabel('Principal Component 1', fontsize = 15)\n",
    "ax.set_ylabel('Principal Component 2', fontsize = 15)\n",
    "ax.set_title('2 component PCA', fontsize = 20)\n",
    "targets = [1, 0]\n",
    "colors = ['r', 'g']\n",
    "for target, color in zip(targets,colors):\n",
    "    indicesToKeep = finalDf['target'] == target\n",
    "    ax.scatter(finalDf.loc[indicesToKeep, 'principal component 1']\n",
    "               , finalDf.loc[indicesToKeep, 'principal component 2']\n",
    "               , c = color\n",
    "               , s = 50)\n",
    "ax.scatter(incorrects['principal component 1']\n",
    "       , incorrects['principal component 2']\n",
    "       , c = 'b'\n",
    "       , s = 50)\n",
    "ax.scatter(divorces_outliers['principal component 1']\n",
    "       , divorces_outliers['principal component 2']\n",
    "       , c = 'y'\n",
    "       , s = 50)\n",
    "ax.legend(['Divorced', 'Not divorced', 'Incorect', 'Outlier'])\n",
    "ax.grid()"
   ]
  },
  {
   "cell_type": "markdown",
   "metadata": {},
   "source": [
    "# Zadanie końcowe"
   ]
  },
  {
   "cell_type": "markdown",
   "metadata": {},
   "source": [
    "W zbiorach CIFAR-10 . Do dalszych eksperymentów wybrać\n",
    "ilość przykładów nie większy niż M=2xN !!!(N- ilość cech).\n",
    "1. znaleźć NAJMNIEJ INFORMATYWNE cechy (piksele). Zobrazować je na\n",
    "rysunku, wielkością odpowiadającemu klasyfikowanym obrazkom.\n",
    "2. Dokonać klasyfikacji k-nn na pełnym zbiorze i zbiorze bez m najmniej\n",
    "informatywnych cech.\n",
    "3. Przetransformować zbiory przy pomocy PCA z N-D do N-D. Jak wyglądają\n",
    "(obrazki) wektory własne odpowiadające największym wartością własnym.\n",
    "Sprawdzić, czy poprawił się wynik klasyfikacji. Dokonać wizualizacji 2-D przy\n",
    "pomocy PCA.\n",
    "4. Usunąć m najmniej informatywnych cech PCA. Jak wygląda wynik klasyfikacji.\n",
    "5. Wybrac m NAJLEPSZYCH cech PCA. Jak wygląda teraz wynik klasyfikacji.\n",
    "6. Wartość m w przypadku wyboru najgorszych cech ma być duże (dla N=784\n",
    "jakieś m=500), w przypadku wyboru najlepszych małe (m=10-20)\n",
    "7. Dokonać klasyfikacji z PCA i bez PCA (na pełnym zbiorze cech i zadanym małym\n",
    "M), ale zwiększając ilość przykładów przy pomocy augmentacji (imgaug).\n",
    "8. Wnioski (co lepsze augmentacja czy inżynieria cech?)"
   ]
  },
  {
   "cell_type": "code",
   "execution_count": null,
   "metadata": {},
   "outputs": [],
   "source": []
  }
 ],
 "metadata": {
  "kernelspec": {
   "display_name": "Python 3",
   "language": "python",
   "name": "python3"
  },
  "language_info": {
   "codemirror_mode": {
    "name": "ipython",
    "version": 3
   },
   "file_extension": ".py",
   "mimetype": "text/x-python",
   "name": "python",
   "nbconvert_exporter": "python",
   "pygments_lexer": "ipython3",
   "version": "3.7.7"
  }
 },
 "nbformat": 4,
 "nbformat_minor": 2
}
