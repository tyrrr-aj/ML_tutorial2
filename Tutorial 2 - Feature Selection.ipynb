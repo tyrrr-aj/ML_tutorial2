{
 "cells": [
  {
   "cell_type": "markdown",
   "metadata": {},
   "source": [
    "# Podstawy uczenia maszynowego - tutorial 2: Feature selection and extraction"
   ]
  },
  {
   "cell_type": "code",
   "execution_count": 2,
   "metadata": {
    "pycharm": {
     "is_executing": true
    }
   },
   "outputs": [],
   "source": [
    "import numpy as np\n",
    "import matplotlib.pyplot as plt\n",
    "import pandas as pd"
   ]
  },
  {
   "cell_type": "markdown",
   "metadata": {},
   "source": [
    "## Przygotowanie zbiorów danych"
   ]
  },
  {
   "cell_type": "code",
   "execution_count": 7,
   "metadata": {
    "pycharm": {
     "is_executing": true
    }
   },
   "outputs": [],
   "source": [
    "from sklearn import datasets\n",
    "from sklearn.model_selection import train_test_split\n",
    "from sklearn.preprocessing import scale\n",
    "from copy import deepcopy"
   ]
  },
  {
   "cell_type": "code",
   "execution_count": 8,
   "metadata": {
    "pycharm": {
     "is_executing": true
    }
   },
   "outputs": [],
   "source": [
    "# Zbiór danych medycznych pacjentów pozwalający na diagnostykę raka płuc\n",
    "\n",
    "cancer = datasets.load_breast_cancer()\n",
    "cancer.data = scale(cancer.data)\n",
    "\n",
    "cancer_reduced = deepcopy(cancer)"
   ]
  },
  {
   "cell_type": "code",
   "execution_count": 9,
   "metadata": {
    "pycharm": {
     "is_executing": true
    },
    "scrolled": true
   },
   "outputs": [],
   "source": [
    "# zbiór danych pozwalający przewidywać, czy małżeństwo się rozpadnie na podstawie odpowiedzi (w skali 0-4) na 56 pytań\n",
    "\n",
    "divorces = pd.read_csv('./datasets/divorce.csv', sep=';')\n",
    "\n",
    "# treści pytań są przechowywane w osobnym pliku\n",
    "with open('./datasets/questions.csv') as file:\n",
    "    questions = np.array(file.read().split('\\n'))\n",
    "\n",
    "divorces = {\n",
    "    'data': divorces.drop(labels=['Class'], axis=1).astype(float),\n",
    "    'target': list(divorces['Class']),\n",
    "    'feature_names': questions\n",
    "}\n",
    "\n",
    "divorces['data'] = scale(divorces['data'])\n",
    "\n",
    "divorces_reduced = deepcopy(divorces)"
   ]
  },
  {
   "cell_type": "markdown",
   "metadata": {},
   "source": [
    "## Selekcja cech"
   ]
  },
  {
   "cell_type": "markdown",
   "metadata": {},
   "source": [
    "Selekcja cech to ograniczenie liczby atrybutów danych, na których pracuje model, przez odrzucenie najmniej użytecznych z nich. Taka rezygnacja z części danych pozwala osiągnąć konkretne korzyści:\n",
    "* redukcja wymiarów - odrzucenie części cech oznacza zmniejszenie wymiarowości problemu, co ułatwia uniknięcie przetrenowania modelu\n",
    "* uproszczenie modelu - model pracujący na mniejszej liczbie cech jest bardziej zrozumiały i łatwiej identyfikować w nim problemy\n",
    "* lepsze wyniki - cechy niezwiązane z badaną właściwością mogą w sposób losowy zaburzać otrzymywane wyniki\n",
    "* poprawa wydajności - mało istotne cechy są przetwarzane niepotrzebnie"
   ]
  },
  {
   "cell_type": "markdown",
   "metadata": {},
   "source": [
    "### Metody Selekcji cech"
   ]
  },
  {
   "cell_type": "markdown",
   "metadata": {},
   "source": [
    "#### 1. Odrzucenie cech niecharakterystycznych"
   ]
  },
  {
   "cell_type": "markdown",
   "metadata": {},
   "source": [
    "Cechy, które wykazują niewielką zmienność pomiędzy próbkami, prawdopodobnie nie niosą szczególnie użytecznej informacji - zazwyczaj nie można na ich podstawie dokonać klasyfikacji (choć warto zachować ostrożność przy zbiorach danych o silnej dysproporcji pomiędzy licznościami klas oraz cechach mogących przyjmować wartości z niewielkiego zakresu). Cechy takie można rozpoznać po niewielkiej wariancji - stąd najprostsze podejście do selekcji cech może polegać na ich przefiltrowaniu i odrzuceniu tych o zbyt niskiej wariancji."
   ]
  },
  {
   "cell_type": "code",
   "execution_count": 10,
   "metadata": {
    "pycharm": {
     "is_executing": true
    }
   },
   "outputs": [],
   "source": [
    "from sklearn.feature_selection import VarianceThreshold"
   ]
  },
  {
   "cell_type": "code",
   "execution_count": 11,
   "metadata": {
    "pycharm": {
     "is_executing": true
    }
   },
   "outputs": [],
   "source": [
    "# variance should equal, because ...\n",
    "\n",
    "selector = VarianceThreshold()\n",
    "cancer_reduced.data = selector.fit_transform(cancer.data)\n",
    "\n",
    "\n",
    "# lista atrybutów wymaga zaktualizowania, selector.get_support() zwraca indeksy wybranych cech\n",
    "cancer_reduced['feature_names'] = cancer['feature_names'][selector.get_support(indices=True)]"
   ]
  },
  {
   "cell_type": "code",
   "execution_count": 12,
   "metadata": {
    "pycharm": {
     "is_executing": true
    }
   },
   "outputs": [],
   "source": [
    "selector = VarianceThreshold()\n",
    "divorces_reduced['data'] = selector.fit_transform(divorces['data'])\n",
    "\n",
    "divorces_reduced['feature_names'] = divorces['feature_names'][selector.get_support(indices=True)]"
   ]
  },
  {
   "cell_type": "markdown",
   "metadata": {},
   "source": [
    "#### 2. Odrzucenie cech niezwiązanych z badaną właściwością"
   ]
  },
  {
   "cell_type": "markdown",
   "metadata": {},
   "source": [
    "Możemy spróbować przewidzieć, na ile każda z cech jest związana z badaną właściwością, i odrzucić te, dla których związek jest luźny. Możliwe są dwa zasadnicze podejścia:"
   ]
  },
  {
   "cell_type": "markdown",
   "metadata": {},
   "source": [
    "##### 2.1. Obliczenie korelacji"
   ]
  },
  {
   "cell_type": "markdown",
   "metadata": {},
   "source": [
    "Najprostszym sposobem określenia, czy cecha jest związana z inną (w szczególności - przynależnością do danej klasy) jest obliczenie korelacji między nimi."
   ]
  },
  {
   "cell_type": "code",
   "execution_count": 13,
   "metadata": {
    "pycharm": {
     "is_executing": true
    }
   },
   "outputs": [],
   "source": [
    "def filter_correlation(X, Y, feature_names, n_features):\n",
    "    scores = [abs(np.corrcoef(feature, Y))[0, 1] for feature in X.T]\n",
    "    selected_indices = np.argsort(scores)[:n_features]\n",
    "    data = X.T[selected_indices].T\n",
    "    selected_feature_names = feature_names[selected_indices]\n",
    "    return data, selected_feature_names"
   ]
  },
  {
   "cell_type": "code",
   "execution_count": 14,
   "metadata": {
    "pycharm": {
     "is_executing": true
    }
   },
   "outputs": [],
   "source": [
    "cancer_reduced.data, cancer_reduced.feature_names = filter_correlation(cancer.data, cancer.target, cancer.feature_names, 15)"
   ]
  },
  {
   "cell_type": "code",
   "execution_count": 15,
   "metadata": {
    "pycharm": {
     "is_executing": true
    }
   },
   "outputs": [],
   "source": [
    "divorces_reduced['data'], divorces_reduced['feature_names'] = \\\n",
    "    filter_correlation(divorces['data'], divorces['target'], divorces['feature_names'], 40)"
   ]
  },
  {
   "cell_type": "markdown",
   "metadata": {},
   "source": [
    "##### 2.2. Inne statystyki"
   ]
  },
  {
   "cell_type": "markdown",
   "metadata": {},
   "source": [
    "Alternatywnie, możemy wykorzystać inną statystykę, której wartość rośnie wraz ze wzrostem różnicy wartości w dwóch grupach - np. ANOVA (częstym wyborem jest miara Chi-Square, nie nadaje się ona jednak do znormalizowanych danych - nie dopuszcza wartości ujemnych, konieczne więc byłoby dodatkowe przesunięcie danych). \n",
    "\n",
    "W tym celu zakładamy, że badana cecha (nazwijmy ją A) nie ma związku z przynależnością próbki do określonej klasy (oznaczmy ją przez C). Opierając się na tym założeniu, obliczamy, ile próbek z każdą możliwą wartością cechy A powinno należeć do klasy C (jako liczba próbek o danej wartości cechy A * liczba próbek w ekperymencie należących do klasy C / liczba wszystkich próbek),\n",
    "i obliczamy wartość wybranej statystyki na podstawie różnic pomiędzy otrzymanymi wartościami a rzeczywistymi danymi."
   ]
  },
  {
   "cell_type": "code",
   "execution_count": 20,
   "metadata": {
    "pycharm": {
     "is_executing": true
    }
   },
   "outputs": [],
   "source": [
    "from sklearn.feature_selection import SelectKBest\n",
    "from sklearn.feature_selection import f_classif"
   ]
  },
  {
   "cell_type": "code",
   "execution_count": 21,
   "metadata": {
    "pycharm": {
     "is_executing": true
    }
   },
   "outputs": [],
   "source": [
    "selector = SelectKBest(f_classif, k=20)\n",
    "\n",
    "cancer_reduced.data = selector.fit_transform(cancer.data, cancer.target)\n",
    "cancer_reduced.feature_names = cancer.feature_names[selector.get_support(indices=True)]"
   ]
  },
  {
   "cell_type": "code",
   "execution_count": 22,
   "metadata": {
    "pycharm": {
     "is_executing": true
    }
   },
   "outputs": [],
   "source": [
    "selector = SelectKBest(f_classif, k=30)\n",
    "\n",
    "divorces_reduced['data'] = selector.fit_transform(divorces['data'], divorces['target'])\n",
    "divorces_reduced['feature_names'] = divorces['feature_names'][selector.get_support(indices=True)]"
   ]
  },
  {
   "cell_type": "markdown",
   "metadata": {},
   "source": [
    "#### 3. Próbne wytrenowanie modelu"
   ]
  },
  {
   "cell_type": "markdown",
   "metadata": {},
   "source": [
    "##### 3.1. Odfiltrowanie cech nieznaczących"
   ]
  },
  {
   "cell_type": "markdown",
   "metadata": {},
   "source": [
    "Zamiast \"ręcznie\" znajdować i usuwać mało istotne cechy, możemy spróbować wytrenować na naszych danych model, który ucząc się \"przy okazji\" zapisuje istotność cech, i usunąć te, które nie mają dużego znaczenia w podejmowaniu decyzji przez model. Aby zastosować takie podejści, konieczny jest wybór modelu, który udostępnia istotność cech - w przypadku Scikit-learn są to modele posiadające pole coef_ lub feature_importances_."
   ]
  },
  {
   "cell_type": "code",
   "execution_count": 23,
   "metadata": {
    "pycharm": {
     "is_executing": true
    }
   },
   "outputs": [],
   "source": [
    "from sklearn.feature_selection import SelectFromModel\n",
    "from sklearn.ensemble import ExtraTreesClassifier"
   ]
  },
  {
   "cell_type": "code",
   "execution_count": 24,
   "metadata": {
    "pycharm": {
     "is_executing": true
    }
   },
   "outputs": [],
   "source": [
    "classifier = ExtraTreesClassifier(n_estimators=50)\n",
    "\n",
    "classifier = classifier.fit(cancer.data, cancer.target)\n",
    "selector = SelectFromModel(classifier, prefit=True)\n",
    "\n",
    "cancer_reduced.data = selector.transform(cancer.data)\n",
    "cancer_reduced.feature_names = cancer.feature_names[selector.get_support(indices=True)]"
   ]
  },
  {
   "cell_type": "code",
   "execution_count": 25,
   "metadata": {
    "pycharm": {
     "is_executing": true
    }
   },
   "outputs": [],
   "source": [
    "classifier = ExtraTreesClassifier(n_estimators=50)\n",
    "\n",
    "classifier = classifier.fit(divorces['data'], divorces['target'])\n",
    "selector = SelectFromModel(classifier, prefit=True)\n",
    "\n",
    "divorces_reduced['data'] = selector.transform(divorces['data'])\n",
    "divorces_reduced['feature_names'] = divorces['feature_names'][selector.get_support(indices=True)]"
   ]
  },
  {
   "cell_type": "markdown",
   "metadata": {},
   "source": [
    "##### 3.2. Rekurencyjny wybór zadanej liczby najlepszych cech"
   ]
  },
  {
   "cell_type": "markdown",
   "metadata": {},
   "source": [
    "Jeżeli chcemy ograniczyć liczbę cech do konkretnej wartości, powyższe podejście można zmodyfikować: zamiast wybierać cechy powyżej określonej granicy, lepszym podejściem może być odrzucenie najsłabszej z cech (lub kilku najgorszych) i rekurencyjne powtarzanie procesu, aż do osiągnięcia zadanej ich liczby."
   ]
  },
  {
   "cell_type": "code",
   "execution_count": 26,
   "metadata": {
    "pycharm": {
     "is_executing": true
    }
   },
   "outputs": [],
   "source": [
    "from sklearn.feature_selection import RFE\n",
    "from sklearn.ensemble import ExtraTreesClassifier"
   ]
  },
  {
   "cell_type": "code",
   "execution_count": 27,
   "metadata": {
    "pycharm": {
     "is_executing": true
    }
   },
   "outputs": [],
   "source": [
    "estimator = ExtraTreesClassifier(n_estimators=50)\n",
    "selector = RFE(estimator, 20, step=3)\n",
    "\n",
    "cancer_reduced.data = selector.fit_transform(cancer.data, cancer.target)\n",
    "cancer_reduced.feature_names = cancer.feature_names[selector.get_support(indices=True)]"
   ]
  },
  {
   "cell_type": "code",
   "execution_count": 28,
   "metadata": {
    "pycharm": {
     "is_executing": true
    }
   },
   "outputs": [],
   "source": [
    "estimator = ExtraTreesClassifier(n_estimators=50)\n",
    "selector = RFE(estimator, 30, step=3)\n",
    "\n",
    "divorces_reduced['data'] = selector.fit_transform(divorces['data'], divorces['target'])\n",
    "divorces_reduced['feature_names'] = divorces['feature_names'][selector.get_support(indices=True)]"
   ]
  },
  {
   "cell_type": "markdown",
   "metadata": {},
   "source": [
    "## Wizualizacja"
   ]
  },
  {
   "cell_type": "markdown",
   "metadata": {},
   "source": [
    "Wizualizację ważności poszczególnych cech najłatwiej jest oprzeć o próbne wytrenowanie modelu i odczytanie wartości z pola *feature_importances_*"
   ]
  },
  {
   "cell_type": "code",
   "execution_count": 29,
   "metadata": {},
   "outputs": [],
   "source": [
    "from sklearn.ensemble import ExtraTreesClassifier\n",
    "\n",
    "classifier = ExtraTreesClassifier(n_estimators=50)\n",
    "\n",
    "def plot_feature_importances(classifier, names, size=None):\n",
    "    sorted_indices = np.argsort(classifier.feature_importances_)\n",
    "    labels = names[sorted_indices][::-1]\n",
    "    Y = classifier.feature_importances_[sorted_indices][::-1]\n",
    "    X = [i for i in range(len(labels))]\n",
    "    if size is not None:\n",
    "        plt.figure(figsize = size)\n",
    "    plt.bar(X, Y, tick_label=labels)\n",
    "    plt.xticks(rotation='vertical')\n",
    "    plt.show()"
   ]
  },
  {
   "cell_type": "code",
   "execution_count": 30,
   "metadata": {},
   "outputs": [
    {
     "data": {
      "image/png": "[encoded data removed]",
      "text/plain": [
       "<Figure size 432x288 with 1 Axes>"
      ]
     },
     "metadata": {
      "needs_background": "light"
     },
     "output_type": "display_data"
    }
   ],
   "source": [
    "classifier = classifier.fit(cancer.data, cancer.target)\n",
    "plot_feature_importances(classifier, cancer.feature_names)"
   ]
  },
  {
   "cell_type": "code",
   "execution_count": 31,
   "metadata": {},
   "outputs": [
    {
     "data": {
      "image/png": "[encoded data removed]",
      "text/plain": [
       "<Figure size 1440x576 with 1 Axes>"
      ]
     },
     "metadata": {
      "needs_background": "light"
     },
     "output_type": "display_data"
    }
   ],
   "source": [
    "classifier = classifier.fit(divorces['data'], divorces['target'])\n",
    "\n",
    "# treści pytań są długie, wykres etykietujemy więc samymi ich numerami\n",
    "labels = np.array(['question' + str(i) for i in range(1, len(divorces['feature_names']) + 1)])\n",
    "plot_feature_importances(classifier, labels, size=(20, 8))"
   ]
  },
  {
   "cell_type": "markdown",
   "metadata": {},
   "source": [
    "## Macierz kowariancji"
   ]
  },
  {
   "cell_type": "markdown",
   "metadata": {},
   "source": [
    "### Wariancja"
   ]
  },
  {
   "cell_type": "markdown",
   "metadata": {},
   "source": [
    "**Wariancja** jest intuicyjnie utożsamiana ze zróżnicowaniem zbiorowości;\n",
    "jest średnią arytmetyczną kwadratów różnic poszczególnych wartości cechy od wartości oczekiwanej.\n",
    "Wariancję zmiennej losowej X oznaczamy jako:"
   ]
  },
  {
   "cell_type": "markdown",
   "metadata": {},
   "source": [
    "\\begin{align}\n",
    "Var(X)\\newline\n",
    "D^2(X)\n",
    "\\end{align}"
   ]
  },
  {
   "cell_type": "markdown",
   "metadata": {},
   "source": [
    "I obliczamy za pomocą wzoru:"
   ]
  },
  {
   "cell_type": "markdown",
   "metadata": {},
   "source": [
    "\\begin{align}\n",
    "D^2(X) = E(X^2) - [E(X)]^2\n",
    "\\end{align}"
   ]
  },
  {
   "cell_type": "markdown",
   "metadata": {},
   "source": [
    "Gdzie E[X] jest wartością oczekiwaną zmiennej losowej X."
   ]
  },
  {
   "cell_type": "markdown",
   "metadata": {},
   "source": [
    "### Kowariancja"
   ]
  },
  {
   "cell_type": "markdown",
   "metadata": {},
   "source": [
    "**Kowariancją** nazywamy zależnośc liniową między dwowa zmiennymi losowymi X i Y.\n",
    "Kowariancję oznaczamy jako:"
   ]
  },
  {
   "cell_type": "markdown",
   "metadata": {},
   "source": [
    "\\begin{align}\n",
    "cov(X,Y)\n",
    "\\end{align}"
   ]
  },
  {
   "cell_type": "markdown",
   "metadata": {},
   "source": [
    "I wyliczamy ze wzoru:"
   ]
  },
  {
   "cell_type": "markdown",
   "metadata": {},
   "source": [
    "\\begin{align}\n",
    "cov(X,Y) = E(X * Y) - E(X) * E(Y)\n",
    "\\end{align}"
   ]
  },
  {
   "cell_type": "markdown",
   "metadata": {},
   "source": [
    "### Macierz kowariancji"
   ]
  },
  {
   "cell_type": "markdown",
   "metadata": {},
   "source": [
    "#### 1. Sposób wyliczania\n",
    "**Macierz kowariancji** jest uogólnieniem pojęcia wariancji dla przypadków wielowymiarowych. Dla wektora losowego"
   ]
  },
  {
   "cell_type": "markdown",
   "metadata": {},
   "source": [
    "\\begin{align}\n",
    "(X_1,X_2,...,X_n)\n",
    "\\end{align}"
   ]
  },
  {
   "cell_type": "markdown",
   "metadata": {},
   "source": [
    "Ma ona postać:"
   ]
  },
  {
   "cell_type": "markdown",
   "metadata": {},
   "source": [
    "\\begin{equation*}\n",
    "\\Sigma =  \\begin{vmatrix}\n",
    "\\ \\sigma^2_1 & \\sigma_{12} & ... & \\sigma_{1n}  \\\\\n",
    "\\ \\sigma_{21} & \\sigma^2_2 & ... & \\sigma_{2n}  \\\\\n",
    "\\ ... & ... & ... & ... \\\\\n",
    "\\ \\sigma_{n1} & \\sigma_{n2} & ... & \\sigma^2_n\n",
    "\\end{vmatrix}\n",
    "\\end{equation*}"
   ]
  },
  {
   "cell_type": "markdown",
   "metadata": {},
   "source": [
    "Gdzie:"
   ]
  },
  {
   "cell_type": "markdown",
   "metadata": {},
   "source": [
    "\\begin{align}\n",
    "\\sigma^2_i = D^2(X_i) - wariancja\\; zmiennej\\; X_i \\\\\n",
    "\\end{align}"
   ]
  },
  {
   "cell_type": "markdown",
   "metadata": {},
   "source": [
    "\\begin{align}\n",
    "\\sigma_{ij} = cov(X_i, X_j) - kowariancja\\; miedzy\\; zmiennymi\\; losowymi\\; X_i\\; i\\; X_j\n",
    "\\end{align}"
   ]
  },
  {
   "cell_type": "markdown",
   "metadata": {},
   "source": [
    "#### 2. Macierz kowariancji w Pythonie\n",
    "\n",
    "Do wyznaczania macierzy kowariancji używamy funkcji cov z biblioteki numpy. Wylicza ona macierz na podstawie podanych tablic i wag."
   ]
  },
  {
   "cell_type": "markdown",
   "metadata": {},
   "source": [
    "<center>numpy.cov(m, y=None, rowvar=True, bias=False, ddof=None, fweights=None, aweights=None)</center>"
   ]
  },
  {
   "cell_type": "markdown",
   "metadata": {},
   "source": [
    "gdzie najważniejsze argumenty to:\n",
    "<ul>\n",
    "    <li> m - jedno- lub dwu- wymiarowa tablic danych, zawiarająca różne zmienne i obserwacje</li>\n",
    "    <li>bias - odpowiada za rodzaj normalizacji</li>\n",
    "    <li>fweights - jednowymiarowa tablica liczb całkowitych, wyznaczająca wagi częstotliwości, czyli ile razy dana obserwacja powinna być powtórzona</li>\n",
    "    <li>aweights - jednowymiarowa tablica, odpowiedzialna za wagi (\"ważność\") danych obserwacji.</li>\n",
    "</ul>"
   ]
  },
  {
   "cell_type": "markdown",
   "metadata": {},
   "source": [
    "#### 3. Działanie funkcji numpy.cov\n",
    "\n",
    "Mamy daną tablicę m, gdzie kolumny są poszeczególnymi obserwacjami, niech f = fweight i a = aweight. Wyliczanie macierzy kowariancji następuje w podany sposób:"
   ]
  },
  {
   "cell_type": "markdown",
   "metadata": {},
   "source": [
    "=> w = f * a<br>\n",
    "=> v1 = np.sum(w)<br>\n",
    "=> v2 = np.sum(w * a)<br>\n",
    "=> m -= np.sum(m * w, axis=1, keepdims=True) / v1<br>\n",
    "=> cov = np.dot(m * w, m.T) * v1 / (v1**2 - ddof * v2)<br>"
   ]
  },
  {
   "cell_type": "code",
   "execution_count": 29,
   "metadata": {
    "pycharm": {
     "is_executing": true
    }
   },
   "outputs": [
    {
     "data": {
      "text/plain": [
       "array([[ 1.14875667, -0.56526506,  2.25574689],\n",
       "       [-0.80545038, -0.8762436 , -0.86865246],\n",
       "       [ 0.23703554, -0.78008338, -0.39800791]])"
      ]
     },
     "execution_count": 29,
     "metadata": {},
     "output_type": "execute_result"
    }
   ],
   "source": [
    "cancer.data[0:3,0:3]"
   ]
  },
  {
   "cell_type": "code",
   "execution_count": 30,
   "metadata": {
    "pycharm": {
     "is_executing": true
    }
   },
   "outputs": [
    {
     "data": {
      "text/plain": [
       "array([[2.02023437e+00, 1.21319589e-02, 3.53036081e-01],\n",
       "       [1.21319589e-02, 1.51063474e-03, 1.91735968e-02],\n",
       "       [3.53036081e-01, 1.91735968e-02, 2.63965453e-01]])"
      ]
     },
     "execution_count": 30,
     "metadata": {},
     "output_type": "execute_result"
    }
   ],
   "source": [
    "np.cov(cancer.data[0:3,0:3])"
   ]
  },
  {
   "cell_type": "code",
   "execution_count": 31,
   "metadata": {
    "pycharm": {
     "is_executing": true
    }
   },
   "outputs": [
    {
     "data": {
      "text/plain": [
       "array([[ 1.14875667, -0.56526506,  2.25574689, ...,  2.75062224,\n",
       "         1.30768627, -1.35929347],\n",
       "       [-0.80545038, -0.8762436 , -0.86865246, ..., -0.24388967,\n",
       "        -0.37561196, -0.36920322],\n",
       "       [ 0.23703554, -0.78008338, -0.39800791, ...,  1.152255  ,\n",
       "         0.52740741, -0.02397438],\n",
       "       ...,\n",
       "       [-0.89141612, -0.2573709 , -0.89558693, ..., -1.10454895,\n",
       "        -0.80958728,  1.37485378],\n",
       "       [ 0.32663363,  0.68608793,  1.04369542, ...,  1.91908301,\n",
       "         1.43042677,  2.23792588],\n",
       "       [ 0.75282996,  0.3830925 , -0.56103238, ..., -0.04813821,\n",
       "        -1.85901852,  0.76418957]])"
      ]
     },
     "execution_count": 31,
     "metadata": {},
     "output_type": "execute_result"
    }
   ],
   "source": [
    "cancer.data"
   ]
  },
  {
   "cell_type": "code",
   "execution_count": 34,
   "metadata": {
    "pycharm": {
     "is_executing": true
    }
   },
   "outputs": [
    {
     "data": {
      "text/plain": [
       "array([[ 1.87771887e+00,  6.85671823e-02,  3.16248346e-01, ...,\n",
       "        -1.01302148e+00,  4.63493543e-02, -8.35669944e-01],\n",
       "       [ 6.85671823e-02,  1.50149947e-01,  1.16817456e-01, ...,\n",
       "         6.73816307e-02,  1.06062736e-01, -5.16208641e-02],\n",
       "       [ 3.16248346e-01,  1.16817456e-01,  3.71028617e-01, ...,\n",
       "        -1.55389608e-03,  1.77501334e-01, -3.60283290e-01],\n",
       "       ...,\n",
       "       [-1.01302148e+00,  6.73816307e-02, -1.55389608e-03, ...,\n",
       "         8.72724396e-01,  2.50417088e-01,  3.74468121e-01],\n",
       "       [ 4.63493543e-02,  1.06062736e-01,  1.77501334e-01, ...,\n",
       "         2.50417088e-01,  5.96571008e-01, -2.05930567e-02],\n",
       "       [-8.35669944e-01, -5.16208641e-02, -3.60283290e-01, ...,\n",
       "         3.74468121e-01, -2.05930567e-02,  1.35383083e+00]])"
      ]
     },
     "execution_count": 34,
     "metadata": {},
     "output_type": "execute_result"
    }
   ],
   "source": [
    "np.cov(cancer.data)"
   ]
  },
  {
   "cell_type": "markdown",
   "metadata": {},
   "source": [
    "### Heat map"
   ]
  },
  {
   "cell_type": "markdown",
   "metadata": {},
   "source": [
    "**Heat mapa** jest graficzną reprezentacją danych, gdzie każdy wartość elementu macierzy jest reprezentowana przez dany kolor."
   ]
  },
  {
   "cell_type": "markdown",
   "metadata": {},
   "source": [
    "<img src=\"heat_map.png\">"
   ]
  },
  {
   "cell_type": "code",
   "execution_count": 23,
   "metadata": {
    "pycharm": {
     "is_executing": true
    }
   },
   "outputs": [],
   "source": [
    "import seaborn as sns"
   ]
  },
  {
   "cell_type": "code",
   "execution_count": 24,
   "metadata": {
    "pycharm": {
     "is_executing": true
    }
   },
   "outputs": [],
   "source": [
    "matrix_data = np.cov(divorces['data'])"
   ]
  },
  {
   "cell_type": "code",
   "execution_count": 25,
   "metadata": {
    "pycharm": {
     "is_executing": true
    }
   },
   "outputs": [
    {
     "data": {
      "text/plain": [
       "<matplotlib.axes._subplots.AxesSubplot at 0x2181a989048>"
      ]
     },
     "execution_count": 25,
     "metadata": {},
     "output_type": "execute_result"
    },
    {
     "data": {
      "image/png": "[encoded data removed]",
      "text/plain": [
       "<Figure size 1440x1080 with 2 Axes>"
      ]
     },
     "metadata": {
      "needs_background": "light"
     },
     "output_type": "display_data"
    }
   ],
   "source": [
    "plt.subplots(figsize=(20,15))\n",
    "sns.heatmap(matrix_data )"
   ]
  },
  {
   "cell_type": "markdown",
   "metadata": {
    "pycharm": {
     "is_executing": false
    }
   },
   "source": [
    "Heat mapy pozwalają na łatwiejsze znalezienie obszarów o większym znaczeniu w przypadku dużej ilości danych. Są one łatwiejsze do przeanalizowania niż surowe dane liczbowe.\n",
    "\n",
    "Z takiej heat mapy możemy odczytać jak dużą kowariancją cechują się dwie zmienne losowe. Duża kowariancja między dwiema zmiennymi wskazuje, że są one wysoce „skorelowane” - zawierają informacje, które można przewidzieć lub przedstawić pojedynczą zmienną.\n",
    "\n",
    "Klasyfikowanie dużych danych bywa czasochłonne i zasobożerne. Informacje, które można wywnioskować z heat mapy pozwalają nam wyłonić z pełnego zbioru danych odpowiedni fragment, który następnie posłuży do tworzenia bardziej optymalnych klasyfikatorów."
   ]
  },
  {
   "cell_type": "markdown",
   "metadata": {
    "pycharm": {
     "is_executing": true
    }
   },
   "source": [
    "## Transformacja PCA"
   ]
  },
  {
   "cell_type": "markdown",
   "metadata": {},
   "source": [
    "Transformacja PCA (Principal Component Analysis) jest algorytmem analizy danych. Wykorzystuje informacje o powiązaniach pomiędzy danymi wejściowymi. Umożliwia to dokonanie selekcji i \"kompresji\" danych bez utraty istotnych informacji pierwotnego zestawu danych. PCA może być wykorzystane właśnie w problemach kompresji, analizy oraz przetwarzania złożonych zbiorów danych tak, aby wyłuszczyć z nich składaniki o największej zmienności i największym wpływie na pozostałe informacje.\n",
    "\n",
    "Transfomacja PCA jest przekształceniem liniowym Y = W * X, gdzie Y - macierz przestrzeni wyjściowe, która zachowuje najistotniejsze informacje danych wejściowych X, a W jest macierzą przekształceń PCA."
   ]
  },
  {
   "cell_type": "markdown",
   "metadata": {},
   "source": [
    "### Sposób wyliczania"
   ]
  },
  {
   "cell_type": "markdown",
   "metadata": {},
   "source": [
    "Podobnie jak w przypadku macierzy kowariancji, danymi wejściowymi jest macierz X, w której każdy wiersz to jedna obserwacja. Wielkość takiej macierzy to N x P (gdzie N - wielkość wektora danych, a  P - ilość obserwacji).\n",
    "\n",
    "Dla tak przygotowanych danych należy wyznaczyć macierz autokorelacji."
   ]
  },
  {
   "cell_type": "markdown",
   "metadata": {},
   "source": [
    "\\begin{align}\n",
    "R_{xx} = \\frac{1}{P} XX^T\n",
    "\\end{align}"
   ]
  },
  {
   "cell_type": "markdown",
   "metadata": {},
   "source": [
    "Macierz Rxx posiada wymiary N × N. Informuje nas ona w jakim stopniu dane są skorelowane. Koeljnym krokiem algorytmu jest wyznaczenie wartości własnych macierzy Rxx oraz odpowiadających im wektorów własnych. Wartości te, wraz z odpowiadającymi im wektorami własnymi należy uszeregować malejąco. W ten sposób uzyskuje się macierz diagonalną:"
   ]
  },
  {
   "cell_type": "markdown",
   "metadata": {},
   "source": [
    "\\begin{equation*}\n",
    "D =  \\begin{vmatrix}\n",
    "\\ \\lambda_1 & 0 & ... & 0  \\\\\n",
    "\\ 0 & \\lambda_2 & ... & 0  \\\\\n",
    "\\ ... & ... & ... & ... \\\\\n",
    "\\ 0 & 0 & ... & \\lambda_N\n",
    "\\end{vmatrix}\n",
    "\\end{equation*}"
   ]
  },
  {
   "cell_type": "markdown",
   "metadata": {},
   "source": [
    "Gdzie:"
   ]
  },
  {
   "cell_type": "markdown",
   "metadata": {},
   "source": [
    "\\begin{align}\n",
    "\\lambda_1 > \\lambda_2 > .. > \\lambda_N\n",
    "\\end{align}"
   ]
  },
  {
   "cell_type": "markdown",
   "metadata": {},
   "source": [
    "to wartości własne. Macierzy odpowiada macierz wektorów własnych:"
   ]
  },
  {
   "cell_type": "markdown",
   "metadata": {},
   "source": [
    "\\begin{align}\n",
    "V = [v_1, v_2, ..., v_N]\n",
    "\\end{align}"
   ]
  },
  {
   "cell_type": "markdown",
   "metadata": {},
   "source": [
    "Istotnym krokiem transformacji jest ocena ile najistotniejszych czynników należy uwzględnić w przekształceniu. W tym celu należy wybrać pierwszy K największych wartości własnych macierzy D, odstających znacząco od pozostałych. W ten sposób otzywamujemy macierz przekształcenia uwzględniającą K znaczących wektorów własnych:"
   ]
  },
  {
   "cell_type": "markdown",
   "metadata": {},
   "source": [
    "\\begin{align}\n",
    "W = [v_1, v_2, ..., v_K]\n",
    "\\end{align}"
   ]
  },
  {
   "cell_type": "markdown",
   "metadata": {},
   "source": [
    "Finalnie, przekształcenie PCA danych wejściowych X przedstawia się jako przekształcenie liniowe wspomniane wcześniej:"
   ]
  },
  {
   "cell_type": "markdown",
   "metadata": {},
   "source": [
    "\\begin{align}\n",
    "Y = WX\n",
    "\\end{align}"
   ]
  },
  {
   "cell_type": "markdown",
   "metadata": {},
   "source": [
    "### Transformacja PCA w Pythonie"
   ]
  },
  {
   "cell_type": "markdown",
   "metadata": {},
   "source": [
    "Do wyznaczania transformacji PCA używamy klasy PCA z sklearn.decomposition."
   ]
  },
  {
   "cell_type": "markdown",
   "metadata": {},
   "source": [
    "<center>sklearn.decomposition.PCA(n_components=None, copy=True, whiten=False, svd_solver='auto', tol=0.0, iterated_power='auto', random_state=None)</center>"
   ]
  },
  {
   "cell_type": "markdown",
   "metadata": {},
   "source": [
    "gdzie najważniejszy argument to n_components - ilość elemetów, które chcemy zachować w transformacji. Jeżeli nie podana, wynosi ona min(n_samples, n_features)\n",
    "\n",
    "Klasa ta posiada m.in. pola:\n",
    "\n",
    "<ul>\n",
    "    <li>components_ - główne osie w przestrzeni cech, reprezentujące kierunki maksymalnej wariancji danych</li>\n",
    "    <li>explained_variance_ - wielkość wariancji dla każdego wybranego elementu</li>\n",
    "    <li>explained_variance_ratio_ - procentowa wielkość wariancji dla każdego wybranego elementu</li>\n",
    "    <li>n_features_ - liczba cech w danych traningowych</li>\n",
    "    <li>n_samples_ - liczba próbek w danych traningowych</li>\n",
    "</ul>"
   ]
  },
  {
   "cell_type": "markdown",
   "metadata": {},
   "source": [
    "Funkcja fit(self, X[, y]) dopasowuje model X.\n",
    "\n",
    "Funkcja transform(self, X) redukuje wielowymiarowość X.\n",
    "\n",
    "Funckja fit_transform(self, X[, y]) dopasowuje i redukuje wielomianowowść modelu X."
   ]
  },
  {
   "cell_type": "code",
   "execution_count": 275,
   "metadata": {},
   "outputs": [],
   "source": [
    "from sklearn.decomposition import PCA\n",
    "from PIL import Image\n",
    "from numpy import asarray"
   ]
  },
  {
   "cell_type": "code",
   "execution_count": 276,
   "metadata": {},
   "outputs": [],
   "source": [
    "pca = PCA()"
   ]
  },
  {
   "cell_type": "code",
   "execution_count": 277,
   "metadata": {},
   "outputs": [
    {
     "data": {
      "text/plain": [
       "array([[-2.71560542e+00,  9.81032327e-02,  8.21666278e-01, ...,\n",
       "         8.32936459e-02,  1.63868428e-01, -2.27468183e-01],\n",
       "       [ 2.41461306e+00,  1.23993350e+00, -2.73937308e-01, ...,\n",
       "         1.54941784e-01, -3.03923067e-02,  5.09779292e-01],\n",
       "       [ 4.25987284e-01,  1.95997609e+00,  1.72663381e-01, ...,\n",
       "         2.33608362e-02, -4.04644548e-03,  3.11563046e-02],\n",
       "       ...,\n",
       "       [-4.39064248e+00, -6.24259363e-01, -9.40943430e-01, ...,\n",
       "        -5.06014890e-02, -2.00248108e-01, -1.85773384e-01],\n",
       "       [-4.50716741e+00, -2.05965995e+00,  6.41161840e-01, ...,\n",
       "        -1.09280151e-01,  1.22094824e-01,  4.50734102e-02],\n",
       "       [-3.74270098e+00, -1.35068469e+00,  7.33459855e-01, ...,\n",
       "        -2.27230073e-01,  2.31582755e-01,  1.16843989e-02]])"
      ]
     },
     "execution_count": 277,
     "metadata": {},
     "output_type": "execute_result"
    }
   ],
   "source": [
    "pca.fit_transform(divorces['data'])"
   ]
  },
  {
   "cell_type": "markdown",
   "metadata": {},
   "source": [
    "### Przykład działania"
   ]
  },
  {
   "cell_type": "markdown",
   "metadata": {},
   "source": [
    "Będziemy przeprowadzać transformacje na dwie cechy."
   ]
  },
  {
   "cell_type": "code",
   "execution_count": 278,
   "metadata": {},
   "outputs": [],
   "source": [
    "pca = PCA(n_components = 5)\n",
    "\n",
    "model = pca.fit(divorces['data'])\n",
    "model_pc = model.transform(divorces['data'])"
   ]
  },
  {
   "cell_type": "code",
   "execution_count": 279,
   "metadata": {},
   "outputs": [
    {
     "data": {
      "text/html": [
       "<div>\n",
       "<style scoped>\n",
       "    .dataframe tbody tr th:only-of-type {\n",
       "        vertical-align: middle;\n",
       "    }\n",
       "\n",
       "    .dataframe tbody tr th {\n",
       "        vertical-align: top;\n",
       "    }\n",
       "\n",
       "    .dataframe thead th {\n",
       "        text-align: right;\n",
       "    }\n",
       "</style>\n",
       "<table border=\"1\" class=\"dataframe\">\n",
       "  <thead>\n",
       "    <tr style=\"text-align: right;\">\n",
       "      <th></th>\n",
       "      <th>We don't have time at home as partners.</th>\n",
       "      <th>Even if I'm right in the discussion, I stay silent to hurt my spouse.</th>\n",
       "      <th>We are like two strangers who share the same environment at home rather than family.</th>\n",
       "      <th>I'd rather stay silent than discuss with my spouse.</th>\n",
       "      <th>I mostly stay silent to calm the environment a little bit.</th>\n",
       "      <th>I feel right in our discussions.</th>\n",
       "      <th>I wouldn't hesitate to tell my spouse about her/his inadequacy.</th>\n",
       "      <th>When I discuss with my spouse, I stay silent because I am afraid of not being able to control my anger.</th>\n",
       "      <th>I'm not the one who's wrong about problems at home.</th>\n",
       "      <th>When I discuss, I remind my spouse of her/his inadequacy.</th>\n",
       "      <th>When I argue with my spouse, Ä± only go out and I don't say a word.</th>\n",
       "      <th>I have nothing to do with what I've been accused of.</th>\n",
       "      <th>I'm not actually the one who's guilty about what I'm accused of.</th>\n",
       "      <th>I feel aggressive when I argue with my spouse.</th>\n",
       "      <th>When we need it, we can take our discussions with my spouse from the beginning and correct it.</th>\n",
       "      <th>I'm not afraid to tell my spouse about her/his incompetence;</th>\n",
       "      <th>When I discuss with my spouse, to contact him will eventually work.</th>\n",
       "      <th>I know we can ignore our differences, even if things get hard sometimes.</th>\n",
       "      <th>I know how my spouse wants to be taken care of when she/he sick.</th>\n",
       "      <th>When discussing with my spouse, I usually use expressions such as 'you always' or 'you never' .</th>\n",
       "      <th>Most of our goals are common to my spouse.</th>\n",
       "      <th>I can use offensive expressions during our discussions.</th>\n",
       "      <th>I know my spouse's favorite food.</th>\n",
       "      <th>I can tell you what kind of stress my spouse is facing in her/his life.</th>\n",
       "      <th>My spouse and I have similar sense of entertainment.</th>\n",
       "      <th>I know my spouse's hopes and wishes.</th>\n",
       "      <th>Sometimes I think it's good for me to leave home for a while.</th>\n",
       "      <th>I have knowledge of my spouse's inner world.</th>\n",
       "      <th>If one of us apologizes when our discussion deteriorates, the discussion ends.</th>\n",
       "      <th>I can use negative statements about my spouse's personality during our discussions.</th>\n",
       "      <th>I can insult my spouse during our discussions.</th>\n",
       "      <th>My discussion with my spouse is not calm.</th>\n",
       "      <th>Most of our goals for people (children, friends, etc) are the same.</th>\n",
       "      <th>I know exactly what my wife likes.</th>\n",
       "      <th>My spouse and I have similar values in terms of personal freedom.</th>\n",
       "      <th>I enjoy our holidays with my wife.</th>\n",
       "      <th>I know what my spouse's current sources of stress are.</th>\n",
       "      <th>I know my spouse's basic anxieties.</th>\n",
       "      <th>I know my spouse's friends and their social relationships.</th>\n",
       "      <th>I hate my spouse's way of open a subject.</th>\n",
       "    </tr>\n",
       "  </thead>\n",
       "  <tbody>\n",
       "    <tr>\n",
       "      <th>0</th>\n",
       "      <td>-0.828792</td>\n",
       "      <td>-0.404272</td>\n",
       "      <td>-0.551439</td>\n",
       "      <td>0.361868</td>\n",
       "      <td>-1.268809</td>\n",
       "      <td>0.228240</td>\n",
       "      <td>0.327644</td>\n",
       "      <td>-0.803068</td>\n",
       "      <td>-0.379197</td>\n",
       "      <td>-0.160656</td>\n",
       "      <td>-0.738387</td>\n",
       "      <td>0.409816</td>\n",
       "      <td>0.407286</td>\n",
       "      <td>-0.684201</td>\n",
       "      <td>1.583883</td>\n",
       "      <td>-0.608507</td>\n",
       "      <td>-0.321591</td>\n",
       "      <td>0.237009</td>\n",
       "      <td>-0.864651</td>\n",
       "      <td>-0.036341</td>\n",
       "      <td>-1.112273</td>\n",
       "      <td>0.061511</td>\n",
       "      <td>-0.878349</td>\n",
       "      <td>-1.007874</td>\n",
       "      <td>-0.566660</td>\n",
       "      <td>-0.892322</td>\n",
       "      <td>0.035028</td>\n",
       "      <td>-1.068066</td>\n",
       "      <td>0.137772</td>\n",
       "      <td>-0.452757</td>\n",
       "      <td>-0.909509</td>\n",
       "      <td>-0.051570</td>\n",
       "      <td>-0.380814</td>\n",
       "      <td>-0.958811</td>\n",
       "      <td>-1.128805</td>\n",
       "      <td>-0.942357</td>\n",
       "      <td>-0.963665</td>\n",
       "      <td>-0.994792</td>\n",
       "      <td>-0.329414</td>\n",
       "      <td>-0.496518</td>\n",
       "    </tr>\n",
       "    <tr>\n",
       "      <th>1</th>\n",
       "      <td>-0.828792</td>\n",
       "      <td>-0.404272</td>\n",
       "      <td>-0.551439</td>\n",
       "      <td>-0.306801</td>\n",
       "      <td>0.218760</td>\n",
       "      <td>0.228240</td>\n",
       "      <td>1.006905</td>\n",
       "      <td>-0.171024</td>\n",
       "      <td>1.212493</td>\n",
       "      <td>-0.160656</td>\n",
       "      <td>-0.101200</td>\n",
       "      <td>1.073327</td>\n",
       "      <td>1.121087</td>\n",
       "      <td>-1.293176</td>\n",
       "      <td>1.583883</td>\n",
       "      <td>-0.007076</td>\n",
       "      <td>1.678548</td>\n",
       "      <td>1.602823</td>\n",
       "      <td>-0.171299</td>\n",
       "      <td>1.199247</td>\n",
       "      <td>1.709912</td>\n",
       "      <td>0.676626</td>\n",
       "      <td>-0.878349</td>\n",
       "      <td>0.325500</td>\n",
       "      <td>1.468527</td>\n",
       "      <td>-0.892322</td>\n",
       "      <td>1.225997</td>\n",
       "      <td>0.242918</td>\n",
       "      <td>1.370465</td>\n",
       "      <td>0.109058</td>\n",
       "      <td>-0.909509</td>\n",
       "      <td>0.532885</td>\n",
       "      <td>-1.048220</td>\n",
       "      <td>-0.268142</td>\n",
       "      <td>0.919916</td>\n",
       "      <td>1.651986</td>\n",
       "      <td>0.412999</td>\n",
       "      <td>-0.326355</td>\n",
       "      <td>-0.329414</td>\n",
       "      <td>1.237895</td>\n",
       "    </tr>\n",
       "    <tr>\n",
       "      <th>2</th>\n",
       "      <td>2.499427</td>\n",
       "      <td>0.326858</td>\n",
       "      <td>1.680577</td>\n",
       "      <td>-0.306801</td>\n",
       "      <td>-0.525025</td>\n",
       "      <td>0.228240</td>\n",
       "      <td>-0.351618</td>\n",
       "      <td>-0.171024</td>\n",
       "      <td>-1.175042</td>\n",
       "      <td>-0.160656</td>\n",
       "      <td>0.535987</td>\n",
       "      <td>-0.917206</td>\n",
       "      <td>-1.020315</td>\n",
       "      <td>0.533749</td>\n",
       "      <td>0.166725</td>\n",
       "      <td>-0.007076</td>\n",
       "      <td>0.345122</td>\n",
       "      <td>0.237009</td>\n",
       "      <td>-0.864651</td>\n",
       "      <td>0.581453</td>\n",
       "      <td>0.298820</td>\n",
       "      <td>-0.553603</td>\n",
       "      <td>-0.256185</td>\n",
       "      <td>0.325500</td>\n",
       "      <td>0.111736</td>\n",
       "      <td>0.474297</td>\n",
       "      <td>0.630512</td>\n",
       "      <td>0.242918</td>\n",
       "      <td>0.137772</td>\n",
       "      <td>-0.452757</td>\n",
       "      <td>-0.365085</td>\n",
       "      <td>-0.051570</td>\n",
       "      <td>0.953998</td>\n",
       "      <td>-0.268142</td>\n",
       "      <td>1.602823</td>\n",
       "      <td>-0.293771</td>\n",
       "      <td>0.412999</td>\n",
       "      <td>0.342083</td>\n",
       "      <td>0.337257</td>\n",
       "      <td>-0.496518</td>\n",
       "    </tr>\n",
       "    <tr>\n",
       "      <th>3</th>\n",
       "      <td>2.499427</td>\n",
       "      <td>-0.404272</td>\n",
       "      <td>2.796586</td>\n",
       "      <td>0.361868</td>\n",
       "      <td>0.218760</td>\n",
       "      <td>0.228240</td>\n",
       "      <td>-0.351618</td>\n",
       "      <td>-0.171024</td>\n",
       "      <td>0.416648</td>\n",
       "      <td>-0.160656</td>\n",
       "      <td>-0.101200</td>\n",
       "      <td>0.409816</td>\n",
       "      <td>0.407286</td>\n",
       "      <td>-0.075226</td>\n",
       "      <td>0.875304</td>\n",
       "      <td>-0.007076</td>\n",
       "      <td>0.345122</td>\n",
       "      <td>0.237009</td>\n",
       "      <td>-0.171299</td>\n",
       "      <td>0.581453</td>\n",
       "      <td>1.004366</td>\n",
       "      <td>0.061511</td>\n",
       "      <td>-0.256185</td>\n",
       "      <td>-0.341187</td>\n",
       "      <td>0.790131</td>\n",
       "      <td>-0.209012</td>\n",
       "      <td>0.035028</td>\n",
       "      <td>0.242918</td>\n",
       "      <td>0.754118</td>\n",
       "      <td>0.109058</td>\n",
       "      <td>-0.365085</td>\n",
       "      <td>0.532885</td>\n",
       "      <td>1.621404</td>\n",
       "      <td>-0.268142</td>\n",
       "      <td>0.919916</td>\n",
       "      <td>1.003400</td>\n",
       "      <td>-0.275333</td>\n",
       "      <td>-0.326355</td>\n",
       "      <td>1.003929</td>\n",
       "      <td>0.659757</td>\n",
       "    </tr>\n",
       "    <tr>\n",
       "      <th>4</th>\n",
       "      <td>0.280615</td>\n",
       "      <td>-0.404272</td>\n",
       "      <td>-0.551439</td>\n",
       "      <td>-0.306801</td>\n",
       "      <td>0.218760</td>\n",
       "      <td>-0.653596</td>\n",
       "      <td>-0.351618</td>\n",
       "      <td>-0.803068</td>\n",
       "      <td>-0.379197</td>\n",
       "      <td>-0.826790</td>\n",
       "      <td>-0.101200</td>\n",
       "      <td>0.409816</td>\n",
       "      <td>-0.306514</td>\n",
       "      <td>-0.684201</td>\n",
       "      <td>-0.541855</td>\n",
       "      <td>-1.209939</td>\n",
       "      <td>-0.321591</td>\n",
       "      <td>0.237009</td>\n",
       "      <td>-0.864651</td>\n",
       "      <td>-0.654135</td>\n",
       "      <td>-1.112273</td>\n",
       "      <td>-0.553603</td>\n",
       "      <td>-0.878349</td>\n",
       "      <td>-1.007874</td>\n",
       "      <td>-1.245055</td>\n",
       "      <td>0.474297</td>\n",
       "      <td>-1.155940</td>\n",
       "      <td>-1.068066</td>\n",
       "      <td>0.137772</td>\n",
       "      <td>-0.452757</td>\n",
       "      <td>-0.909509</td>\n",
       "      <td>-1.220479</td>\n",
       "      <td>-0.380814</td>\n",
       "      <td>-0.268142</td>\n",
       "      <td>-0.445898</td>\n",
       "      <td>-0.942357</td>\n",
       "      <td>-0.275333</td>\n",
       "      <td>0.342083</td>\n",
       "      <td>-0.329414</td>\n",
       "      <td>-1.074656</td>\n",
       "    </tr>\n",
       "    <tr>\n",
       "      <th>...</th>\n",
       "      <td>...</td>\n",
       "      <td>...</td>\n",
       "      <td>...</td>\n",
       "      <td>...</td>\n",
       "      <td>...</td>\n",
       "      <td>...</td>\n",
       "      <td>...</td>\n",
       "      <td>...</td>\n",
       "      <td>...</td>\n",
       "      <td>...</td>\n",
       "      <td>...</td>\n",
       "      <td>...</td>\n",
       "      <td>...</td>\n",
       "      <td>...</td>\n",
       "      <td>...</td>\n",
       "      <td>...</td>\n",
       "      <td>...</td>\n",
       "      <td>...</td>\n",
       "      <td>...</td>\n",
       "      <td>...</td>\n",
       "      <td>...</td>\n",
       "      <td>...</td>\n",
       "      <td>...</td>\n",
       "      <td>...</td>\n",
       "      <td>...</td>\n",
       "      <td>...</td>\n",
       "      <td>...</td>\n",
       "      <td>...</td>\n",
       "      <td>...</td>\n",
       "      <td>...</td>\n",
       "      <td>...</td>\n",
       "      <td>...</td>\n",
       "      <td>...</td>\n",
       "      <td>...</td>\n",
       "      <td>...</td>\n",
       "      <td>...</td>\n",
       "      <td>...</td>\n",
       "      <td>...</td>\n",
       "      <td>...</td>\n",
       "      <td>...</td>\n",
       "    </tr>\n",
       "    <tr>\n",
       "      <th>165</th>\n",
       "      <td>-0.828792</td>\n",
       "      <td>-1.135402</td>\n",
       "      <td>-0.551439</td>\n",
       "      <td>-1.644141</td>\n",
       "      <td>-2.012594</td>\n",
       "      <td>1.110076</td>\n",
       "      <td>-0.351618</td>\n",
       "      <td>-1.435113</td>\n",
       "      <td>1.212493</td>\n",
       "      <td>-0.160656</td>\n",
       "      <td>-1.375574</td>\n",
       "      <td>-0.917206</td>\n",
       "      <td>-1.020315</td>\n",
       "      <td>1.142723</td>\n",
       "      <td>-1.250434</td>\n",
       "      <td>-0.007076</td>\n",
       "      <td>-0.988304</td>\n",
       "      <td>-1.128805</td>\n",
       "      <td>-0.864651</td>\n",
       "      <td>1.199247</td>\n",
       "      <td>-1.112273</td>\n",
       "      <td>1.291741</td>\n",
       "      <td>-0.878349</td>\n",
       "      <td>-1.007874</td>\n",
       "      <td>-1.245055</td>\n",
       "      <td>-0.892322</td>\n",
       "      <td>-1.155940</td>\n",
       "      <td>-1.068066</td>\n",
       "      <td>-1.094922</td>\n",
       "      <td>0.670874</td>\n",
       "      <td>-0.909509</td>\n",
       "      <td>1.117340</td>\n",
       "      <td>-1.048220</td>\n",
       "      <td>-0.958811</td>\n",
       "      <td>-1.128805</td>\n",
       "      <td>-0.942357</td>\n",
       "      <td>-0.963665</td>\n",
       "      <td>-0.994792</td>\n",
       "      <td>-0.996086</td>\n",
       "      <td>-1.074656</td>\n",
       "    </tr>\n",
       "    <tr>\n",
       "      <th>166</th>\n",
       "      <td>-0.828792</td>\n",
       "      <td>1.057989</td>\n",
       "      <td>-0.551439</td>\n",
       "      <td>0.361868</td>\n",
       "      <td>0.218760</td>\n",
       "      <td>-0.653596</td>\n",
       "      <td>0.327644</td>\n",
       "      <td>-0.803068</td>\n",
       "      <td>-0.379197</td>\n",
       "      <td>-0.160656</td>\n",
       "      <td>-0.738387</td>\n",
       "      <td>-0.253695</td>\n",
       "      <td>-0.306514</td>\n",
       "      <td>-1.293176</td>\n",
       "      <td>-1.250434</td>\n",
       "      <td>-0.007076</td>\n",
       "      <td>-0.988304</td>\n",
       "      <td>-1.128805</td>\n",
       "      <td>-0.864651</td>\n",
       "      <td>-0.654135</td>\n",
       "      <td>-1.112273</td>\n",
       "      <td>-0.553603</td>\n",
       "      <td>-0.878349</td>\n",
       "      <td>-1.007874</td>\n",
       "      <td>-1.245055</td>\n",
       "      <td>-0.892322</td>\n",
       "      <td>-0.560456</td>\n",
       "      <td>-1.068066</td>\n",
       "      <td>-1.094922</td>\n",
       "      <td>-0.452757</td>\n",
       "      <td>-0.365085</td>\n",
       "      <td>-0.636024</td>\n",
       "      <td>-1.048220</td>\n",
       "      <td>-0.958811</td>\n",
       "      <td>-1.128805</td>\n",
       "      <td>-0.942357</td>\n",
       "      <td>-0.963665</td>\n",
       "      <td>-0.994792</td>\n",
       "      <td>-0.996086</td>\n",
       "      <td>-0.496518</td>\n",
       "    </tr>\n",
       "    <tr>\n",
       "      <th>167</th>\n",
       "      <td>-0.828792</td>\n",
       "      <td>0.326858</td>\n",
       "      <td>-0.551439</td>\n",
       "      <td>-0.306801</td>\n",
       "      <td>0.218760</td>\n",
       "      <td>-0.653596</td>\n",
       "      <td>0.327644</td>\n",
       "      <td>-1.435113</td>\n",
       "      <td>-1.175042</td>\n",
       "      <td>-1.492924</td>\n",
       "      <td>0.535987</td>\n",
       "      <td>-1.580717</td>\n",
       "      <td>-1.020315</td>\n",
       "      <td>-0.684201</td>\n",
       "      <td>-1.250434</td>\n",
       "      <td>-1.209939</td>\n",
       "      <td>-0.988304</td>\n",
       "      <td>-0.445898</td>\n",
       "      <td>-0.864651</td>\n",
       "      <td>-0.654135</td>\n",
       "      <td>-0.406727</td>\n",
       "      <td>-0.553603</td>\n",
       "      <td>-0.878349</td>\n",
       "      <td>-1.007874</td>\n",
       "      <td>-0.566660</td>\n",
       "      <td>-0.892322</td>\n",
       "      <td>-1.155940</td>\n",
       "      <td>-0.412574</td>\n",
       "      <td>-0.478575</td>\n",
       "      <td>-1.014573</td>\n",
       "      <td>-0.909509</td>\n",
       "      <td>-0.636024</td>\n",
       "      <td>-1.048220</td>\n",
       "      <td>-0.958811</td>\n",
       "      <td>-0.445898</td>\n",
       "      <td>-0.942357</td>\n",
       "      <td>-0.275333</td>\n",
       "      <td>-0.326355</td>\n",
       "      <td>-0.329414</td>\n",
       "      <td>-0.496518</td>\n",
       "    </tr>\n",
       "    <tr>\n",
       "      <th>168</th>\n",
       "      <td>-0.828792</td>\n",
       "      <td>0.326858</td>\n",
       "      <td>-0.551439</td>\n",
       "      <td>1.030538</td>\n",
       "      <td>-1.268809</td>\n",
       "      <td>-0.653596</td>\n",
       "      <td>1.006905</td>\n",
       "      <td>0.461021</td>\n",
       "      <td>-0.379197</td>\n",
       "      <td>0.505478</td>\n",
       "      <td>-0.738387</td>\n",
       "      <td>-0.253695</td>\n",
       "      <td>0.407286</td>\n",
       "      <td>-1.293176</td>\n",
       "      <td>-1.250434</td>\n",
       "      <td>-0.608507</td>\n",
       "      <td>-0.988304</td>\n",
       "      <td>-1.128805</td>\n",
       "      <td>-0.864651</td>\n",
       "      <td>-1.271929</td>\n",
       "      <td>-1.112273</td>\n",
       "      <td>-0.553603</td>\n",
       "      <td>-0.878349</td>\n",
       "      <td>-1.007874</td>\n",
       "      <td>-1.245055</td>\n",
       "      <td>-0.892322</td>\n",
       "      <td>-1.155940</td>\n",
       "      <td>-1.068066</td>\n",
       "      <td>-1.094922</td>\n",
       "      <td>-1.014573</td>\n",
       "      <td>-0.909509</td>\n",
       "      <td>-0.636024</td>\n",
       "      <td>-1.048220</td>\n",
       "      <td>-0.958811</td>\n",
       "      <td>-0.445898</td>\n",
       "      <td>-0.942357</td>\n",
       "      <td>-0.963665</td>\n",
       "      <td>-0.994792</td>\n",
       "      <td>-0.996086</td>\n",
       "      <td>-1.074656</td>\n",
       "    </tr>\n",
       "    <tr>\n",
       "      <th>169</th>\n",
       "      <td>-0.828792</td>\n",
       "      <td>0.326858</td>\n",
       "      <td>-0.551439</td>\n",
       "      <td>-0.975471</td>\n",
       "      <td>-0.525025</td>\n",
       "      <td>1.110076</td>\n",
       "      <td>0.327644</td>\n",
       "      <td>1.093065</td>\n",
       "      <td>0.416648</td>\n",
       "      <td>0.505478</td>\n",
       "      <td>-0.101200</td>\n",
       "      <td>-1.580717</td>\n",
       "      <td>-1.020315</td>\n",
       "      <td>-0.684201</td>\n",
       "      <td>-1.250434</td>\n",
       "      <td>-0.608507</td>\n",
       "      <td>-0.988304</td>\n",
       "      <td>-1.128805</td>\n",
       "      <td>-0.864651</td>\n",
       "      <td>0.581453</td>\n",
       "      <td>-1.112273</td>\n",
       "      <td>-1.168718</td>\n",
       "      <td>-0.256185</td>\n",
       "      <td>-0.341187</td>\n",
       "      <td>-0.566660</td>\n",
       "      <td>-0.892322</td>\n",
       "      <td>-1.155940</td>\n",
       "      <td>-1.068066</td>\n",
       "      <td>-1.094922</td>\n",
       "      <td>-1.014573</td>\n",
       "      <td>-0.909509</td>\n",
       "      <td>-1.220479</td>\n",
       "      <td>-0.380814</td>\n",
       "      <td>-0.268142</td>\n",
       "      <td>-0.445898</td>\n",
       "      <td>-0.293771</td>\n",
       "      <td>-0.963665</td>\n",
       "      <td>-0.994792</td>\n",
       "      <td>-0.996086</td>\n",
       "      <td>-1.074656</td>\n",
       "    </tr>\n",
       "  </tbody>\n",
       "</table>\n",
       "<p>170 rows × 40 columns</p>\n",
       "</div>"
      ],
      "text/plain": [
       "     We don't have time at home as partners.  Even if I'm right in the discussion, I stay silent to hurt my spouse.  We are like two strangers who share the same environment at home rather than family.  I'd rather stay silent than discuss with my spouse.  I mostly stay silent to calm the environment a little bit.  I feel right in our discussions.  I wouldn't hesitate to tell my spouse about her/his inadequacy.  When I discuss with my spouse, I stay silent because I am afraid of not being able to control my anger.  I'm not the one who's wrong about problems at home.  When I discuss, I remind my spouse of her/his inadequacy.  When I argue with my spouse, Ä± only go out and I don't say a word.  I have nothing to do with what I've been accused of.  I'm not actually the one who's guilty about what I'm accused of.  I feel aggressive when I argue with my spouse.  When we need it, we can take our discussions with my spouse from the beginning and correct it.  \\\n",
       "0                                  -0.828792                                                              -0.404272                                                                             -0.551439                                             0.361868                                                   -1.268809                          0.228240                                                         0.327644                                                                                                -0.803068                                            -0.379197                                                  -0.160656                                                            -0.738387                                              0.409816                                                          0.407286                                       -0.684201                                                                                        1.583883   \n",
       "1                                  -0.828792                                                              -0.404272                                                                             -0.551439                                            -0.306801                                                    0.218760                          0.228240                                                         1.006905                                                                                                -0.171024                                             1.212493                                                  -0.160656                                                            -0.101200                                              1.073327                                                          1.121087                                       -1.293176                                                                                        1.583883   \n",
       "2                                   2.499427                                                               0.326858                                                                              1.680577                                            -0.306801                                                   -0.525025                          0.228240                                                        -0.351618                                                                                                -0.171024                                            -1.175042                                                  -0.160656                                                             0.535987                                             -0.917206                                                         -1.020315                                        0.533749                                                                                        0.166725   \n",
       "3                                   2.499427                                                              -0.404272                                                                              2.796586                                             0.361868                                                    0.218760                          0.228240                                                        -0.351618                                                                                                -0.171024                                             0.416648                                                  -0.160656                                                            -0.101200                                              0.409816                                                          0.407286                                       -0.075226                                                                                        0.875304   \n",
       "4                                   0.280615                                                              -0.404272                                                                             -0.551439                                            -0.306801                                                    0.218760                         -0.653596                                                        -0.351618                                                                                                -0.803068                                            -0.379197                                                  -0.826790                                                            -0.101200                                              0.409816                                                         -0.306514                                       -0.684201                                                                                       -0.541855   \n",
       "..                                       ...                                                                    ...                                                                                   ...                                                  ...                                                         ...                               ...                                                              ...                                                                                                      ...                                                  ...                                                        ...                                                                  ...                                                   ...                                                               ...                                             ...                                                                                             ...   \n",
       "165                                -0.828792                                                              -1.135402                                                                             -0.551439                                            -1.644141                                                   -2.012594                          1.110076                                                        -0.351618                                                                                                -1.435113                                             1.212493                                                  -0.160656                                                            -1.375574                                             -0.917206                                                         -1.020315                                        1.142723                                                                                       -1.250434   \n",
       "166                                -0.828792                                                               1.057989                                                                             -0.551439                                             0.361868                                                    0.218760                         -0.653596                                                         0.327644                                                                                                -0.803068                                            -0.379197                                                  -0.160656                                                            -0.738387                                             -0.253695                                                         -0.306514                                       -1.293176                                                                                       -1.250434   \n",
       "167                                -0.828792                                                               0.326858                                                                             -0.551439                                            -0.306801                                                    0.218760                         -0.653596                                                         0.327644                                                                                                -1.435113                                            -1.175042                                                  -1.492924                                                             0.535987                                             -1.580717                                                         -1.020315                                       -0.684201                                                                                       -1.250434   \n",
       "168                                -0.828792                                                               0.326858                                                                             -0.551439                                             1.030538                                                   -1.268809                         -0.653596                                                         1.006905                                                                                                 0.461021                                            -0.379197                                                   0.505478                                                            -0.738387                                             -0.253695                                                          0.407286                                       -1.293176                                                                                       -1.250434   \n",
       "169                                -0.828792                                                               0.326858                                                                             -0.551439                                            -0.975471                                                   -0.525025                          1.110076                                                         0.327644                                                                                                 1.093065                                             0.416648                                                   0.505478                                                            -0.101200                                             -1.580717                                                         -1.020315                                       -0.684201                                                                                       -1.250434   \n",
       "\n",
       "     I'm not afraid to tell my spouse about her/his incompetence;  When I discuss with my spouse, to contact him will eventually work.  I know we can ignore our differences, even if things get hard sometimes.  I know how my spouse wants to be taken care of when she/he sick.  When discussing with my spouse, I usually use expressions such as 'you always' or 'you never' .  Most of our goals are common to my spouse.  I can use offensive expressions during our discussions.  I know my spouse's favorite food.  I can tell you what kind of stress my spouse is facing in her/his life.  My spouse and I have similar sense of entertainment.  I know my spouse's hopes and wishes.  Sometimes I think it's good for me to leave home for a while.  I have knowledge of my spouse's inner world.  If one of us apologizes when our discussion deteriorates, the discussion ends.  I can use negative statements about my spouse's personality during our discussions.  I can insult my spouse during our discussions.  \\\n",
       "0                                                       -0.608507                                                            -0.321591                                                                  0.237009                                                         -0.864651                                                                                        -0.036341                                   -1.112273                                                 0.061511                          -0.878349                                                                -1.007874                                             -0.566660                             -0.892322                                                       0.035028                                     -1.068066                                                                        0.137772                                                                            -0.452757                                       -0.909509   \n",
       "1                                                       -0.007076                                                             1.678548                                                                  1.602823                                                         -0.171299                                                                                         1.199247                                    1.709912                                                 0.676626                          -0.878349                                                                 0.325500                                              1.468527                             -0.892322                                                       1.225997                                      0.242918                                                                        1.370465                                                                             0.109058                                       -0.909509   \n",
       "2                                                       -0.007076                                                             0.345122                                                                  0.237009                                                         -0.864651                                                                                         0.581453                                    0.298820                                                -0.553603                          -0.256185                                                                 0.325500                                              0.111736                              0.474297                                                       0.630512                                      0.242918                                                                        0.137772                                                                            -0.452757                                       -0.365085   \n",
       "3                                                       -0.007076                                                             0.345122                                                                  0.237009                                                         -0.171299                                                                                         0.581453                                    1.004366                                                 0.061511                          -0.256185                                                                -0.341187                                              0.790131                             -0.209012                                                       0.035028                                      0.242918                                                                        0.754118                                                                             0.109058                                       -0.365085   \n",
       "4                                                       -1.209939                                                            -0.321591                                                                  0.237009                                                         -0.864651                                                                                        -0.654135                                   -1.112273                                                -0.553603                          -0.878349                                                                -1.007874                                             -1.245055                              0.474297                                                      -1.155940                                     -1.068066                                                                        0.137772                                                                            -0.452757                                       -0.909509   \n",
       "..                                                            ...                                                                  ...                                                                       ...                                                               ...                                                                                              ...                                         ...                                                      ...                                ...                                                                      ...                                                   ...                                   ...                                                            ...                                           ...                                                                             ...                                                                                  ...                                             ...   \n",
       "165                                                     -0.007076                                                            -0.988304                                                                 -1.128805                                                         -0.864651                                                                                         1.199247                                   -1.112273                                                 1.291741                          -0.878349                                                                -1.007874                                             -1.245055                             -0.892322                                                      -1.155940                                     -1.068066                                                                       -1.094922                                                                             0.670874                                       -0.909509   \n",
       "166                                                     -0.007076                                                            -0.988304                                                                 -1.128805                                                         -0.864651                                                                                        -0.654135                                   -1.112273                                                -0.553603                          -0.878349                                                                -1.007874                                             -1.245055                             -0.892322                                                      -0.560456                                     -1.068066                                                                       -1.094922                                                                            -0.452757                                       -0.365085   \n",
       "167                                                     -1.209939                                                            -0.988304                                                                 -0.445898                                                         -0.864651                                                                                        -0.654135                                   -0.406727                                                -0.553603                          -0.878349                                                                -1.007874                                             -0.566660                             -0.892322                                                      -1.155940                                     -0.412574                                                                       -0.478575                                                                            -1.014573                                       -0.909509   \n",
       "168                                                     -0.608507                                                            -0.988304                                                                 -1.128805                                                         -0.864651                                                                                        -1.271929                                   -1.112273                                                -0.553603                          -0.878349                                                                -1.007874                                             -1.245055                             -0.892322                                                      -1.155940                                     -1.068066                                                                       -1.094922                                                                            -1.014573                                       -0.909509   \n",
       "169                                                     -0.608507                                                            -0.988304                                                                 -1.128805                                                         -0.864651                                                                                         0.581453                                   -1.112273                                                -1.168718                          -0.256185                                                                -0.341187                                             -0.566660                             -0.892322                                                      -1.155940                                     -1.068066                                                                       -1.094922                                                                            -1.014573                                       -0.909509   \n",
       "\n",
       "     My discussion with my spouse is not calm.  Most of our goals for people (children, friends, etc) are the same.  I know exactly what my wife likes.  My spouse and I have similar values in terms of personal freedom.  I enjoy our holidays with my wife.  I know what my spouse's current sources of stress are.  I know my spouse's basic anxieties.  I know my spouse's friends and their social relationships.  I hate my spouse's way of open a subject.  \n",
       "0                                    -0.051570                                                            -0.380814                           -0.958811                                                          -1.128805                           -0.942357                                               -0.963665                            -0.994792                                                   -0.329414                                  -0.496518  \n",
       "1                                     0.532885                                                            -1.048220                           -0.268142                                                           0.919916                            1.651986                                                0.412999                            -0.326355                                                   -0.329414                                   1.237895  \n",
       "2                                    -0.051570                                                             0.953998                           -0.268142                                                           1.602823                           -0.293771                                                0.412999                             0.342083                                                    0.337257                                  -0.496518  \n",
       "3                                     0.532885                                                             1.621404                           -0.268142                                                           0.919916                            1.003400                                               -0.275333                            -0.326355                                                    1.003929                                   0.659757  \n",
       "4                                    -1.220479                                                            -0.380814                           -0.268142                                                          -0.445898                           -0.942357                                               -0.275333                             0.342083                                                   -0.329414                                  -1.074656  \n",
       "..                                         ...                                                                  ...                                 ...                                                                ...                                 ...                                                     ...                                  ...                                                         ...                                        ...  \n",
       "165                                   1.117340                                                            -1.048220                           -0.958811                                                          -1.128805                           -0.942357                                               -0.963665                            -0.994792                                                   -0.996086                                  -1.074656  \n",
       "166                                  -0.636024                                                            -1.048220                           -0.958811                                                          -1.128805                           -0.942357                                               -0.963665                            -0.994792                                                   -0.996086                                  -0.496518  \n",
       "167                                  -0.636024                                                            -1.048220                           -0.958811                                                          -0.445898                           -0.942357                                               -0.275333                            -0.326355                                                   -0.329414                                  -0.496518  \n",
       "168                                  -0.636024                                                            -1.048220                           -0.958811                                                          -0.445898                           -0.942357                                               -0.963665                            -0.994792                                                   -0.996086                                  -1.074656  \n",
       "169                                  -1.220479                                                            -0.380814                           -0.268142                                                          -0.445898                           -0.293771                                               -0.963665                            -0.994792                                                   -0.996086                                  -1.074656  \n",
       "\n",
       "[170 rows x 40 columns]"
      ]
     },
     "execution_count": 279,
     "metadata": {},
     "output_type": "execute_result"
    }
   ],
   "source": [
    "pd.DataFrame(data = divorces['data'], columns = divorces['feature_names'])"
   ]
  },
  {
   "cell_type": "code",
   "execution_count": 280,
   "metadata": {},
   "outputs": [
    {
     "data": {
      "text/html": [
       "<div>\n",
       "<style scoped>\n",
       "    .dataframe tbody tr th:only-of-type {\n",
       "        vertical-align: middle;\n",
       "    }\n",
       "\n",
       "    .dataframe tbody tr th {\n",
       "        vertical-align: top;\n",
       "    }\n",
       "\n",
       "    .dataframe thead th {\n",
       "        text-align: right;\n",
       "    }\n",
       "</style>\n",
       "<table border=\"1\" class=\"dataframe\">\n",
       "  <thead>\n",
       "    <tr style=\"text-align: right;\">\n",
       "      <th></th>\n",
       "      <th>principal component 1</th>\n",
       "      <th>principal component 2</th>\n",
       "      <th>principal component 3</th>\n",
       "      <th>principal component 4</th>\n",
       "      <th>principal component 5</th>\n",
       "    </tr>\n",
       "  </thead>\n",
       "  <tbody>\n",
       "    <tr>\n",
       "      <th>0</th>\n",
       "      <td>-2.715605</td>\n",
       "      <td>0.098103</td>\n",
       "      <td>0.821666</td>\n",
       "      <td>-1.124722</td>\n",
       "      <td>1.711504</td>\n",
       "    </tr>\n",
       "    <tr>\n",
       "      <th>1</th>\n",
       "      <td>2.414613</td>\n",
       "      <td>1.239933</td>\n",
       "      <td>-0.273937</td>\n",
       "      <td>-1.295463</td>\n",
       "      <td>2.251730</td>\n",
       "    </tr>\n",
       "    <tr>\n",
       "      <th>2</th>\n",
       "      <td>0.425987</td>\n",
       "      <td>1.959976</td>\n",
       "      <td>0.172663</td>\n",
       "      <td>2.963106</td>\n",
       "      <td>-0.706512</td>\n",
       "    </tr>\n",
       "    <tr>\n",
       "      <th>3</th>\n",
       "      <td>1.922123</td>\n",
       "      <td>2.386541</td>\n",
       "      <td>0.870573</td>\n",
       "      <td>2.932251</td>\n",
       "      <td>0.980046</td>\n",
       "    </tr>\n",
       "    <tr>\n",
       "      <th>4</th>\n",
       "      <td>-3.300918</td>\n",
       "      <td>-0.070437</td>\n",
       "      <td>-0.742506</td>\n",
       "      <td>0.382754</td>\n",
       "      <td>0.445173</td>\n",
       "    </tr>\n",
       "    <tr>\n",
       "      <th>...</th>\n",
       "      <td>...</td>\n",
       "      <td>...</td>\n",
       "      <td>...</td>\n",
       "      <td>...</td>\n",
       "      <td>...</td>\n",
       "    </tr>\n",
       "    <tr>\n",
       "      <th>165</th>\n",
       "      <td>-3.883190</td>\n",
       "      <td>0.889201</td>\n",
       "      <td>3.453061</td>\n",
       "      <td>-2.697467</td>\n",
       "      <td>0.358084</td>\n",
       "    </tr>\n",
       "    <tr>\n",
       "      <th>166</th>\n",
       "      <td>-4.332214</td>\n",
       "      <td>-2.227939</td>\n",
       "      <td>0.604140</td>\n",
       "      <td>-0.291516</td>\n",
       "      <td>0.161748</td>\n",
       "    </tr>\n",
       "    <tr>\n",
       "      <th>167</th>\n",
       "      <td>-4.390642</td>\n",
       "      <td>-0.624259</td>\n",
       "      <td>-0.940943</td>\n",
       "      <td>0.116325</td>\n",
       "      <td>-0.607682</td>\n",
       "    </tr>\n",
       "    <tr>\n",
       "      <th>168</th>\n",
       "      <td>-4.507167</td>\n",
       "      <td>-2.059660</td>\n",
       "      <td>0.641162</td>\n",
       "      <td>-0.571096</td>\n",
       "      <td>0.612361</td>\n",
       "    </tr>\n",
       "    <tr>\n",
       "      <th>169</th>\n",
       "      <td>-3.742701</td>\n",
       "      <td>-1.350685</td>\n",
       "      <td>0.733460</td>\n",
       "      <td>-0.668440</td>\n",
       "      <td>0.559642</td>\n",
       "    </tr>\n",
       "  </tbody>\n",
       "</table>\n",
       "<p>170 rows × 5 columns</p>\n",
       "</div>"
      ],
      "text/plain": [
       "     principal component 1  principal component 2  principal component 3  principal component 4  principal component 5\n",
       "0                -2.715605               0.098103               0.821666              -1.124722               1.711504\n",
       "1                 2.414613               1.239933              -0.273937              -1.295463               2.251730\n",
       "2                 0.425987               1.959976               0.172663               2.963106              -0.706512\n",
       "3                 1.922123               2.386541               0.870573               2.932251               0.980046\n",
       "4                -3.300918              -0.070437              -0.742506               0.382754               0.445173\n",
       "..                     ...                    ...                    ...                    ...                    ...\n",
       "165              -3.883190               0.889201               3.453061              -2.697467               0.358084\n",
       "166              -4.332214              -2.227939               0.604140              -0.291516               0.161748\n",
       "167              -4.390642              -0.624259              -0.940943               0.116325              -0.607682\n",
       "168              -4.507167              -2.059660               0.641162              -0.571096               0.612361\n",
       "169              -3.742701              -1.350685               0.733460              -0.668440               0.559642\n",
       "\n",
       "[170 rows x 5 columns]"
      ]
     },
     "execution_count": 280,
     "metadata": {},
     "output_type": "execute_result"
    }
   ],
   "source": [
    "pd.DataFrame(data = model_pc, columns = ['principal component 1', 'principal component 2', 'principal component 3', 'principal component 4','principal component 5'])"
   ]
  },
  {
   "cell_type": "markdown",
   "metadata": {},
   "source": [
    "Na podstawie 40 originalnych cech powstało 5 nowych."
   ]
  },
  {
   "cell_type": "markdown",
   "metadata": {},
   "source": [
    "#### Nowe cechy"
   ]
  },
  {
   "cell_type": "code",
   "execution_count": 281,
   "metadata": {
    "scrolled": true
   },
   "outputs": [
    {
     "data": {
      "text/html": [
       "<div>\n",
       "<style scoped>\n",
       "    .dataframe tbody tr th:only-of-type {\n",
       "        vertical-align: middle;\n",
       "    }\n",
       "\n",
       "    .dataframe tbody tr th {\n",
       "        vertical-align: top;\n",
       "    }\n",
       "\n",
       "    .dataframe thead th {\n",
       "        text-align: right;\n",
       "    }\n",
       "</style>\n",
       "<table border=\"1\" class=\"dataframe\">\n",
       "  <thead>\n",
       "    <tr style=\"text-align: right;\">\n",
       "      <th></th>\n",
       "      <th>We don't have time at home as partners.</th>\n",
       "      <th>Even if I'm right in the discussion, I stay silent to hurt my spouse.</th>\n",
       "      <th>We are like two strangers who share the same environment at home rather than family.</th>\n",
       "      <th>I'd rather stay silent than discuss with my spouse.</th>\n",
       "      <th>I mostly stay silent to calm the environment a little bit.</th>\n",
       "      <th>I feel right in our discussions.</th>\n",
       "      <th>I wouldn't hesitate to tell my spouse about her/his inadequacy.</th>\n",
       "      <th>When I discuss with my spouse, I stay silent because I am afraid of not being able to control my anger.</th>\n",
       "      <th>I'm not the one who's wrong about problems at home.</th>\n",
       "      <th>When I discuss, I remind my spouse of her/his inadequacy.</th>\n",
       "      <th>When I argue with my spouse, Ä± only go out and I don't say a word.</th>\n",
       "      <th>I have nothing to do with what I've been accused of.</th>\n",
       "      <th>I'm not actually the one who's guilty about what I'm accused of.</th>\n",
       "      <th>I feel aggressive when I argue with my spouse.</th>\n",
       "      <th>When we need it, we can take our discussions with my spouse from the beginning and correct it.</th>\n",
       "      <th>I'm not afraid to tell my spouse about her/his incompetence;</th>\n",
       "      <th>When I discuss with my spouse, to contact him will eventually work.</th>\n",
       "      <th>I know we can ignore our differences, even if things get hard sometimes.</th>\n",
       "      <th>I know how my spouse wants to be taken care of when she/he sick.</th>\n",
       "      <th>When discussing with my spouse, I usually use expressions such as 'you always' or 'you never' .</th>\n",
       "      <th>Most of our goals are common to my spouse.</th>\n",
       "      <th>I can use offensive expressions during our discussions.</th>\n",
       "      <th>I know my spouse's favorite food.</th>\n",
       "      <th>I can tell you what kind of stress my spouse is facing in her/his life.</th>\n",
       "      <th>My spouse and I have similar sense of entertainment.</th>\n",
       "      <th>I know my spouse's hopes and wishes.</th>\n",
       "      <th>Sometimes I think it's good for me to leave home for a while.</th>\n",
       "      <th>I have knowledge of my spouse's inner world.</th>\n",
       "      <th>If one of us apologizes when our discussion deteriorates, the discussion ends.</th>\n",
       "      <th>I can use negative statements about my spouse's personality during our discussions.</th>\n",
       "      <th>I can insult my spouse during our discussions.</th>\n",
       "      <th>My discussion with my spouse is not calm.</th>\n",
       "      <th>Most of our goals for people (children, friends, etc) are the same.</th>\n",
       "      <th>I know exactly what my wife likes.</th>\n",
       "      <th>My spouse and I have similar values in terms of personal freedom.</th>\n",
       "      <th>I enjoy our holidays with my wife.</th>\n",
       "      <th>I know what my spouse's current sources of stress are.</th>\n",
       "      <th>I know my spouse's basic anxieties.</th>\n",
       "      <th>I know my spouse's friends and their social relationships.</th>\n",
       "      <th>I hate my spouse's way of open a subject.</th>\n",
       "    </tr>\n",
       "  </thead>\n",
       "  <tbody>\n",
       "    <tr>\n",
       "      <th>PC1</th>\n",
       "      <td>0.055657</td>\n",
       "      <td>0.106367</td>\n",
       "      <td>0.085048</td>\n",
       "      <td>0.120104</td>\n",
       "      <td>0.122175</td>\n",
       "      <td>0.134737</td>\n",
       "      <td>0.135275</td>\n",
       "      <td>0.144973</td>\n",
       "      <td>0.149550</td>\n",
       "      <td>0.146849</td>\n",
       "      <td>0.150931</td>\n",
       "      <td>0.151528</td>\n",
       "      <td>0.157484</td>\n",
       "      <td>0.160341</td>\n",
       "      <td>0.154536</td>\n",
       "      <td>0.167397</td>\n",
       "      <td>0.160571</td>\n",
       "      <td>0.163805</td>\n",
       "      <td>0.174003</td>\n",
       "      <td>0.165440</td>\n",
       "      <td>0.162811</td>\n",
       "      <td>0.168947</td>\n",
       "      <td>0.176170</td>\n",
       "      <td>0.172103</td>\n",
       "      <td>0.169489</td>\n",
       "      <td>0.170225</td>\n",
       "      <td>0.164668</td>\n",
       "      <td>0.172482</td>\n",
       "      <td>0.166139</td>\n",
       "      <td>0.176688</td>\n",
       "      <td>0.177399</td>\n",
       "      <td>0.170932</td>\n",
       "      <td>0.169833</td>\n",
       "      <td>0.177302</td>\n",
       "      <td>0.168956</td>\n",
       "      <td>0.173131</td>\n",
       "      <td>0.175936</td>\n",
       "      <td>0.172514</td>\n",
       "      <td>0.173599</td>\n",
       "      <td>0.172487</td>\n",
       "    </tr>\n",
       "    <tr>\n",
       "      <th>PC2</th>\n",
       "      <td>0.109797</td>\n",
       "      <td>-0.431664</td>\n",
       "      <td>0.326144</td>\n",
       "      <td>-0.372041</td>\n",
       "      <td>-0.355503</td>\n",
       "      <td>-0.037834</td>\n",
       "      <td>-0.189375</td>\n",
       "      <td>-0.287908</td>\n",
       "      <td>-0.073243</td>\n",
       "      <td>-0.063659</td>\n",
       "      <td>-0.171007</td>\n",
       "      <td>-0.095375</td>\n",
       "      <td>-0.079170</td>\n",
       "      <td>-0.005526</td>\n",
       "      <td>0.202537</td>\n",
       "      <td>-0.061851</td>\n",
       "      <td>0.176771</td>\n",
       "      <td>0.134417</td>\n",
       "      <td>0.025345</td>\n",
       "      <td>0.079171</td>\n",
       "      <td>0.196731</td>\n",
       "      <td>-0.011621</td>\n",
       "      <td>-0.097649</td>\n",
       "      <td>0.067578</td>\n",
       "      <td>0.053643</td>\n",
       "      <td>0.048934</td>\n",
       "      <td>-0.072135</td>\n",
       "      <td>-0.000934</td>\n",
       "      <td>0.124384</td>\n",
       "      <td>-0.012151</td>\n",
       "      <td>-0.054849</td>\n",
       "      <td>0.068995</td>\n",
       "      <td>0.122538</td>\n",
       "      <td>0.017098</td>\n",
       "      <td>0.166107</td>\n",
       "      <td>0.077597</td>\n",
       "      <td>0.023336</td>\n",
       "      <td>0.084580</td>\n",
       "      <td>0.103998</td>\n",
       "      <td>0.029853</td>\n",
       "    </tr>\n",
       "    <tr>\n",
       "      <th>PC3</th>\n",
       "      <td>0.429408</td>\n",
       "      <td>0.003569</td>\n",
       "      <td>0.113134</td>\n",
       "      <td>-0.193513</td>\n",
       "      <td>-0.234097</td>\n",
       "      <td>0.172871</td>\n",
       "      <td>0.236550</td>\n",
       "      <td>-0.060291</td>\n",
       "      <td>0.215241</td>\n",
       "      <td>0.304545</td>\n",
       "      <td>-0.074565</td>\n",
       "      <td>0.029458</td>\n",
       "      <td>0.097558</td>\n",
       "      <td>0.161422</td>\n",
       "      <td>-0.020823</td>\n",
       "      <td>0.162724</td>\n",
       "      <td>-0.083497</td>\n",
       "      <td>-0.211884</td>\n",
       "      <td>-0.093541</td>\n",
       "      <td>0.187706</td>\n",
       "      <td>-0.098943</td>\n",
       "      <td>0.200643</td>\n",
       "      <td>-0.046524</td>\n",
       "      <td>-0.171711</td>\n",
       "      <td>-0.029779</td>\n",
       "      <td>-0.112713</td>\n",
       "      <td>0.001126</td>\n",
       "      <td>-0.053085</td>\n",
       "      <td>-0.037502</td>\n",
       "      <td>0.158644</td>\n",
       "      <td>0.093849</td>\n",
       "      <td>0.164301</td>\n",
       "      <td>-0.171179</td>\n",
       "      <td>-0.051344</td>\n",
       "      <td>-0.173515</td>\n",
       "      <td>-0.133694</td>\n",
       "      <td>-0.105323</td>\n",
       "      <td>-0.208662</td>\n",
       "      <td>-0.101666</td>\n",
       "      <td>0.108902</td>\n",
       "    </tr>\n",
       "    <tr>\n",
       "      <th>PC4</th>\n",
       "      <td>0.642439</td>\n",
       "      <td>0.067962</td>\n",
       "      <td>0.491385</td>\n",
       "      <td>0.223385</td>\n",
       "      <td>0.264555</td>\n",
       "      <td>-0.082065</td>\n",
       "      <td>-0.108453</td>\n",
       "      <td>0.132090</td>\n",
       "      <td>-0.142924</td>\n",
       "      <td>-0.152050</td>\n",
       "      <td>0.160912</td>\n",
       "      <td>-0.052933</td>\n",
       "      <td>-0.086329</td>\n",
       "      <td>-0.105233</td>\n",
       "      <td>-0.007524</td>\n",
       "      <td>-0.071742</td>\n",
       "      <td>-0.042865</td>\n",
       "      <td>-0.087930</td>\n",
       "      <td>-0.041278</td>\n",
       "      <td>-0.035109</td>\n",
       "      <td>0.035513</td>\n",
       "      <td>-0.116848</td>\n",
       "      <td>-0.049426</td>\n",
       "      <td>-0.009168</td>\n",
       "      <td>0.012927</td>\n",
       "      <td>-0.020646</td>\n",
       "      <td>0.166588</td>\n",
       "      <td>-0.029247</td>\n",
       "      <td>0.000766</td>\n",
       "      <td>-0.078137</td>\n",
       "      <td>-0.065087</td>\n",
       "      <td>-0.091503</td>\n",
       "      <td>0.032278</td>\n",
       "      <td>0.010522</td>\n",
       "      <td>0.030022</td>\n",
       "      <td>-0.057988</td>\n",
       "      <td>0.069672</td>\n",
       "      <td>0.015472</td>\n",
       "      <td>0.001377</td>\n",
       "      <td>-0.031847</td>\n",
       "    </tr>\n",
       "    <tr>\n",
       "      <th>PC5</th>\n",
       "      <td>-0.199429</td>\n",
       "      <td>0.056969</td>\n",
       "      <td>0.269192</td>\n",
       "      <td>0.091875</td>\n",
       "      <td>-0.037231</td>\n",
       "      <td>0.441324</td>\n",
       "      <td>-0.143140</td>\n",
       "      <td>0.088621</td>\n",
       "      <td>0.372279</td>\n",
       "      <td>-0.152751</td>\n",
       "      <td>0.045161</td>\n",
       "      <td>0.312821</td>\n",
       "      <td>0.327420</td>\n",
       "      <td>-0.129439</td>\n",
       "      <td>0.187160</td>\n",
       "      <td>-0.135419</td>\n",
       "      <td>0.145804</td>\n",
       "      <td>0.117645</td>\n",
       "      <td>-0.109063</td>\n",
       "      <td>0.032132</td>\n",
       "      <td>-0.005462</td>\n",
       "      <td>-0.116862</td>\n",
       "      <td>-0.156752</td>\n",
       "      <td>-0.044316</td>\n",
       "      <td>-0.059469</td>\n",
       "      <td>-0.177911</td>\n",
       "      <td>-0.000811</td>\n",
       "      <td>-0.138456</td>\n",
       "      <td>0.079456</td>\n",
       "      <td>-0.074689</td>\n",
       "      <td>-0.144230</td>\n",
       "      <td>-0.046467</td>\n",
       "      <td>-0.039985</td>\n",
       "      <td>-0.088348</td>\n",
       "      <td>0.011559</td>\n",
       "      <td>-0.060860</td>\n",
       "      <td>-0.019953</td>\n",
       "      <td>-0.069288</td>\n",
       "      <td>-0.110271</td>\n",
       "      <td>-0.066139</td>\n",
       "    </tr>\n",
       "  </tbody>\n",
       "</table>\n",
       "</div>"
      ],
      "text/plain": [
       "     We don't have time at home as partners.  Even if I'm right in the discussion, I stay silent to hurt my spouse.  We are like two strangers who share the same environment at home rather than family.  I'd rather stay silent than discuss with my spouse.  I mostly stay silent to calm the environment a little bit.  I feel right in our discussions.  I wouldn't hesitate to tell my spouse about her/his inadequacy.  When I discuss with my spouse, I stay silent because I am afraid of not being able to control my anger.  I'm not the one who's wrong about problems at home.  When I discuss, I remind my spouse of her/his inadequacy.  When I argue with my spouse, Ä± only go out and I don't say a word.  I have nothing to do with what I've been accused of.  I'm not actually the one who's guilty about what I'm accused of.  I feel aggressive when I argue with my spouse.  When we need it, we can take our discussions with my spouse from the beginning and correct it.  \\\n",
       "PC1                                 0.055657                                                               0.106367                                                                              0.085048                                             0.120104                                                    0.122175                          0.134737                                                         0.135275                                                                                                 0.144973                                             0.149550                                                   0.146849                                                             0.150931                                              0.151528                                                          0.157484                                        0.160341                                                                                        0.154536   \n",
       "PC2                                 0.109797                                                              -0.431664                                                                              0.326144                                            -0.372041                                                   -0.355503                         -0.037834                                                        -0.189375                                                                                                -0.287908                                            -0.073243                                                  -0.063659                                                            -0.171007                                             -0.095375                                                         -0.079170                                       -0.005526                                                                                        0.202537   \n",
       "PC3                                 0.429408                                                               0.003569                                                                              0.113134                                            -0.193513                                                   -0.234097                          0.172871                                                         0.236550                                                                                                -0.060291                                             0.215241                                                   0.304545                                                            -0.074565                                              0.029458                                                          0.097558                                        0.161422                                                                                       -0.020823   \n",
       "PC4                                 0.642439                                                               0.067962                                                                              0.491385                                             0.223385                                                    0.264555                         -0.082065                                                        -0.108453                                                                                                 0.132090                                            -0.142924                                                  -0.152050                                                             0.160912                                             -0.052933                                                         -0.086329                                       -0.105233                                                                                       -0.007524   \n",
       "PC5                                -0.199429                                                               0.056969                                                                              0.269192                                             0.091875                                                   -0.037231                          0.441324                                                        -0.143140                                                                                                 0.088621                                             0.372279                                                  -0.152751                                                             0.045161                                              0.312821                                                          0.327420                                       -0.129439                                                                                        0.187160   \n",
       "\n",
       "     I'm not afraid to tell my spouse about her/his incompetence;  When I discuss with my spouse, to contact him will eventually work.  I know we can ignore our differences, even if things get hard sometimes.  I know how my spouse wants to be taken care of when she/he sick.  When discussing with my spouse, I usually use expressions such as 'you always' or 'you never' .  Most of our goals are common to my spouse.  I can use offensive expressions during our discussions.  I know my spouse's favorite food.  I can tell you what kind of stress my spouse is facing in her/his life.  My spouse and I have similar sense of entertainment.  I know my spouse's hopes and wishes.  Sometimes I think it's good for me to leave home for a while.  I have knowledge of my spouse's inner world.  If one of us apologizes when our discussion deteriorates, the discussion ends.  I can use negative statements about my spouse's personality during our discussions.  I can insult my spouse during our discussions.  \\\n",
       "PC1                                                      0.167397                                                             0.160571                                                                  0.163805                                                          0.174003                                                                                         0.165440                                    0.162811                                                 0.168947                           0.176170                                                                 0.172103                                              0.169489                              0.170225                                                       0.164668                                      0.172482                                                                        0.166139                                                                             0.176688                                        0.177399   \n",
       "PC2                                                     -0.061851                                                             0.176771                                                                  0.134417                                                          0.025345                                                                                         0.079171                                    0.196731                                                -0.011621                          -0.097649                                                                 0.067578                                              0.053643                              0.048934                                                      -0.072135                                     -0.000934                                                                        0.124384                                                                            -0.012151                                       -0.054849   \n",
       "PC3                                                      0.162724                                                            -0.083497                                                                 -0.211884                                                         -0.093541                                                                                         0.187706                                   -0.098943                                                 0.200643                          -0.046524                                                                -0.171711                                             -0.029779                             -0.112713                                                       0.001126                                     -0.053085                                                                       -0.037502                                                                             0.158644                                        0.093849   \n",
       "PC4                                                     -0.071742                                                            -0.042865                                                                 -0.087930                                                         -0.041278                                                                                        -0.035109                                    0.035513                                                -0.116848                          -0.049426                                                                -0.009168                                              0.012927                             -0.020646                                                       0.166588                                     -0.029247                                                                        0.000766                                                                            -0.078137                                       -0.065087   \n",
       "PC5                                                     -0.135419                                                             0.145804                                                                  0.117645                                                         -0.109063                                                                                         0.032132                                   -0.005462                                                -0.116862                          -0.156752                                                                -0.044316                                             -0.059469                             -0.177911                                                      -0.000811                                     -0.138456                                                                        0.079456                                                                            -0.074689                                       -0.144230   \n",
       "\n",
       "     My discussion with my spouse is not calm.  Most of our goals for people (children, friends, etc) are the same.  I know exactly what my wife likes.  My spouse and I have similar values in terms of personal freedom.  I enjoy our holidays with my wife.  I know what my spouse's current sources of stress are.  I know my spouse's basic anxieties.  I know my spouse's friends and their social relationships.  I hate my spouse's way of open a subject.  \n",
       "PC1                                   0.170932                                                             0.169833                            0.177302                                                           0.168956                            0.173131                                                0.175936                             0.172514                                                    0.173599                                   0.172487  \n",
       "PC2                                   0.068995                                                             0.122538                            0.017098                                                           0.166107                            0.077597                                                0.023336                             0.084580                                                    0.103998                                   0.029853  \n",
       "PC3                                   0.164301                                                            -0.171179                           -0.051344                                                          -0.173515                           -0.133694                                               -0.105323                            -0.208662                                                   -0.101666                                   0.108902  \n",
       "PC4                                  -0.091503                                                             0.032278                            0.010522                                                           0.030022                           -0.057988                                                0.069672                             0.015472                                                    0.001377                                  -0.031847  \n",
       "PC5                                  -0.046467                                                            -0.039985                           -0.088348                                                           0.011559                           -0.060860                                               -0.019953                            -0.069288                                                   -0.110271                                  -0.066139  "
      ]
     },
     "execution_count": 281,
     "metadata": {},
     "output_type": "execute_result"
    }
   ],
   "source": [
    "from sklearn import preprocessing\n",
    "\n",
    "df = pd.DataFrame(data = divorces['data'], columns = divorces['feature_names'])\n",
    "pca.fit_transform(divorces['data'])\n",
    "data_scaled = pd.DataFrame(preprocessing.scale(df),columns = df.columns) \n",
    "pd.DataFrame(pca.components_,columns=data_scaled.columns,index = ['PC1','PC2','PC3','PC4','PC5'])"
   ]
  },
  {
   "cell_type": "markdown",
   "metadata": {},
   "source": [
    "Jak widać obie nowe cechy są pewną kombinacją originalnych cech."
   ]
  },
  {
   "cell_type": "markdown",
   "metadata": {},
   "source": [
    "#### Wizualizacja ważności cech"
   ]
  },
  {
   "cell_type": "markdown",
   "metadata": {},
   "source": [
    "Cechy originalne"
   ]
  },
  {
   "cell_type": "code",
   "execution_count": 282,
   "metadata": {},
   "outputs": [
    {
     "data": {
      "image/png": "[encoded data removed]",
      "text/plain": [
       "<Figure size 1440x576 with 1 Axes>"
      ]
     },
     "metadata": {
      "needs_background": "light"
     },
     "output_type": "display_data"
    }
   ],
   "source": [
    "classifier = classifier.fit(divorces['data'], divorces['target'])\n",
    "\n",
    "# treści pytań są długie, wykres etykietujemy więc samymi ich numerami\n",
    "labels = np.array(['question' + str(i) for i in range(1, len(divorces['feature_names']) + 1)])\n",
    "plot_feature_importances(classifier, labels, size=(20, 8))"
   ]
  },
  {
   "cell_type": "markdown",
   "metadata": {},
   "source": [
    "Nowe cechy"
   ]
  },
  {
   "cell_type": "code",
   "execution_count": 283,
   "metadata": {},
   "outputs": [
    {
     "data": {
      "text/plain": [
       "<matplotlib.axes._subplots.AxesSubplot at 0x2181fcb6278>"
      ]
     },
     "execution_count": 283,
     "metadata": {},
     "output_type": "execute_result"
    },
    {
     "data": {
      "image/png": "[encoded data removed]",
      "text/plain": [
       "<Figure size 432x288 with 1 Axes>"
      ]
     },
     "metadata": {
      "needs_background": "light"
     },
     "output_type": "display_data"
    }
   ],
   "source": [
    "df = pd.DataFrame({'variance':pca.explained_variance_, 'PC':['PC1','PC2','PC3','PC4','PC5']})\n",
    "sns.barplot(x='PC',y=\"variance\", data=df, color=\"c\")"
   ]
  },
  {
   "cell_type": "code",
   "execution_count": null,
   "metadata": {},
   "outputs": [],
   "source": []
  }
 ],
 "metadata": {
  "kernelspec": {
   "display_name": "Python 3",
   "language": "python",
   "name": "python3"
  },
  "language_info": {
   "codemirror_mode": {
    "name": "ipython",
    "version": 3
   },
   "file_extension": ".py",
   "mimetype": "text/x-python",
   "name": "python",
   "nbconvert_exporter": "python",
   "pygments_lexer": "ipython3",
   "version": "3.7.1"
  }
 },
 "nbformat": 4,
 "nbformat_minor": 2
}
